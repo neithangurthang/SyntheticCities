{
 "cells": [
  {
   "cell_type": "markdown",
   "id": "dd97f7c3-a9bf-4d6a-9377-9422535e799a",
   "metadata": {},
   "source": [
    "# RL Notebook"
   ]
  },
  {
   "cell_type": "code",
   "execution_count": 11,
   "id": "633518c9-f30a-4242-85c5-a9291144a1b3",
   "metadata": {},
   "outputs": [],
   "source": [
    "# pip install pygame\n",
    "# pip install gym==0.26.2\n",
    "# pip install git+https://github.com/carlosluis/stable-baselines3@fix_tests # compatible with gym 0.24+"
   ]
  },
  {
   "cell_type": "code",
   "execution_count": 1,
   "id": "33130374-76f4-490f-a47d-40b494634c09",
   "metadata": {},
   "outputs": [],
   "source": [
    "import gym\n",
    "from gym import Env\n",
    "from gym import spaces\n",
    "from gym.spaces import Discrete, Box\n",
    "import random\n",
    "import math \n",
    "\n",
    "import pygame\n",
    "import stable_baselines3\n",
    "from stable_baselines3 import PPO, A2C, SAC, TD3, DQN\n",
    "\n",
    "from PIL import Image\n",
    "import torch\n",
    "import torchvision.transforms.functional as TF\n",
    "\n",
    "# listing img files in directory data\n",
    "from os import listdir\n",
    "from os.path import isfile, join\n",
    "\n",
    "import numpy as np\n",
    "import matplotlib\n",
    "import matplotlib.pyplot as plt\n",
    "# set up matplotlib\n",
    "is_ipython = 'inline' in matplotlib.get_backend()\n",
    "if is_ipython:\n",
    "    from IPython import display\n",
    "\n",
    "\n",
    "from collections import namedtuple, deque\n",
    "from itertools import count\n",
    "import torch\n",
    "import torch.nn as nn\n",
    "import torch.optim as optim\n",
    "import torch.nn.functional as F\n",
    "\n",
    "%matplotlib inline\n",
    "%load_ext autoreload\n",
    "%autoreload 2"
   ]
  },
  {
   "cell_type": "markdown",
   "id": "b6581e60-fafa-4701-8939-89035ca7f6c5",
   "metadata": {
    "tags": []
   },
   "source": [
    "# XY. Create custom environment"
   ]
  },
  {
   "cell_type": "code",
   "execution_count": 388,
   "id": "2f3bd234-deba-422b-a9fe-5c01742ad323",
   "metadata": {
    "tags": []
   },
   "outputs": [],
   "source": [
    "## import gym\n",
    "## from gym import spaces\n",
    "## import pygame\n",
    "## import numpy as np\n",
    "## import stable_baselines3"
   ]
  },
  {
   "cell_type": "code",
   "execution_count": 17,
   "id": "01d7053e-3c87-4f89-8b7b-6f757f053ed5",
   "metadata": {
    "tags": []
   },
   "outputs": [],
   "source": [
    "### class TestEnv(gym.Env):\n",
    "###     metadata = {\"render_modes\": [\"human\", \"rgb_array\"], \"render_fps\": 4}\n",
    "### \n",
    "###     def __init__(self, render_mode=None, size=5):\n",
    "###         self.size = size  # The size of the square grid\n",
    "###         self.window_size = 512  # The size of the PyGame window\n",
    "### \n",
    "###         # Observations are dictionaries with the agent's and the target's location.\n",
    "###         # Each location is encoded as an element of {0, ..., `size`}^2, i.e. MultiDiscrete([size, size]).\n",
    "###         self.observation_space = spaces.Dict(\n",
    "###             {\n",
    "###                 \"agent\": spaces.Box(0, size - 1, shape=(2,), dtype=int),\n",
    "###                 \"target\": spaces.Box(0, size - 1, shape=(2,), dtype=int),\n",
    "###             }\n",
    "###         )\n",
    "### \n",
    "###         # We have 4 actions, corresponding to \"right\", \"up\", \"left\", \"down\"\n",
    "###         self.action_space = spaces.Discrete(4)\n",
    "### \n",
    "###         \"\"\"\n",
    "###         The following dictionary maps abstract actions from `self.action_space` to \n",
    "###         the direction we will walk in if that action is taken.\n",
    "###         I.e. 0 corresponds to \"right\", 1 to \"up\" etc.\n",
    "###         \"\"\"\n",
    "###         self._action_to_direction = {\n",
    "###             0: np.array([1, 0]),\n",
    "###             1: np.array([0, 1]),\n",
    "###             2: np.array([-1, 0]),\n",
    "###             3: np.array([0, -1]),\n",
    "###         }\n",
    "### \n",
    "###         assert render_mode is None or render_mode in self.metadata[\"render_modes\"]\n",
    "###         self.render_mode = render_mode\n",
    "### \n",
    "###         \"\"\"\n",
    "###         If human-rendering is used, `self.window` will be a reference\n",
    "###         to the window that we draw to. `self.clock` will be a clock that is used\n",
    "###         to ensure that the environment is rendered at the correct framerate in\n",
    "###         human-mode. They will remain `None` until human-mode is used for the\n",
    "###         first time.\n",
    "###         \"\"\"\n",
    "###         self.window = None\n",
    "###         self.clock = None\n",
    "###     \n",
    "###     def _get_obs(self):\n",
    "###         return {\"agent\": self._agent_location, \"target\": self._target_location}\n",
    "###     \n",
    "###     def _get_info(self):\n",
    "###         return {\"distance\": np.linalg.norm(self._agent_location - self._target_location, ord=1)}\n",
    "### \n",
    "###     def reset(self, seed=None, options=None):\n",
    "###         # We need the following line to seed self.np_random\n",
    "###         super().reset(seed=seed)\n",
    "### \n",
    "###         # Choose the agent's location uniformly at random\n",
    "###         self._agent_location = self.np_random.integers(0, self.size, size=2, dtype=int)\n",
    "### \n",
    "###         # We will sample the target's location randomly until it does not coincide with the agent's location\n",
    "###         self._target_location = self._agent_location\n",
    "###         while np.array_equal(self._target_location, self._agent_location):\n",
    "###             self._target_location = self.np_random.integers(\n",
    "###                 0, self.size, size=2, dtype=int\n",
    "###             )\n",
    "### \n",
    "###         observation = self._get_obs()\n",
    "###         info = self._get_info()\n",
    "### \n",
    "###         if self.render_mode == \"human\":\n",
    "###             self._render_frame()\n",
    "### \n",
    "###         return observation, info\n",
    "###     \n",
    "###     def step(self, action):\n",
    "###         # Map the action (element of {0,1,2,3}) to the direction we walk in\n",
    "###         direction = self._action_to_direction[action]\n",
    "###         # We use `np.clip` to make sure we don't leave the grid\n",
    "###         self._agent_location = np.clip(\n",
    "###             self._agent_location + direction, 0, self.size - 1\n",
    "###         )\n",
    "###         # An episode is done iff the agent has reached the target\n",
    "###         terminated = np.array_equal(self._agent_location, self._target_location)\n",
    "###         reward = 1 if terminated else 0  # Binary sparse rewards\n",
    "###         observation = self._get_obs()\n",
    "###         info = self._get_info()\n",
    "### \n",
    "###         if self.render_mode == \"human\":\n",
    "###             self._render_frame()\n",
    "### \n",
    "###         return observation, reward, terminated, False, info\n",
    "###     \n",
    "###     def render(self):\n",
    "###         if self.render_mode == \"rgb_array\":\n",
    "###             return self._render_frame()\n",
    "### \n",
    "###     def _render_frame(self):\n",
    "###         if self.window is None and self.render_mode == \"human\":\n",
    "###             pygame.init()\n",
    "###             pygame.display.init()\n",
    "###             self.window = pygame.display.set_mode((self.window_size, self.window_size))\n",
    "###         if self.clock is None and self.render_mode == \"human\":\n",
    "###             self.clock = pygame.time.Clock()\n",
    "### \n",
    "###         canvas = pygame.Surface((self.window_size, self.window_size))\n",
    "###         canvas.fill((255, 255, 255))\n",
    "###         pix_square_size = (\n",
    "###             self.window_size / self.size\n",
    "###         )  # The size of a single grid square in pixels\n",
    "### \n",
    "###         # First we draw the target\n",
    "###         pygame.draw.rect(\n",
    "###             canvas,\n",
    "###             (255, 0, 0),\n",
    "###             pygame.Rect(\n",
    "###                 pix_square_size * self._target_location,\n",
    "###                 (pix_square_size, pix_square_size),\n",
    "###             ),\n",
    "###         )\n",
    "###         # Now we draw the agent\n",
    "###         pygame.draw.circle(\n",
    "###             canvas,\n",
    "###             (0, 0, 255),\n",
    "###             (self._agent_location + 0.5) * pix_square_size,\n",
    "###             pix_square_size / 3,\n",
    "###         )\n",
    "### \n",
    "###         # Finally, add some gridlines\n",
    "###         for x in range(self.size + 1):\n",
    "###             pygame.draw.line(\n",
    "###                 canvas,\n",
    "###                 0,\n",
    "###                 (0, pix_square_size * x),\n",
    "###                 (self.window_size, pix_square_size * x),\n",
    "###                 width=3,\n",
    "###             )\n",
    "###             pygame.draw.line(\n",
    "###                 canvas,\n",
    "###                 0,\n",
    "###                 (pix_square_size * x, 0),\n",
    "###                 (pix_square_size * x, self.window_size),\n",
    "###                 width=3,\n",
    "###             )\n",
    "### \n",
    "###         if self.render_mode == \"human\":\n",
    "###             # The following line copies our drawings from `canvas` to the visible window\n",
    "###             self.window.blit(canvas, canvas.get_rect())\n",
    "###             pygame.event.pump()\n",
    "###             pygame.display.update()\n",
    "### \n",
    "###             # We need to ensure that human-rendering occurs at the predefined framerate.\n",
    "###             # The following line will automatically add a delay to keep the framerate stable.\n",
    "###             self.clock.tick(self.metadata[\"render_fps\"])\n",
    "###         else:  # rgb_array\n",
    "###             return np.transpose(\n",
    "###                 np.array(pygame.surfarray.pixels3d(canvas)), axes=(1, 0, 2)\n",
    "###             )\n",
    "###         \n",
    "###         def close(self):\n",
    "###             if self.window is not None:\n",
    "###                 pygame.display.quit()\n",
    "###                 pygame.quit()\n",
    "### "
   ]
  },
  {
   "cell_type": "code",
   "execution_count": 18,
   "id": "5990958c-88eb-4208-a1c4-278d13234f6b",
   "metadata": {
    "tags": []
   },
   "outputs": [],
   "source": [
    "### from gym.envs.registration import register\n",
    "### \n",
    "### register(\n",
    "###     id='gym_examples/TestEnv-v0',\n",
    "###     entry_point='gym_examples.envs:TestEnv',\n",
    "###     max_episode_steps=300,\n",
    "### )"
   ]
  },
  {
   "cell_type": "code",
   "execution_count": 10,
   "id": "69635b70-e731-49ad-8a90-7d2a89f5d204",
   "metadata": {
    "tags": []
   },
   "outputs": [],
   "source": [
    "### env = gym.make('gym_examples/TestEnv-v0')"
   ]
  },
  {
   "cell_type": "markdown",
   "id": "ef3b19ff-0ed4-4ed8-835f-e28b61593c72",
   "metadata": {},
   "source": [
    "# 1. Load Synthetic Cities Pics"
   ]
  },
  {
   "cell_type": "code",
   "execution_count": 2,
   "id": "bb0a8388-b974-49d8-9d22-83290e0e446c",
   "metadata": {
    "tags": []
   },
   "outputs": [
    {
     "name": "stdout",
     "output_type": "stream",
     "text": [
      "files in the folder: 306\n"
     ]
    }
   ],
   "source": [
    "src = \"../data/cadastralExport/\"\n",
    "onlyfiles = [f for f in listdir(src) if isfile(join(src, f))]\n",
    "print(f\"files in the folder: {len(onlyfiles)}\")"
   ]
  },
  {
   "cell_type": "code",
   "execution_count": 3,
   "id": "afd9db5f-6b75-43ff-90fd-78d2b00d362c",
   "metadata": {},
   "outputs": [
    {
     "data": {
      "image/png": "[encoded data removed]",
      "text/plain": [
       "<Figure size 432x288 with 1 Axes>"
      ]
     },
     "metadata": {
      "needs_background": "light"
     },
     "output_type": "display_data"
    }
   ],
   "source": [
    "filesrc = random.choice(onlyfiles)\n",
    "image = Image.open(src+filesrc)\n",
    "x = TF.to_tensor(image)\n",
    "# too large, let's take a cut\n",
    "lim = 64\n",
    "xSmall = torch.split(x[:3], lim, dim=1)[0].split(lim, dim=2)[0] # 4th channel is transparency\n",
    "plt.imshow(xSmall.permute(*torch.arange(xSmall.ndim - 1, -1, -1)));"
   ]
  },
  {
   "cell_type": "code",
   "execution_count": 4,
   "id": "a9f7452a-8fd0-4a05-ae9c-e999961b552d",
   "metadata": {},
   "outputs": [
    {
     "data": {
      "image/png": "[encoded data removed]",
      "text/plain": [
       "<Figure size 432x288 with 1 Axes>"
      ]
     },
     "metadata": {
      "needs_background": "light"
     },
     "output_type": "display_data"
    }
   ],
   "source": [
    "intensity = xSmall.sum(axis=0) \n",
    "plt.hist(intensity.flatten(start_dim=0).tolist());"
   ]
  },
  {
   "cell_type": "code",
   "execution_count": 5,
   "id": "84f8ed17-90ff-4679-93c3-ae42666588a0",
   "metadata": {},
   "outputs": [],
   "source": [
    "def toRLScore(x):\n",
    "    score = int\n",
    "    if x < 0.5:\n",
    "        # black -> building\n",
    "        score = 10\n",
    "    elif x > 2.5:\n",
    "        # white -> road\n",
    "        score = -1\n",
    "    else:\n",
    "        # neither building nor road\n",
    "        score = -10\n",
    "    return score"
   ]
  },
  {
   "cell_type": "code",
   "execution_count": 6,
   "id": "3c6a267e-3280-4ce8-9de0-e6aaadae517e",
   "metadata": {},
   "outputs": [],
   "source": [
    "vfunc = np.vectorize(toRLScore)"
   ]
  },
  {
   "cell_type": "code",
   "execution_count": 7,
   "id": "6f59204a-ec15-46af-a805-2bfc72b37fce",
   "metadata": {},
   "outputs": [
    {
     "data": {
      "image/png": "[encoded data removed]",
      "text/plain": [
       "<Figure size 432x288 with 1 Axes>"
      ]
     },
     "metadata": {
      "needs_background": "light"
     },
     "output_type": "display_data"
    }
   ],
   "source": [
    "RLScore = vfunc(intensity)\n",
    "plt.hist(RLScore.flatten());"
   ]
  },
  {
   "cell_type": "markdown",
   "id": "aa8aa497-e21c-46ea-adf2-390b9eaaab9a",
   "metadata": {},
   "source": [
    "All nicely packed in a function"
   ]
  },
  {
   "cell_type": "code",
   "execution_count": 225,
   "id": "e9ca51b5-fefe-402e-bb0e-c944ca7db516",
   "metadata": {},
   "outputs": [],
   "source": [
    "def imgToScore(src, res):\n",
    "    image = Image.open(src)\n",
    "    x = TF.to_tensor(image)\n",
    "    # top left corner, could be any place within the raster \n",
    "    xSmall = x[:3].split(res, dim=1)[0].split(res, dim=2)[0]\n",
    "    xSmall= xSmall.permute(0,2,1) # getting x and y right\n",
    "    intensity = xSmall.sum(axis=0)\n",
    "    RLScore = vfunc(intensity)\n",
    "    return xSmall, RLScore"
   ]
  },
  {
   "cell_type": "code",
   "execution_count": 237,
   "id": "a281de68-cc95-4d17-ad49-a5d8a9c33e39",
   "metadata": {},
   "outputs": [],
   "source": [
    "res = 128\n",
    "img = Image.open(filesrc)\n",
    "size = img.size"
   ]
  },
  {
   "cell_type": "code",
   "execution_count": 238,
   "id": "2c4663f4-f0c6-4483-b62b-82061b8cbd60",
   "metadata": {},
   "outputs": [
    {
     "data": {
      "text/plain": [
       "(1280, 1280)"
      ]
     },
     "execution_count": 238,
     "metadata": {},
     "output_type": "execute_result"
    }
   ],
   "source": [
    "size"
   ]
  },
  {
   "cell_type": "code",
   "execution_count": 302,
   "id": "e41c132a-620a-4267-84cd-9de3ebefd6a9",
   "metadata": {
    "tags": []
   },
   "outputs": [
    {
     "name": "stdout",
     "output_type": "stream",
     "text": [
      "size of the tensor: torch.Size([4, 1280, 1280])\n",
      "size of the not cut image: torch.Size([4, 1280, 1280])\n"
     ]
    }
   ],
   "source": [
    "a = imgLoader(filesrc, 128)\n",
    "print(f\"size of the tensor: {a.X.size()}\")\n",
    "print(f\"size of the not cut image: {a.ResxSmall.size()}\")"
   ]
  },
  {
   "cell_type": "code",
   "execution_count": 304,
   "id": "a16362b3-4faf-42d3-af52-77fd3dcdd60e",
   "metadata": {},
   "outputs": [
    {
     "name": "stdout",
     "output_type": "stream",
     "text": [
      "size of the cut image: torch.Size([3, 128, 128])\n"
     ]
    }
   ],
   "source": [
    "a.loadAndCut()\n",
    "print(f\"size of the cut image: {a.ResxSmall.size()}\")"
   ]
  },
  {
   "cell_type": "code",
   "execution_count": 306,
   "id": "133a4685-bf0b-4d11-bf92-37cee5d86f81",
   "metadata": {},
   "outputs": [
    {
     "data": {
      "image/png": "[encoded data removed]",
      "text/plain": [
       "<Figure size 432x288 with 1 Axes>"
      ]
     },
     "metadata": {
      "needs_background": "light"
     },
     "output_type": "display_data"
    }
   ],
   "source": [
    "a.printCut()"
   ]
  },
  {
   "cell_type": "code",
   "execution_count": 307,
   "id": "258da094-bbc6-4d5f-b4a5-79b3e5b38ced",
   "metadata": {},
   "outputs": [
    {
     "data": {
      "image/png": "[encoded data removed]",
      "text/plain": [
       "<Figure size 432x288 with 1 Axes>"
      ]
     },
     "metadata": {
      "needs_background": "light"
     },
     "output_type": "display_data"
    }
   ],
   "source": [
    "plt.hist(a.ResRLScore.flatten());"
   ]
  },
  {
   "cell_type": "markdown",
   "id": "aeb99213-485d-4dbf-bf98-7e5e6d820ac4",
   "metadata": {},
   "source": [
    "testing"
   ]
  },
  {
   "cell_type": "code",
   "execution_count": 210,
   "id": "e21b9527-eb24-45e1-abfa-0dca8d80ab88",
   "metadata": {},
   "outputs": [
    {
     "name": "stdout",
     "output_type": "stream",
     "text": [
      "file extracted: ../data/cadastralExport/CadastralX2687168Y1220810S250.png\n"
     ]
    },
    {
     "data": {
      "image/png": "[encoded data removed]",
      "text/plain": [
       "<Figure size 432x288 with 1 Axes>"
      ]
     },
     "metadata": {
      "needs_background": "light"
     },
     "output_type": "display_data"
    }
   ],
   "source": [
    "filesrc = src+random.choice(onlyfiles)\n",
    "print(f\"file extracted: {filesrc}\")\n",
    "imgSample, ScoreSample = imgToScore(filesrc, 128)\n",
    "plt.imshow(imgSample.permute(2,1,0));"
   ]
  },
  {
   "cell_type": "code",
   "execution_count": 11,
   "id": "f6a23c24-966a-4fa4-9459-b53e3eee151d",
   "metadata": {},
   "outputs": [
    {
     "data": {
      "image/png": "[encoded data removed]",
      "text/plain": [
       "<Figure size 432x288 with 1 Axes>"
      ]
     },
     "metadata": {
      "needs_background": "light"
     },
     "output_type": "display_data"
    }
   ],
   "source": [
    "plt.hist(ScoreSample.flatten());"
   ]
  },
  {
   "cell_type": "code",
   "execution_count": 229,
   "id": "d449a104-17f8-48ba-8fe9-a67d6ed7ee18",
   "metadata": {},
   "outputs": [
    {
     "data": {
      "text/plain": [
       "16384"
      ]
     },
     "execution_count": 229,
     "metadata": {},
     "output_type": "execute_result"
    }
   ],
   "source": [
    "ScoreSample.flatten().size"
   ]
  },
  {
   "cell_type": "markdown",
   "id": "c00fb76e-8b6a-48f2-90bf-f9ec1fd715f5",
   "metadata": {},
   "source": [
    "Conditions to position agent and target (if wished) everytime the environment is resetted"
   ]
  },
  {
   "cell_type": "code",
   "execution_count": 190,
   "id": "14958fbe-4e29-4bf2-bc88-377a210a8325",
   "metadata": {
    "tags": []
   },
   "outputs": [
    {
     "name": "stdout",
     "output_type": "stream",
     "text": [
      "position of the agent: X:58, Y:60 | Reward: -1\n",
      "position of the target: X:125, Y:60 | Reward: -1\n"
     ]
    },
    {
     "data": {
      "image/png": "[encoded data removed]",
      "text/plain": [
       "<Figure size 432x288 with 1 Axes>"
      ]
     },
     "metadata": {
      "needs_background": "light"
     },
     "output_type": "display_data"
    }
   ],
   "source": [
    "a = np.random.randint(0, 128, size=2, dtype=int)\n",
    "t = np.random.randint(0, 128, size=2, dtype=int)\n",
    "\n",
    "cond1 = np.array_equal(a,t)\n",
    "cond2 = ScoreSample[t[0]][t[1]] != -1 # in a road ScoreSample.flatten().max()\n",
    "cond3 = ScoreSample[a[0]][a[1]] != -1 # in a road ScoreSample.flatten().max()\n",
    "\n",
    "while (cond1 or cond2 or cond3):\n",
    "    t = np.random.randint(0, 128, size=2, dtype=int)\n",
    "    a = np.random.randint(0, 128, size=2, dtype=int)\n",
    "    cond1 = np.array_equal(a,t)\n",
    "    cond2 = ScoreSample[t[0]][t[1]] != -1\n",
    "    cond3 = ScoreSample[a[0]][a[1]] != -1\n",
    "\n",
    "print(f\"position of the agent: X:{a[0]}, Y:{a[1]} | Reward: {ScoreSample[a[1]][a[0]]}\")\n",
    "print(f\"position of the target: X:{t[0]}, Y:{t[1]} | Reward: {ScoreSample[t[1]][t[0]]}\")\n",
    "\n",
    "plt.imshow(imgSample.permute(*torch.arange(imgSample.ndim - 1, -1, -1)), origin='lower')\n",
    "plt.scatter(t[0], t[1], label='target')\n",
    "plt.scatter(a[0], a[1], color='r', label = 'agent')\n",
    "plt.legend();"
   ]
  },
  {
   "cell_type": "markdown",
   "id": "07139d66-407a-4bfb-bf53-8a0c5276b01f",
   "metadata": {},
   "source": [
    "# 2. Real City Environment \n",
    "based on https://www.gymlibrary.dev/content/environment_creation/"
   ]
  },
  {
   "cell_type": "code",
   "execution_count": 761,
   "id": "a3bb155f-f411-4dd8-9dfb-8f215e51e73e",
   "metadata": {},
   "outputs": [],
   "source": [
    "# this class loads and clips the image according to the target resolution, where there is less homogeneity\n",
    "\n",
    "class imgLoader():\n",
    "    def __init__(self, src, res):\n",
    "        self.src = src\n",
    "        self.res = res\n",
    "        self.img = Image.open(self.src)\n",
    "        self.size = self.img.size\n",
    "        self.reps = [int(size[0]/self.res), int(size[1]/self.res)]\n",
    "        self.scores = [1, 0, -1] # black, white, grey\n",
    "        self.vfunc = np.vectorize(self.toRLScore)\n",
    "        self.X = TF.to_tensor(self.img).permute(1,2,0)\n",
    "        self.ResxSmall = self.X\n",
    "        self.ResRLScore = np.zeros([self.res, self.res])\n",
    "        \n",
    "    def loadAndCut(self):\n",
    "        # cut less homogeneous corner\n",
    "        worseGini = 0\n",
    "        for x in range(self.reps[0]):\n",
    "            # print(f\"X rep: {x}\")\n",
    "            for y in range(self.reps[1]):\n",
    "                # print(f\"Y rep: {y}\")\n",
    "                xSmall = self.X.split(self.res, dim=0)[x].split(self.res, dim=1)[y].split(3, dim=2)[0]\n",
    "                intensity = xSmall.sum(axis=2)\n",
    "                # print(f\"intensitz: {intensity}\")\n",
    "                RLScore = self.vfunc(intensity)\n",
    "                flatRLScore = RLScore.flatten()\n",
    "                b = np.count_nonzero(flatRLScore == self.scores[0]) / flatRLScore.size\n",
    "                r = np.count_nonzero(flatRLScore == self.scores[1]) / flatRLScore.size\n",
    "                g = np.count_nonzero(flatRLScore == self.scores[2]) / flatRLScore.size\n",
    "                Gini = 1 - (b**2 + r**2 + g**2)\n",
    "                # print(f\"single gini cohefficients: {b}, {r}, {g}\")\n",
    "                # print(f\"gini cohefficient: {Gini} - Worse cohefficient: {worseGini}\")\n",
    "                if Gini > worseGini:\n",
    "                    worseGini = Gini\n",
    "                    # print(f\"Worse Gini Score: {Gini}\")\n",
    "                    self.ResxSmall = xSmall\n",
    "                    self.ResRLScore = RLScore.T\n",
    "        return\n",
    "    \n",
    "    def toRLScore(self, x):\n",
    "        score = int\n",
    "        if x < 0.5:\n",
    "            # black -> building\n",
    "            score = self.scores[0]\n",
    "        elif x > 2.5:\n",
    "            # white -> road\n",
    "            score = self.scores[1]\n",
    "        else:\n",
    "            # neither building nor road\n",
    "            score = self.scores[2]\n",
    "        return score\n",
    "    \n",
    "    def printCut(self):\n",
    "        # plt.imshow(self.ResxSmall.permute(2,1,0));\n",
    "        plt.imshow(self.ResxSmall);\n",
    "    \n",
    "    def printEntire(self):\n",
    "        plt.imshow(self.X);"
   ]
  },
  {
   "cell_type": "code",
   "execution_count": 672,
   "id": "29f3e782",
   "metadata": {},
   "outputs": [],
   "source": [
    "# this class collects and consolidates all the observations\n",
    "\n",
    "class Observation():\n",
    "    def __init__(self, radius):\n",
    "        self.memory = list()\n",
    "        self.coords = list()\n",
    "    \n",
    "    def check(self, observation: np.array) -> bool:\n",
    "        obs_len = observation.size\n",
    "        return obs_len == radius**2 # true if not close to the boarders of the pictures\n",
    "    \n",
    "    def consolidate(self, observation: np.array):\n",
    "        # self.memory.extend([o for o in observation if (o[0], o[1]) not in self.coords])\n",
    "        # print(f\"observations: {observation}\")\n",
    "        for o in observation:\n",
    "            # print(f\"single observation : {o}\")\n",
    "            if ((o[0], o[1]) not in self.coords):\n",
    "                self.coords.append((o[0], o[1])) \n",
    "                self.memory.append(o)\n",
    "    \n",
    "    def getLength(self) -> int:\n",
    "        return len(self.memory)\n",
    "    \n",
    "    def getSample(self, batch_size) -> list:\n",
    "        return random.sample(population=self.memory, k=batch_size)"
   ]
  },
  {
   "cell_type": "code",
   "execution_count": 32,
   "id": "e622e9a2-3abb-4a79-9e8b-454d8986f9fe",
   "metadata": {
    "jupyter": {
     "source_hidden": true
    },
    "tags": []
   },
   "outputs": [],
   "source": [
    "class OLDRealCity(gym.Env):\n",
    "    metadata = {\"render_modes\": [\"human\", \"rgb_array\"], \"render_fps\": 4}\n",
    "\n",
    "    def __init__(self, reward_map:np.ndarray, render_mode=None, size=5):\n",
    "        self.reward_map = reward_map # map with the rewards on each position\n",
    "        self.maxReward = self.reward_map.flatten().max()\n",
    "        self.minReward = self.reward_map.flatten().min()\n",
    "        self.size = self.reward_map.shape[0]  # The size of the square grid\n",
    "        self.window_size = 512  # The size of the PyGame window\n",
    "\n",
    "        # Observations are dictionaries with the agent's and the target's location.\n",
    "        # Each location is encoded as an element of {0, ..., `size`}^2, i.e. MultiDiscrete([size, size]).\n",
    "        self.observation_space = spaces.Dict(\n",
    "            {\n",
    "                \"agent\": spaces.Box(0, self.size - 1, shape=(2,), dtype=int),\n",
    "                \"target\": spaces.Box(0, self.size - 1, shape=(2,), dtype=int),\n",
    "            }\n",
    "        )\n",
    "\n",
    "        # We have 4 actions, corresponding to \"right\", \"up\", \"left\", \"down\"\n",
    "        self.action_space = spaces.Discrete(8)\n",
    "\n",
    "        \"\"\"\n",
    "        The following dictionary maps abstract actions from `self.action_space` to \n",
    "        the direction we will walk in if that action is taken.\n",
    "        I.e. 0 corresponds to \"right\", 1 to \"up\" etc.\n",
    "        \"\"\"\n",
    "        self._action_to_direction = {\n",
    "            0: np.array([1, 0]),\n",
    "            1: np.array([1, 1]),\n",
    "            2: np.array([0, 1]),\n",
    "            3: np.array([-1, 1]),\n",
    "            4: np.array([-1, 0]),\n",
    "            5: np.array([-1, -1]),\n",
    "            6: np.array([0, -1]),\n",
    "            7: np.array([1, -1]),\n",
    "            8: np.array([0,0]) # exit function\n",
    "        }\n",
    "\n",
    "        assert render_mode is None or render_mode in self.metadata[\"render_modes\"]\n",
    "        self.render_mode = render_mode\n",
    "\n",
    "        \"\"\"\n",
    "        If human-rendering is used, `self.window` will be a reference\n",
    "        to the window that we draw to. `self.clock` will be a clock that is used\n",
    "        to ensure that the environment is rendered at the correct framerate in\n",
    "        human-mode. They will remain `None` until human-mode is used for the\n",
    "        first time.\n",
    "        \"\"\"\n",
    "        self.window = None\n",
    "        self.clock = None\n",
    "        \n",
    "    def _get_obs(self):\n",
    "        return {\"agent\": self._agent_location, \"target\": self._target_location}\n",
    "\n",
    "    def _get_info(self):\n",
    "        return {\"distance\": np.linalg.norm(self._agent_location - self._target_location, ord=1)}\n",
    "\n",
    "    def reset(self, seed=None, options=None):\n",
    "        # We need the following line to seed self.np_random\n",
    "        super().reset(seed=seed)\n",
    "\n",
    "        # Choose the agent's location uniformly at random\n",
    "        self._agent_location = self.np_random.integers(0, self.size, size=2, dtype=int)\n",
    "\n",
    "        # We will sample the target's location randomly until it does not coincide with the agent's location\n",
    "        # Both agent and target are required to stay on the street\n",
    "        self._target_location = self.np_random.integers(0, self.size, size=2, dtype=int)\n",
    "        \n",
    "        RewardAgent = self.reward_map[self._agent_location[0], self._agent_location[1]]\n",
    "        RewardTarget = self.reward_map[self._target_location[0], self._target_location[1]]\n",
    "        \n",
    "        cond1 = np.array_equal(self._target_location, self._agent_location)\n",
    "        cond2 = RewardAgent == self.maxReward or RewardAgent == self.minReward # neither in a building nor in a grey pixel\n",
    "        cond3 = RewardTarget == self.maxReward or RewardTarget == self.minReward # neither in a building nor in a grey pixel\n",
    "        while (cond1 & cond2 & cond3):\n",
    "            self._target_location = self.np_random.integers(\n",
    "                0, self.size, size=2, dtype=int\n",
    "            )\n",
    "            self._agent_location = self.np_random.integers(\n",
    "                0, self.size, size=2, dtype=int\n",
    "            )\n",
    "            RewardAgent = self.reward_map[self._agent_location[0], self._agent_location[1]]\n",
    "            RewardTarget = self.reward_map[self._target_location[0], self._target_location[1]]\n",
    "            cond1 = np.array_equal(self._target_location, self._agent_location)\n",
    "            cond2 = RewardAgent == self.maxReward or RewardAgent == self.minReward # neither in a building nor in a grey pixel\n",
    "            cond3 = RewardTarget == self.maxReward or RewardTarget == self.minReward # neither in a building nor in a grey pixel\n",
    "\n",
    "        observation = self._get_obs()\n",
    "        info = self._get_info()\n",
    "\n",
    "        if self.render_mode == \"human\":\n",
    "            self._render_frame()\n",
    "\n",
    "        return observation, info\n",
    "\n",
    "    def step(self, action):\n",
    "        # Map the action (element of {0,1,2,3}) to the direction we walk in\n",
    "        direction = self._action_to_direction[action]\n",
    "        # We use `np.clip` to make sure we don't leave the grid\n",
    "        self._agent_location = np.clip(\n",
    "            self._agent_location + direction, 0, self.size - 1\n",
    "        )\n",
    "        # An episode is done iff the agent has reached the target\n",
    "        terminated = np.array_equal(self._agent_location, self._target_location)\n",
    "        RewardAgent = self.reward_map[self._agent_location[0], self._agent_location[1]]\n",
    "        distance = np.linalg.norm(self._agent_location - self._target_location, ord=1)\n",
    "        reward = 1000 if terminated else - np.sqrt(distance) + RewardAgent # Binary sparse rewards\n",
    "        observation = self._get_obs()\n",
    "        info = self._get_info()\n",
    "\n",
    "        if self.render_mode == \"human\":\n",
    "            self._render_frame()\n",
    "        # EXPECTED OUTPUTS BY STABLE BASELINE 3\n",
    "        # obs, reward, done, info\n",
    "        # EXPECTED OUTPUT IN STABLE BASELINE3 - PPO.learn\n",
    "        # obs, self.buf_rews[env_idx], terminated, truncated, self.buf_infos[env_idx]\n",
    "        return observation, reward, terminated, False, info"
   ]
  },
  {
   "cell_type": "code",
   "execution_count": 790,
   "id": "aea31796",
   "metadata": {},
   "outputs": [],
   "source": [
    "class RealCity(gym.Env):\n",
    "    # metadata = {\"render_modes\": [\"human\", \"rgb_array\"], \"render_fps\": 4}\n",
    "\n",
    "    def __init__(self, src, res, obsRadius=3, maxSteps=10000, render_mode=None):\n",
    "        self.imgloader = imgLoader(src, res)\n",
    "        self.imgloader.loadAndCut()\n",
    "        self.reward_map = self.imgloader.ResRLScore # reward_map # map with the rewards on each position\n",
    "        self.maxReward = self.reward_map.flatten().max()\n",
    "        self.minReward = self.reward_map.flatten().min()\n",
    "        self.size = self.reward_map.shape[0]  # The size of the square grid\n",
    "        self.window_size = 512  # The size of the PyGame window\n",
    "        self.obsRadius = obsRadius # observation radius\n",
    "        self.memory = Observation(self.obsRadius)\n",
    "        self.presentStep = 0\n",
    "        self.maxSteps = maxSteps #arbitrary number of step to end the game\n",
    "        # Observations are dictionaries with the agent's and the target's location.\n",
    "        # Each location is encoded as an element of {0, ..., `size`}^2, i.e. MultiDiscrete([size, size]).\n",
    "        self.observation_space = spaces.Dict(\n",
    "            {\n",
    "                \"agent\": spaces.Box(0, self.size - 1, shape=(2,), dtype=int),\n",
    "                \"observation\": spaces.Box(0, self.size - 1, shape=(2,), dtype=int), #initialized observation space\n",
    "                # \"target\": spaces.Box(0, self.size - 1, shape=(2,), dtype=int),\n",
    "            }\n",
    "        )\n",
    "\n",
    "        # We have 4 actions, corresponding to \"right\", \"up\", \"left\", \"down\"\n",
    "        self.action_space = spaces.Discrete(8)\n",
    "\n",
    "        \"\"\"\n",
    "        The following dictionary maps abstract actions from `self.action_space` to \n",
    "        the direction we will walk in if that action is taken.\n",
    "        I.e. 0 corresponds to \"right\", 1 to \"up\" etc.\n",
    "        \"\"\"\n",
    "        self._action_to_direction = {\n",
    "            0: np.array([1, 0]),\n",
    "            1: np.array([1, 1]),\n",
    "            2: np.array([0, 1]),\n",
    "            3: np.array([-1, 1]),\n",
    "            4: np.array([-1, 0]),\n",
    "            5: np.array([-1, -1]),\n",
    "            6: np.array([0, -1]),\n",
    "            7: np.array([1, -1]),\n",
    "            8: np.array([0,0]) # exit function\n",
    "        }\n",
    "\n",
    "        assert render_mode is None or render_mode in self.metadata[\"render_modes\"]\n",
    "        self.render_mode = render_mode\n",
    "\n",
    "        \"\"\"\n",
    "        If human-rendering is used, `self.window` will be a reference\n",
    "        to the window that we draw to. `self.clock` will be a clock that is used\n",
    "        to ensure that the environment is rendered at the correct framerate in\n",
    "        human-mode. They will remain `None` until human-mode is used for the\n",
    "        first time.\n",
    "        \"\"\"\n",
    "        self.window = None\n",
    "        self.clock = None\n",
    "        \n",
    "    def _get_obs(self):\n",
    "        return {\"agent\": self._agent_location, \"observation\": self.getObservation()}\n",
    "    \n",
    "    def _get_info(self):\n",
    "        return {\"observation\": self.getObservation()}\n",
    "    \n",
    "    # def _get_info(self):\n",
    "    #     return {\"distance\": np.linalg.norm(self._agent_location - self._target_location, ord=1)}\n",
    "\n",
    "    def reset(self, seed=None, options=None):\n",
    "        # print(seed)\n",
    "        # We need the following line to seed self.np_random\n",
    "        super().reset(seed=seed)\n",
    "        # super().reset()\n",
    "        # Choose the agent's location uniformly at random\n",
    "        self._agent_location = self.np_random.integers(0, self.size, size=2, dtype=int)\n",
    "\n",
    "        # We will sample the target's location randomly until it does not coincide with the agent's location\n",
    "        # Both agent and target are required to stay on the street\n",
    "        self._target_location = self.np_random.integers(0, self.size, size=2, dtype=int)\n",
    "        \n",
    "        RewardAgent = self.reward_map[self._agent_location[0], self._agent_location[1]]\n",
    "        RewardTarget = self.reward_map[self._target_location[0], self._target_location[1]]\n",
    "        \n",
    "        cond1 = np.array_equal(self._target_location, self._agent_location)\n",
    "        cond2 = RewardAgent == self.maxReward or RewardAgent == self.minReward # neither in a building nor in a grey pixel\n",
    "        cond3 = RewardTarget == self.maxReward or RewardTarget == self.minReward # neither in a building nor in a grey pixel\n",
    "        while (cond1 or cond2 or cond3):\n",
    "            self._target_location = self.np_random.integers(\n",
    "                0, self.size, size=2, dtype=int\n",
    "            )\n",
    "            self._agent_location = self.np_random.integers(\n",
    "                0, self.size, size=2, dtype=int\n",
    "            )\n",
    "            RewardAgent = self.reward_map[self._agent_location[0], self._agent_location[1]]\n",
    "            RewardTarget = self.reward_map[self._target_location[0], self._target_location[1]]\n",
    "            cond1 = np.array_equal(self._target_location, self._agent_location)\n",
    "            cond2 = RewardAgent == self.maxReward or RewardAgent == self.minReward # neither in a building nor in a grey pixel\n",
    "            cond3 = RewardTarget == self.maxReward or RewardTarget == self.minReward # neither in a building nor in a grey pixel\n",
    "\n",
    "        # reset memory\n",
    "        self.memory = Observation(self.obsRadius)\n",
    "        \n",
    "        observation = self._get_obs()\n",
    "        info = self._get_info()\n",
    "\n",
    "        if self.render_mode == \"human\":\n",
    "            self._render_frame()\n",
    "\n",
    "        return observation, info\n",
    "\n",
    "    def getMapValue(self, coords: list) -> int: \n",
    "        return(self.reward_map[coords[0], coords[1]])\n",
    "    \n",
    "    def getObservation(self):\n",
    "        coords = self._agent_location.tolist()\n",
    "        x = coords[0]\n",
    "        y = coords[1]\n",
    "        coords = [[coords[0], coords[1]]]\n",
    "        x0y0 = [x, y, self.getMapValue([x, y])]\n",
    "        newObservation = [x0y0]\n",
    "        # all new coords\n",
    "        candidates = []\n",
    "        for increment in range(self.obsRadius+1):\n",
    "            x1y0 = np.clip(np.array([x+increment, y]), 0, self.size - 1).tolist()\n",
    "            x1y1 = np.clip(np.array([x+increment, y+increment]), 0, self.size - 1).tolist()\n",
    "            x0y1 = np.clip(np.array([x, y+increment]), 0, self.size - 1).tolist()\n",
    "            x_1y1 = np.clip(np.array([x-increment, y+increment]), 0, self.size - 1).tolist()\n",
    "            x_1y0 = np.clip(np.array([x-increment, y]), 0, self.size - 1).tolist()\n",
    "            x_1y_1 = np.clip(np.array([x-increment, y-increment]), 0, self.size - 1).tolist()\n",
    "            x0y_1 = np.clip(np.array([x, y-increment]), 0, self.size - 1).tolist()\n",
    "            x1y_1 = np.clip(np.array([x+increment, y-increment]), 0, self.size - 1).tolist()\n",
    "            if len(candidates)==0:\n",
    "                candidates = [x1y0, x1y1, x0y1, x_1y1, x_1y0, x_1y_1, x0y_1, x1y_1]\n",
    "            else:\n",
    "                candidates.extend([x1y0, x1y1, x0y1, x_1y1, x_1y0, x_1y_1, x0y_1, x1y_1])\n",
    "        for c in candidates:\n",
    "            if c not in coords:\n",
    "                coords.append(c)\n",
    "        # all rewards/pixel type in coords\n",
    "        for cor in coords:\n",
    "            # print(f\"Real City Coordinates: {cor}\")\n",
    "            # print(f\"Value at coordinates {cor}: {self.getMapValue(cor)}\") \n",
    "            newValue = [cor[0], cor[1], self.getMapValue(cor)]\n",
    "            newObservation.append(newValue)\n",
    "            # print(f\"Real City New Obs: {newObservation}\")\n",
    "            self.memory.consolidate(np.array(newObservation, dtype=object))\n",
    "        observationBox = gym.spaces.Box(low=np.array([x-self.obsRadius, y-self.obsRadius]),\n",
    "                                        high=np.array([x+self.obsRadius, y+self.obsRadius])\n",
    "                                        )\n",
    "        return observationBox\n",
    "    \n",
    "    def isRealCity(self) -> bool:\n",
    "        return\n",
    "    \n",
    "    def step(self, action):\n",
    "        # update the step number\n",
    "        self.presentStep+=1\n",
    "        startingLocation = self._agent_location\n",
    "        RewardAtStartingState = self.reward_map[startingLocation[0], startingLocation[1]]\n",
    "        # Map the action (element of {0,1,2,3}) to the direction we walk in\n",
    "        direction = self._action_to_direction[action]\n",
    "        # We use `np.clip` to make sure we don't leave the grid\n",
    "        self._agent_location = np.clip(\n",
    "            self._agent_location + direction, 0, self.size - 1\n",
    "        )\n",
    "        # An episode is done after the designed step number is achieved\n",
    "        terminated = self.presentStep >= self.maxSteps \n",
    "        # An episode is done if the agent has reached the target        \n",
    "        # terminated = np.array_equal(self._agent_location, self._target_location)\n",
    "        RewardAtEndState = self.reward_map[self._agent_location[0], self._agent_location[1]]\n",
    "        distance = np.linalg.norm(self._agent_location - self._target_location, ord=1)\n",
    "        DifferenceReward = min(RewardAtStartingState - RewardAtEndState, RewardAtEndState - RewardAtStartingState)\n",
    "        reward = 1000 if terminated else - np.sqrt(distance) + RewardAtEndState # Binary sparse rewards\n",
    "        observation = self._get_obs()\n",
    "        info = self._get_info()\n",
    "\n",
    "        if self.render_mode == \"human\":\n",
    "            self._render_frame()\n",
    "        return observation, DifferenceReward, terminated, False, info\n",
    "    \n",
    "    def printState(self):\n",
    "        plt.imshow(self.imgloader.ResxSmall)\n",
    "        try:\n",
    "            plt.scatter([x[0] for x in self.memory.coords], [x[1] for x in self.memory.coords], color='r', alpha = 0.1, label ='observations')\n",
    "            plt.scatter(self._agent_location[0], self._agent_location[1], label = 'agent', marker = \"X\", s=100)\n",
    "            plt.legend()\n",
    "        except:\n",
    "            print(\"Environment not yet initialized, please Reset the environment\")\n",
    "        return\n",
    "    \n",
    "    def printObservations(self):\n",
    "        c = []\n",
    "        for el in self.memory.memory:\n",
    "            if el[2] == self.minReward:\n",
    "                c.append('silver')\n",
    "            elif el[2] == self.maxReward:\n",
    "                c.append('black')\n",
    "            else:\n",
    "                c.append('whitesmoke')\n",
    "        x = [el[0] for el in self.memory.memory]\n",
    "        y = [el[1] for el in self.memory.memory]\n",
    "        plt.gca().invert_yaxis()\n",
    "        plt.scatter(x, y , c=c)\n",
    "        return"
   ]
  },
  {
   "cell_type": "code",
   "execution_count": 141,
   "id": "d1387d4a",
   "metadata": {
    "jupyter": {
     "source_hidden": true
    },
    "tags": []
   },
   "outputs": [],
   "source": [
    "# NOT UPDATED\n",
    "\n",
    "class WalkingAgent(gym.Env):\n",
    "    # metadata = {\"render_modes\": [\"human\", \"rgb_array\"], \"render_fps\": 4}\n",
    "\n",
    "    def __init__(self, reward_map:np.ndarray, obsRadius=3, render_mode=None):\n",
    "        self.reward_map = reward_map # map with the rewards on each position\n",
    "        self.maxReward = self.reward_map.flatten().max()\n",
    "        self.minReward = self.reward_map.flatten().min()\n",
    "        self.size = self.reward_map.shape[0]  # The size of the square grid\n",
    "        self.window_size = 512  # The size of the PyGame window\n",
    "        self.obsRadius = obsRadius # observation radius\n",
    "        # Observations are dictionaries with the agent's and the target's location.\n",
    "        # Each location is encoded as an element of {0, ..., `size`}^2, i.e. MultiDiscrete([size, size]).\n",
    "        self.observation_space = spaces.Dict(\n",
    "            {\n",
    "                \"agent\": spaces.Box(0, self.size - 1, shape=(2,), dtype=int),\n",
    "                \"observation\": spaces.Box(0, self.size - 1, shape=(2,), dtype=int), #initialized observation space\n",
    "                # \"target\": spaces.Box(0, self.size - 1, shape=(2,), dtype=int),\n",
    "            }\n",
    "        )\n",
    "\n",
    "        # We have 4 actions, corresponding to \"right\", \"up\", \"left\", \"down\"\n",
    "        self.action_space = spaces.Discrete(8)\n",
    "\n",
    "        \"\"\"\n",
    "        The following dictionary maps abstract actions from `self.action_space` to \n",
    "        the direction we will walk in if that action is taken.\n",
    "        I.e. 0 corresponds to \"right\", 1 to \"up\" etc.\n",
    "        \"\"\"\n",
    "        self._action_to_direction = {\n",
    "            0: np.array([1, 0]),\n",
    "            1: np.array([1, 1]),\n",
    "            2: np.array([0, 1]),\n",
    "            3: np.array([-1, 1]),\n",
    "            4: np.array([-1, 0]),\n",
    "            5: np.array([-1, -1]),\n",
    "            6: np.array([0, -1]),\n",
    "            7: np.array([1, -1])\n",
    "        }\n",
    "\n",
    "        assert render_mode is None or render_mode in self.metadata[\"render_modes\"]\n",
    "        self.render_mode = render_mode\n",
    "\n",
    "        \"\"\"\n",
    "        If human-rendering is used, `self.window` will be a reference\n",
    "        to the window that we draw to. `self.clock` will be a clock that is used\n",
    "        to ensure that the environment is rendered at the correct framerate in\n",
    "        human-mode. They will remain `None` until human-mode is used for the\n",
    "        first time.\n",
    "        \"\"\"\n",
    "        self.window = None\n",
    "        self.clock = None\n",
    "        \n",
    "    def _get_obs(self):\n",
    "        return {\"agent\": self._agent_location, \"observation\": self.getObservation}\n",
    "    \n",
    "    def _get_info(self):\n",
    "        return {\"observation\": self.getObservation()}\n",
    "    \n",
    "    # def _get_info(self):\n",
    "    #     return {\"distance\": np.linalg.norm(self._agent_location - self._target_location, ord=1)}\n",
    "\n",
    "    def reset(self, seed=8, options=None):\n",
    "        print(seed)\n",
    "        # We need the following line to seed self.np_random\n",
    "        super().reset(seed=seed)\n",
    "        # Choose the agent's location uniformly at random\n",
    "        self._agent_location = self.np_random.integers(0, self.size, size=2, dtype=int)\n",
    "\n",
    "        # We will sample the target's location randomly until it does not coincide with the agent's location\n",
    "        # Both agent and target are required to stay on the street\n",
    "        self._target_location = self.np_random.integers(0, self.size, size=2, dtype=int)\n",
    "        \n",
    "        RewardAgent = self.reward_map[self._agent_location[0], self._agent_location[1]]\n",
    "        RewardTarget = self.reward_map[self._target_location[0], self._target_location[1]]\n",
    "        \n",
    "        cond1 = np.array_equal(self._target_location, self._agent_location)\n",
    "        cond2 = RewardAgent == self.maxReward or RewardAgent == self.minReward # neither in a building nor in a grey pixel\n",
    "        cond3 = RewardTarget == self.maxReward or RewardTarget == self.minReward # neither in a building nor in a grey pixel\n",
    "        while (cond1 & cond2 & cond3):\n",
    "            self._target_location = self.np_random.integers(\n",
    "                0, self.size, size=2, dtype=int\n",
    "            )\n",
    "            self._agent_location = self.np_random.integers(\n",
    "                0, self.size, size=2, dtype=int\n",
    "            )\n",
    "            RewardAgent = self.reward_map[self._agent_location[0], self._agent_location[1]]\n",
    "            RewardTarget = self.reward_map[self._target_location[0], self._target_location[1]]\n",
    "            cond1 = np.array_equal(self._target_location, self._agent_location)\n",
    "            cond2 = RewardAgent == self.maxReward or RewardAgent == self.minReward # neither in a building nor in a grey pixel\n",
    "            cond3 = RewardTarget == self.maxReward or RewardTarget == self.minReward # neither in a building nor in a grey pixel\n",
    "\n",
    "        observation = self._get_obs()\n",
    "        info = self._get_info()\n",
    "\n",
    "        if self.render_mode == \"human\":\n",
    "            self._render_frame()\n",
    "\n",
    "        return observation, info\n",
    "\n",
    "    def getMapValue(self, coords: list) -> int: \n",
    "        return(self.reward_map[coords[0], coords[1]])\n",
    "    \n",
    "    def getObservation(self):\n",
    "        coords = self._agent_location\n",
    "        x = coords[0]\n",
    "        y = coords[1]\n",
    "        newObservation = []\n",
    "        for increment in range(self.obsRadius):\n",
    "            x0y0 = [x, y, self.getMapValue([x+increment, y])]\n",
    "            x1y0 = [x+increment, y, self.getMapValue([x+increment, y])]\n",
    "            x1y1 = [x+increment, y+increment, self.getMapValue([x+increment, y+increment])]\n",
    "            x0y1 = [x, y+increment, self.getMapValue([x, y+increment])]\n",
    "            x_1y1 = [x-increment, y+increment, self.getMapValue([x-increment, y+increment])]\n",
    "            x_1y0 = [x-increment, y, self.getMapValue([x-increment, y])]\n",
    "            x_1y_1 = [x-increment, y-increment, self.getMapValue([x-increment, y-increment])]\n",
    "            x0y_1 = [x, y-increment, self.getMapValue([x, y-increment])]\n",
    "            x1y_1 = [x+increment, y-increment, self.getMapValue([x+increment, y-increment])]\n",
    "            if len(newObservation)>0:\n",
    "                newObservation.extend([x0y0, x1y0, x1y1, x0y1, x_1y1, x_1y0, x_1y_1, x0y_1, x1y_1])\n",
    "            else:\n",
    "                newObservation = [x0y0, x1y0, x1y1, x0y1, x_1y1, x_1y0, x_1y_1, x0y_1, x1y_1]\n",
    "        self.memory.consolidate(np.array(newObservation))\n",
    "        observationBox = gym.spaces.Box(low=np.array([x-self.obsRadius, y-self.obsRadius]),\n",
    "                                        high=np.array([x+self.obsRadius, y+self.obsRadius])\n",
    "                                       )\n",
    "        return observationBox\n",
    "    \n",
    "    def isRealCity(self) -> bool:\n",
    "        return\n",
    "    \n",
    "    def step(self, action):\n",
    "        # Map the action (element of {0,1,2,3}) to the direction we walk in\n",
    "        direction = self._action_to_direction[action]\n",
    "        # We use `np.clip` to make sure we don't leave the grid\n",
    "        self._agent_location = np.clip(\n",
    "            self._agent_location + direction, 0, self.size - 1\n",
    "        )\n",
    "        # An episode is done iff the agent has reached the target\n",
    "        terminated = np.array_equal(self._agent_location, self._target_location)\n",
    "        RewardAgent = self.reward_map[self._agent_location[0], self._agent_location[1]]\n",
    "        distance = np.linalg.norm(self._agent_location - self._target_location, ord=1)\n",
    "        reward = 1000 if terminated else - np.sqrt(distance) + RewardAgent # Binary sparse rewards\n",
    "        observation = self._get_obs()\n",
    "        info = self._get_info()\n",
    "\n",
    "        if self.render_mode == \"human\":\n",
    "            self._render_frame()\n",
    "        # EXPECTED OUTPUTS BY STABLE BASELINE 3\n",
    "        # obs, reward, done, info\n",
    "        # EXPECTED OUTPUT IN STABLE BASELINE3 - PPO.learn\n",
    "        # obs, self.buf_rews[env_idx], terminated, truncated, self.buf_infos[env_idx]\n",
    "        return observation, reward, terminated, False, info"
   ]
  },
  {
   "cell_type": "code",
   "execution_count": 791,
   "id": "45b06004-1e6a-4680-b3ad-a828dbb201bf",
   "metadata": {},
   "outputs": [
    {
     "data": {
      "text/plain": [
       "({'agent': array([107,  74]),\n",
       "  'observation': Box([104.  71.], [110.  77.], (2,), float32)},\n",
       " {'observation': Box([104.  71.], [110.  77.], (2,), float32)})"
      ]
     },
     "execution_count": 791,
     "metadata": {},
     "output_type": "execute_result"
    }
   ],
   "source": [
    "RCenv = RealCity(src=filesrc, res=128, obsRadius=3)\n",
    "RCenv.reset()"
   ]
  },
  {
   "cell_type": "code",
   "execution_count": 792,
   "id": "90d325e6-acaf-4154-a792-c0dd6b2aa3b1",
   "metadata": {},
   "outputs": [
    {
     "data": {
      "image/png": "[encoded data removed]",
      "text/plain": [
       "<Figure size 432x288 with 1 Axes>"
      ]
     },
     "metadata": {
      "needs_background": "light"
     },
     "output_type": "display_data"
    }
   ],
   "source": [
    "RCenv.printState()"
   ]
  },
  {
   "cell_type": "code",
   "execution_count": 793,
   "id": "43995295-2be6-499c-b16b-b499478b8bd6",
   "metadata": {},
   "outputs": [],
   "source": [
    "for i in range(5000):\n",
    "    RCenv.step(RCenv.action_space.sample())"
   ]
  },
  {
   "cell_type": "code",
   "execution_count": 794,
   "id": "0f485dd7-302e-4c0d-8e8c-848113f4a448",
   "metadata": {},
   "outputs": [
    {
     "data": {
      "image/png": "[encoded data removed]",
      "text/plain": [
       "<Figure size 432x288 with 1 Axes>"
      ]
     },
     "metadata": {
      "needs_background": "light"
     },
     "output_type": "display_data"
    }
   ],
   "source": [
    "RCenv.printState()"
   ]
  },
  {
   "cell_type": "code",
   "execution_count": 797,
   "id": "2f753d03-399a-4c8a-96de-270671eaee5d",
   "metadata": {},
   "outputs": [
    {
     "data": {
      "image/png": "[encoded data removed]",
      "text/plain": [
       "<Figure size 432x288 with 1 Axes>"
      ]
     },
     "metadata": {
      "needs_background": "light"
     },
     "output_type": "display_data"
    }
   ],
   "source": [
    "RCenv.printObservations()"
   ]
  },
  {
   "cell_type": "code",
   "execution_count": null,
   "id": "dd3dd87b-4c8e-4674-b4f9-80aa8ababd38",
   "metadata": {},
   "outputs": [],
   "source": []
  },
  {
   "cell_type": "code",
   "execution_count": 446,
   "id": "d3fb2528-c8a3-43e9-9809-974ebe08d5e8",
   "metadata": {
    "collapsed": true,
    "jupyter": {
     "outputs_hidden": true
    },
    "tags": []
   },
   "outputs": [
    {
     "name": "stdout",
     "output_type": "stream",
     "text": [
      "None\n",
      "None\n",
      "Step: 0 | Steps: 10 | Agent: [34 25] | Observation: Box([31. 22.], [37. 28.], (2,), float32) | Score: -108.07190401635323\n",
      "None\n",
      "Step: 1 | Steps: 10 | Agent: [69 77] | Observation: Box([66. 74.], [72. 80.], (2,), float32) | Score: -94.28102727315755\n",
      "None\n",
      "Step: 2 | Steps: 10 | Agent: [80 76] | Observation: Box([77. 73.], [83. 79.], (2,), float32) | Score: -98.33139883517079\n",
      "None\n",
      "Step: 3 | Steps: 10 | Agent: [62 63] | Observation: Box([59. 60.], [65. 66.], (2,), float32) | Score: -62.50522686200185\n",
      "None\n",
      "Step: 4 | Steps: 10 | Agent: [78 91] | Observation: Box([75. 88.], [81. 94.], (2,), float32) | Score: -31.66951120575565\n",
      "None\n",
      "Step: 5 | Steps: 10 | Agent: [104  49] | Observation: Box([101.  46.], [107.  52.], (2,), float32) | Score: -86.36612632766712\n",
      "None\n",
      "Step: 6 | Steps: 10 | Agent: [91 22] | Observation: Box([88. 19.], [94. 25.], (2,), float32) | Score: -73.82209552460918\n",
      "None\n",
      "Step: 7 | Steps: 10 | Agent: [99 23] | Observation: Box([96. 20.], [102.  26.], (2,), float32) | Score: -80.61155300697128\n",
      "None\n",
      "Step: 8 | Steps: 10 | Agent: [121  70] | Observation: Box([118.  67.], [124.  73.], (2,), float32) | Score: -80.43341835459783\n",
      "None\n",
      "Step: 9 | Steps: 10 | Agent: [105  87] | Observation: Box([102.  84.], [108.  90.], (2,), float32) | Score: -74.42561015424313\n"
     ]
    }
   ],
   "source": [
    "RCenv.reset()\n",
    "steps = 10\n",
    "for step in range(steps):\n",
    "    state = RCenv.reset()\n",
    "    terminated = False\n",
    "    score = 0\n",
    "    n_state = 0\n",
    "    \n",
    "    while not terminated:\n",
    "        action = RCenv.action_space.sample()\n",
    "        # observation, reward, terminated, False, info\n",
    "        observation, reward, terminated, truncated, obs = RCenv.step(action)\n",
    "        score += reward\n",
    "        n_state += 1\n",
    "        if n_state == steps:\n",
    "            terminated = True\n",
    "    print(f\"Step: {step} | Steps: {n_state} | Agent: {observation['agent']} | Observation: {obs['observation']} | Score: {score}\")"
   ]
  },
  {
   "cell_type": "code",
   "execution_count": null,
   "id": "2395f1c4-2c03-43d3-9996-65050bd79843",
   "metadata": {},
   "outputs": [],
   "source": [
    "plt.hist(RCenv.reward_map.flatten());"
   ]
  },
  {
   "cell_type": "markdown",
   "id": "5c45480f-b17d-496c-92f4-3a8c06eb62d6",
   "metadata": {
    "jp-MarkdownHeadingCollapsed": true,
    "tags": []
   },
   "source": [
    "## 2.1 PPO with Stable Baseline\n",
    "not working :-("
   ]
  },
  {
   "cell_type": "code",
   "execution_count": 158,
   "id": "3cda6aa9-a973-419b-a11c-f9f2ae771241",
   "metadata": {},
   "outputs": [],
   "source": [
    "budget_pendulum = 4000"
   ]
  },
  {
   "cell_type": "code",
   "execution_count": 32,
   "id": "150857f8-522e-4ad2-bbd5-3d1f0933021c",
   "metadata": {},
   "outputs": [],
   "source": [
    "ppo_model = PPO(\"MultiInputPolicy\", RCenv, verbose=0).learn(budget_pendulum)"
   ]
  },
  {
   "cell_type": "code",
   "execution_count": 33,
   "id": "83082b2f-3895-41f2-9363-a2c7d1c2141a",
   "metadata": {},
   "outputs": [],
   "source": [
    "obs = RCenv.reset()"
   ]
  },
  {
   "cell_type": "code",
   "execution_count": 34,
   "id": "1e7eb92a-0d07-4342-908b-22f50d2f7f2b",
   "metadata": {},
   "outputs": [],
   "source": [
    "#why not QLearning?! Q Learning is not worse than PPO in many cases -> Double Deep Q Networks!!!!!!! "
   ]
  },
  {
   "cell_type": "markdown",
   "id": "9b603057-74cf-40f7-91b4-1209c71d90f5",
   "metadata": {},
   "source": [
    "my "
   ]
  },
  {
   "cell_type": "code",
   "execution_count": null,
   "id": "a3fdcff5-1050-4632-bacf-bd99bbc5e965",
   "metadata": {
    "collapsed": true,
    "jupyter": {
     "outputs_hidden": true
    },
    "tags": []
   },
   "outputs": [
    {
     "name": "stderr",
     "output_type": "stream",
     "text": [
      "Python 3.9.12 (main, Apr  5 2022, 06:56:58) \n",
      "[GCC 7.5.0] on linux\n",
      "Type \"help\", \"copyright\", \"credits\" or \"license\" for more information.\n",
      "(InteractiveConsole)\n"
     ]
    },
    {
     "name": "stdout",
     "output_type": "stream",
     "text": [
      "Observation Space.Space.item: odict_items([('agent', Box(0, 127, (2,), int64)), ('target', Box(0, 127, (2,), int64))])\n",
      "In :  obs_as_tensor(observation, self.device)\n"
     ]
    },
    {
     "ename": "TypeError",
     "evalue": "can't convert np.ndarray of type numpy.object_. The only supported types are: float64, float32, float16, complex64, complex128, int64, int32, int16, int8, uint8, and bool.",
     "output_type": "error",
     "traceback": [
      "\u001b[0;31m---------------------------------------------------------------------------\u001b[0m",
      "\u001b[0;31mTypeError\u001b[0m                                 Traceback (most recent call last)",
      "File \u001b[0;32m/opt/anaconda3/lib/python3.9/code.py:90\u001b[0m, in \u001b[0;36mInteractiveInterpreter.runcode\u001b[0;34m(self, code)\u001b[0m\n\u001b[1;32m     78\u001b[0m \u001b[38;5;124;03m\"\"\"Execute a code object.\u001b[39;00m\n\u001b[1;32m     79\u001b[0m \n\u001b[1;32m     80\u001b[0m \u001b[38;5;124;03mWhen an exception occurs, self.showtraceback() is called to\u001b[39;00m\n\u001b[0;32m   (...)\u001b[0m\n\u001b[1;32m     87\u001b[0m \n\u001b[1;32m     88\u001b[0m \u001b[38;5;124;03m\"\"\"\u001b[39;00m\n\u001b[1;32m     89\u001b[0m \u001b[38;5;28;01mtry\u001b[39;00m:\n\u001b[0;32m---> 90\u001b[0m     \u001b[43mexec\u001b[49m\u001b[43m(\u001b[49m\u001b[43mcode\u001b[49m\u001b[43m,\u001b[49m\u001b[43m \u001b[49m\u001b[38;5;28;43mself\u001b[39;49m\u001b[38;5;241;43m.\u001b[39;49m\u001b[43mlocals\u001b[49m\u001b[43m)\u001b[49m\n\u001b[1;32m     91\u001b[0m \u001b[38;5;28;01mexcept\u001b[39;00m \u001b[38;5;167;01mSystemExit\u001b[39;00m:\n\u001b[1;32m     92\u001b[0m     \u001b[38;5;28;01mraise\u001b[39;00m\n",
      "File \u001b[0;32m<console>:1\u001b[0m, in \u001b[0;36m<module>\u001b[0;34m\u001b[0m\n",
      "File \u001b[0;32m/opt/anaconda3/lib/python3.9/site-packages/stable_baselines3/common/utils.py:509\u001b[0m, in \u001b[0;36mobs_as_tensor\u001b[0;34m(obs, device)\u001b[0m\n\u001b[1;32m    501\u001b[0m \u001b[38;5;124;03m\"\"\"\u001b[39;00m\n\u001b[1;32m    502\u001b[0m \u001b[38;5;124;03mMoves the observation to the given device.\u001b[39;00m\n\u001b[1;32m    503\u001b[0m \n\u001b[0;32m   (...)\u001b[0m\n\u001b[1;32m    506\u001b[0m \u001b[38;5;124;03m:return: PyTorch tensor of the observation on a desired device.\u001b[39;00m\n\u001b[1;32m    507\u001b[0m \u001b[38;5;124;03m\"\"\"\u001b[39;00m\n\u001b[1;32m    508\u001b[0m \u001b[38;5;28;01mif\u001b[39;00m \u001b[38;5;28misinstance\u001b[39m(obs, np\u001b[38;5;241m.\u001b[39mndarray):\n\u001b[0;32m--> 509\u001b[0m     \u001b[38;5;28;01mreturn\u001b[39;00m \u001b[43mth\u001b[49m\u001b[38;5;241;43m.\u001b[39;49m\u001b[43mas_tensor\u001b[49m\u001b[43m(\u001b[49m\u001b[43mobs\u001b[49m\u001b[43m,\u001b[49m\u001b[43m \u001b[49m\u001b[43mdevice\u001b[49m\u001b[38;5;241;43m=\u001b[39;49m\u001b[43mdevice\u001b[49m\u001b[43m)\u001b[49m\n\u001b[1;32m    510\u001b[0m \u001b[38;5;28;01melif\u001b[39;00m \u001b[38;5;28misinstance\u001b[39m(obs, \u001b[38;5;28mdict\u001b[39m):\n\u001b[1;32m    511\u001b[0m     \u001b[38;5;28;01mreturn\u001b[39;00m {key: th\u001b[38;5;241m.\u001b[39mas_tensor(_obs, device\u001b[38;5;241m=\u001b[39mdevice) \u001b[38;5;28;01mfor\u001b[39;00m (key, _obs) \u001b[38;5;129;01min\u001b[39;00m obs\u001b[38;5;241m.\u001b[39mitems()}\n",
      "\u001b[0;31mTypeError\u001b[0m: can't convert np.ndarray of type numpy.object_. The only supported types are: float64, float32, float16, complex64, complex128, int64, int32, int16, int8, uint8, and bool."
     ]
    },
    {
     "name": "stdout",
     "output_type": "stream",
     "text": [
      "In :  observation\n"
     ]
    },
    {
     "data": {
      "text/plain": [
       "array([{'agent': array([114,   2]), 'target': array([55, 23])},\n",
       "       {'distance': 80.0}], dtype=object)"
      ]
     },
     "execution_count": 21,
     "metadata": {},
     "output_type": "execute_result"
    },
    {
     "name": "stdout",
     "output_type": "stream",
     "text": [
      "In :  list(observation)\n"
     ]
    },
    {
     "data": {
      "text/plain": [
       "[{'agent': array([114,   2]), 'target': array([55, 23])}, {'distance': 80.0}]"
      ]
     },
     "execution_count": 21,
     "metadata": {},
     "output_type": "execute_result"
    },
    {
     "name": "stdout",
     "output_type": "stream",
     "text": [
      "In :  key, items = observation.keys(), observation.values()\n"
     ]
    },
    {
     "ename": "AttributeError",
     "evalue": "'numpy.ndarray' object has no attribute 'keys'",
     "output_type": "error",
     "traceback": [
      "\u001b[0;31m---------------------------------------------------------------------------\u001b[0m",
      "\u001b[0;31mAttributeError\u001b[0m                            Traceback (most recent call last)",
      "File \u001b[0;32m/opt/anaconda3/lib/python3.9/code.py:90\u001b[0m, in \u001b[0;36mInteractiveInterpreter.runcode\u001b[0;34m(self, code)\u001b[0m\n\u001b[1;32m     78\u001b[0m \u001b[38;5;124;03m\"\"\"Execute a code object.\u001b[39;00m\n\u001b[1;32m     79\u001b[0m \n\u001b[1;32m     80\u001b[0m \u001b[38;5;124;03mWhen an exception occurs, self.showtraceback() is called to\u001b[39;00m\n\u001b[0;32m   (...)\u001b[0m\n\u001b[1;32m     87\u001b[0m \n\u001b[1;32m     88\u001b[0m \u001b[38;5;124;03m\"\"\"\u001b[39;00m\n\u001b[1;32m     89\u001b[0m \u001b[38;5;28;01mtry\u001b[39;00m:\n\u001b[0;32m---> 90\u001b[0m     \u001b[43mexec\u001b[49m\u001b[43m(\u001b[49m\u001b[43mcode\u001b[49m\u001b[43m,\u001b[49m\u001b[43m \u001b[49m\u001b[38;5;28;43mself\u001b[39;49m\u001b[38;5;241;43m.\u001b[39;49m\u001b[43mlocals\u001b[49m\u001b[43m)\u001b[49m\n\u001b[1;32m     91\u001b[0m \u001b[38;5;28;01mexcept\u001b[39;00m \u001b[38;5;167;01mSystemExit\u001b[39;00m:\n\u001b[1;32m     92\u001b[0m     \u001b[38;5;28;01mraise\u001b[39;00m\n",
      "File \u001b[0;32m<console>:1\u001b[0m, in \u001b[0;36m<module>\u001b[0;34m\u001b[0m\n",
      "\u001b[0;31mAttributeError\u001b[0m: 'numpy.ndarray' object has no attribute 'keys'"
     ]
    },
    {
     "name": "stdout",
     "output_type": "stream",
     "text": [
      "In :  type(observation)\n"
     ]
    },
    {
     "data": {
      "text/plain": [
       "numpy.ndarray"
      ]
     },
     "execution_count": 21,
     "metadata": {},
     "output_type": "execute_result"
    },
    {
     "name": "stdout",
     "output_type": "stream",
     "text": [
      "In :  obs_as_tensor(observation, self.device)\n"
     ]
    },
    {
     "ename": "TypeError",
     "evalue": "can't convert np.ndarray of type numpy.object_. The only supported types are: float64, float32, float16, complex64, complex128, int64, int32, int16, int8, uint8, and bool.",
     "output_type": "error",
     "traceback": [
      "\u001b[0;31m---------------------------------------------------------------------------\u001b[0m",
      "\u001b[0;31mTypeError\u001b[0m                                 Traceback (most recent call last)",
      "File \u001b[0;32m/opt/anaconda3/lib/python3.9/code.py:90\u001b[0m, in \u001b[0;36mInteractiveInterpreter.runcode\u001b[0;34m(self, code)\u001b[0m\n\u001b[1;32m     78\u001b[0m \u001b[38;5;124;03m\"\"\"Execute a code object.\u001b[39;00m\n\u001b[1;32m     79\u001b[0m \n\u001b[1;32m     80\u001b[0m \u001b[38;5;124;03mWhen an exception occurs, self.showtraceback() is called to\u001b[39;00m\n\u001b[0;32m   (...)\u001b[0m\n\u001b[1;32m     87\u001b[0m \n\u001b[1;32m     88\u001b[0m \u001b[38;5;124;03m\"\"\"\u001b[39;00m\n\u001b[1;32m     89\u001b[0m \u001b[38;5;28;01mtry\u001b[39;00m:\n\u001b[0;32m---> 90\u001b[0m     \u001b[43mexec\u001b[49m\u001b[43m(\u001b[49m\u001b[43mcode\u001b[49m\u001b[43m,\u001b[49m\u001b[43m \u001b[49m\u001b[38;5;28;43mself\u001b[39;49m\u001b[38;5;241;43m.\u001b[39;49m\u001b[43mlocals\u001b[49m\u001b[43m)\u001b[49m\n\u001b[1;32m     91\u001b[0m \u001b[38;5;28;01mexcept\u001b[39;00m \u001b[38;5;167;01mSystemExit\u001b[39;00m:\n\u001b[1;32m     92\u001b[0m     \u001b[38;5;28;01mraise\u001b[39;00m\n",
      "File \u001b[0;32m<console>:1\u001b[0m, in \u001b[0;36m<module>\u001b[0;34m\u001b[0m\n",
      "File \u001b[0;32m/opt/anaconda3/lib/python3.9/site-packages/stable_baselines3/common/utils.py:509\u001b[0m, in \u001b[0;36mobs_as_tensor\u001b[0;34m(obs, device)\u001b[0m\n\u001b[1;32m    501\u001b[0m \u001b[38;5;124;03m\"\"\"\u001b[39;00m\n\u001b[1;32m    502\u001b[0m \u001b[38;5;124;03mMoves the observation to the given device.\u001b[39;00m\n\u001b[1;32m    503\u001b[0m \n\u001b[0;32m   (...)\u001b[0m\n\u001b[1;32m    506\u001b[0m \u001b[38;5;124;03m:return: PyTorch tensor of the observation on a desired device.\u001b[39;00m\n\u001b[1;32m    507\u001b[0m \u001b[38;5;124;03m\"\"\"\u001b[39;00m\n\u001b[1;32m    508\u001b[0m \u001b[38;5;28;01mif\u001b[39;00m \u001b[38;5;28misinstance\u001b[39m(obs, np\u001b[38;5;241m.\u001b[39mndarray):\n\u001b[0;32m--> 509\u001b[0m     \u001b[38;5;28;01mreturn\u001b[39;00m \u001b[43mth\u001b[49m\u001b[38;5;241;43m.\u001b[39;49m\u001b[43mas_tensor\u001b[49m\u001b[43m(\u001b[49m\u001b[43mobs\u001b[49m\u001b[43m,\u001b[49m\u001b[43m \u001b[49m\u001b[43mdevice\u001b[49m\u001b[38;5;241;43m=\u001b[39;49m\u001b[43mdevice\u001b[49m\u001b[43m)\u001b[49m\n\u001b[1;32m    510\u001b[0m \u001b[38;5;28;01melif\u001b[39;00m \u001b[38;5;28misinstance\u001b[39m(obs, \u001b[38;5;28mdict\u001b[39m):\n\u001b[1;32m    511\u001b[0m     \u001b[38;5;28;01mreturn\u001b[39;00m {key: th\u001b[38;5;241m.\u001b[39mas_tensor(_obs, device\u001b[38;5;241m=\u001b[39mdevice) \u001b[38;5;28;01mfor\u001b[39;00m (key, _obs) \u001b[38;5;129;01min\u001b[39;00m obs\u001b[38;5;241m.\u001b[39mitems()}\n",
      "\u001b[0;31mTypeError\u001b[0m: can't convert np.ndarray of type numpy.object_. The only supported types are: float64, float32, float16, complex64, complex128, int64, int32, int16, int8, uint8, and bool."
     ]
    },
    {
     "name": "stdout",
     "output_type": "stream",
     "text": [
      "In :  observation[0].values()\n"
     ]
    },
    {
     "data": {
      "text/plain": [
       "dict_values([array([114,   2]), array([55, 23])])"
      ]
     },
     "execution_count": 21,
     "metadata": {},
     "output_type": "execute_result"
    },
    {
     "name": "stdout",
     "output_type": "stream",
     "text": [
      "In :  array(observation[0].values())\n"
     ]
    },
    {
     "ename": "NameError",
     "evalue": "name 'array' is not defined",
     "output_type": "error",
     "traceback": [
      "\u001b[0;31m---------------------------------------------------------------------------\u001b[0m",
      "\u001b[0;31mNameError\u001b[0m                                 Traceback (most recent call last)",
      "File \u001b[0;32m/opt/anaconda3/lib/python3.9/code.py:90\u001b[0m, in \u001b[0;36mInteractiveInterpreter.runcode\u001b[0;34m(self, code)\u001b[0m\n\u001b[1;32m     78\u001b[0m \u001b[38;5;124;03m\"\"\"Execute a code object.\u001b[39;00m\n\u001b[1;32m     79\u001b[0m \n\u001b[1;32m     80\u001b[0m \u001b[38;5;124;03mWhen an exception occurs, self.showtraceback() is called to\u001b[39;00m\n\u001b[0;32m   (...)\u001b[0m\n\u001b[1;32m     87\u001b[0m \n\u001b[1;32m     88\u001b[0m \u001b[38;5;124;03m\"\"\"\u001b[39;00m\n\u001b[1;32m     89\u001b[0m \u001b[38;5;28;01mtry\u001b[39;00m:\n\u001b[0;32m---> 90\u001b[0m     \u001b[43mexec\u001b[49m\u001b[43m(\u001b[49m\u001b[43mcode\u001b[49m\u001b[43m,\u001b[49m\u001b[43m \u001b[49m\u001b[38;5;28;43mself\u001b[39;49m\u001b[38;5;241;43m.\u001b[39;49m\u001b[43mlocals\u001b[49m\u001b[43m)\u001b[49m\n\u001b[1;32m     91\u001b[0m \u001b[38;5;28;01mexcept\u001b[39;00m \u001b[38;5;167;01mSystemExit\u001b[39;00m:\n\u001b[1;32m     92\u001b[0m     \u001b[38;5;28;01mraise\u001b[39;00m\n",
      "File \u001b[0;32m<console>:1\u001b[0m, in \u001b[0;36m<module>\u001b[0;34m\u001b[0m\n",
      "\u001b[0;31mNameError\u001b[0m: name 'array' is not defined"
     ]
    },
    {
     "name": "stdout",
     "output_type": "stream",
     "text": [
      "In :  np.array(observation[0].values())\n"
     ]
    },
    {
     "data": {
      "text/plain": [
       "array(dict_values([array([114,   2]), array([55, 23])]), dtype=object)"
      ]
     },
     "execution_count": 21,
     "metadata": {},
     "output_type": "execute_result"
    },
    {
     "name": "stdout",
     "output_type": "stream",
     "text": [
      "In :  type(observation[0].values())\n"
     ]
    },
    {
     "data": {
      "text/plain": [
       "dict_values"
      ]
     },
     "execution_count": 21,
     "metadata": {},
     "output_type": "execute_result"
    },
    {
     "name": "stdout",
     "output_type": "stream",
     "text": [
      "In :  list(observation[0].values())\n"
     ]
    },
    {
     "data": {
      "text/plain": [
       "[array([114,   2]), array([55, 23])]"
      ]
     },
     "execution_count": 21,
     "metadata": {},
     "output_type": "execute_result"
    },
    {
     "name": "stdout",
     "output_type": "stream",
     "text": [
      "In :  t = list(observation[0].values())\n",
      "In :  t.reshape((-1,) + self.observation_space[key].shape)\n"
     ]
    },
    {
     "ename": "AttributeError",
     "evalue": "'list' object has no attribute 'reshape'",
     "output_type": "error",
     "traceback": [
      "\u001b[0;31m---------------------------------------------------------------------------\u001b[0m",
      "\u001b[0;31mAttributeError\u001b[0m                            Traceback (most recent call last)",
      "File \u001b[0;32m/opt/anaconda3/lib/python3.9/code.py:90\u001b[0m, in \u001b[0;36mInteractiveInterpreter.runcode\u001b[0;34m(self, code)\u001b[0m\n\u001b[1;32m     78\u001b[0m \u001b[38;5;124;03m\"\"\"Execute a code object.\u001b[39;00m\n\u001b[1;32m     79\u001b[0m \n\u001b[1;32m     80\u001b[0m \u001b[38;5;124;03mWhen an exception occurs, self.showtraceback() is called to\u001b[39;00m\n\u001b[0;32m   (...)\u001b[0m\n\u001b[1;32m     87\u001b[0m \n\u001b[1;32m     88\u001b[0m \u001b[38;5;124;03m\"\"\"\u001b[39;00m\n\u001b[1;32m     89\u001b[0m \u001b[38;5;28;01mtry\u001b[39;00m:\n\u001b[0;32m---> 90\u001b[0m     \u001b[43mexec\u001b[49m\u001b[43m(\u001b[49m\u001b[43mcode\u001b[49m\u001b[43m,\u001b[49m\u001b[43m \u001b[49m\u001b[38;5;28;43mself\u001b[39;49m\u001b[38;5;241;43m.\u001b[39;49m\u001b[43mlocals\u001b[49m\u001b[43m)\u001b[49m\n\u001b[1;32m     91\u001b[0m \u001b[38;5;28;01mexcept\u001b[39;00m \u001b[38;5;167;01mSystemExit\u001b[39;00m:\n\u001b[1;32m     92\u001b[0m     \u001b[38;5;28;01mraise\u001b[39;00m\n",
      "File \u001b[0;32m<console>:1\u001b[0m, in \u001b[0;36m<module>\u001b[0;34m\u001b[0m\n",
      "\u001b[0;31mAttributeError\u001b[0m: 'list' object has no attribute 'reshape'"
     ]
    },
    {
     "name": "stdout",
     "output_type": "stream",
     "text": [
      "In :  t = np.array(observation[0].values())\n",
      "In :  t.reshape((-1,) + self.observation_space[key].shape)\n"
     ]
    },
    {
     "ename": "NameError",
     "evalue": "name 'key' is not defined",
     "output_type": "error",
     "traceback": [
      "\u001b[0;31m---------------------------------------------------------------------------\u001b[0m",
      "\u001b[0;31mNameError\u001b[0m                                 Traceback (most recent call last)",
      "File \u001b[0;32m/opt/anaconda3/lib/python3.9/code.py:90\u001b[0m, in \u001b[0;36mInteractiveInterpreter.runcode\u001b[0;34m(self, code)\u001b[0m\n\u001b[1;32m     78\u001b[0m \u001b[38;5;124;03m\"\"\"Execute a code object.\u001b[39;00m\n\u001b[1;32m     79\u001b[0m \n\u001b[1;32m     80\u001b[0m \u001b[38;5;124;03mWhen an exception occurs, self.showtraceback() is called to\u001b[39;00m\n\u001b[0;32m   (...)\u001b[0m\n\u001b[1;32m     87\u001b[0m \n\u001b[1;32m     88\u001b[0m \u001b[38;5;124;03m\"\"\"\u001b[39;00m\n\u001b[1;32m     89\u001b[0m \u001b[38;5;28;01mtry\u001b[39;00m:\n\u001b[0;32m---> 90\u001b[0m     \u001b[43mexec\u001b[49m\u001b[43m(\u001b[49m\u001b[43mcode\u001b[49m\u001b[43m,\u001b[49m\u001b[43m \u001b[49m\u001b[38;5;28;43mself\u001b[39;49m\u001b[38;5;241;43m.\u001b[39;49m\u001b[43mlocals\u001b[49m\u001b[43m)\u001b[49m\n\u001b[1;32m     91\u001b[0m \u001b[38;5;28;01mexcept\u001b[39;00m \u001b[38;5;167;01mSystemExit\u001b[39;00m:\n\u001b[1;32m     92\u001b[0m     \u001b[38;5;28;01mraise\u001b[39;00m\n",
      "File \u001b[0;32m<console>:1\u001b[0m, in \u001b[0;36m<module>\u001b[0;34m\u001b[0m\n",
      "\u001b[0;31mNameError\u001b[0m: name 'key' is not defined"
     ]
    },
    {
     "name": "stdout",
     "output_type": "stream",
     "text": [
      "In :  key\n"
     ]
    },
    {
     "ename": "NameError",
     "evalue": "name 'key' is not defined",
     "output_type": "error",
     "traceback": [
      "\u001b[0;31m---------------------------------------------------------------------------\u001b[0m",
      "\u001b[0;31mNameError\u001b[0m                                 Traceback (most recent call last)",
      "File \u001b[0;32m/opt/anaconda3/lib/python3.9/code.py:90\u001b[0m, in \u001b[0;36mInteractiveInterpreter.runcode\u001b[0;34m(self, code)\u001b[0m\n\u001b[1;32m     78\u001b[0m \u001b[38;5;124;03m\"\"\"Execute a code object.\u001b[39;00m\n\u001b[1;32m     79\u001b[0m \n\u001b[1;32m     80\u001b[0m \u001b[38;5;124;03mWhen an exception occurs, self.showtraceback() is called to\u001b[39;00m\n\u001b[0;32m   (...)\u001b[0m\n\u001b[1;32m     87\u001b[0m \n\u001b[1;32m     88\u001b[0m \u001b[38;5;124;03m\"\"\"\u001b[39;00m\n\u001b[1;32m     89\u001b[0m \u001b[38;5;28;01mtry\u001b[39;00m:\n\u001b[0;32m---> 90\u001b[0m     \u001b[43mexec\u001b[49m\u001b[43m(\u001b[49m\u001b[43mcode\u001b[49m\u001b[43m,\u001b[49m\u001b[43m \u001b[49m\u001b[38;5;28;43mself\u001b[39;49m\u001b[38;5;241;43m.\u001b[39;49m\u001b[43mlocals\u001b[49m\u001b[43m)\u001b[49m\n\u001b[1;32m     91\u001b[0m \u001b[38;5;28;01mexcept\u001b[39;00m \u001b[38;5;167;01mSystemExit\u001b[39;00m:\n\u001b[1;32m     92\u001b[0m     \u001b[38;5;28;01mraise\u001b[39;00m\n",
      "File \u001b[0;32m<console>:1\u001b[0m, in \u001b[0;36m<module>\u001b[0;34m\u001b[0m\n",
      "\u001b[0;31mNameError\u001b[0m: name 'key' is not defined"
     ]
    },
    {
     "name": "stdout",
     "output_type": "stream",
     "text": [
      "In :  observation_space\n"
     ]
    },
    {
     "ename": "NameError",
     "evalue": "name 'observation_space' is not defined",
     "output_type": "error",
     "traceback": [
      "\u001b[0;31m---------------------------------------------------------------------------\u001b[0m",
      "\u001b[0;31mNameError\u001b[0m                                 Traceback (most recent call last)",
      "File \u001b[0;32m/opt/anaconda3/lib/python3.9/code.py:90\u001b[0m, in \u001b[0;36mInteractiveInterpreter.runcode\u001b[0;34m(self, code)\u001b[0m\n\u001b[1;32m     78\u001b[0m \u001b[38;5;124;03m\"\"\"Execute a code object.\u001b[39;00m\n\u001b[1;32m     79\u001b[0m \n\u001b[1;32m     80\u001b[0m \u001b[38;5;124;03mWhen an exception occurs, self.showtraceback() is called to\u001b[39;00m\n\u001b[0;32m   (...)\u001b[0m\n\u001b[1;32m     87\u001b[0m \n\u001b[1;32m     88\u001b[0m \u001b[38;5;124;03m\"\"\"\u001b[39;00m\n\u001b[1;32m     89\u001b[0m \u001b[38;5;28;01mtry\u001b[39;00m:\n\u001b[0;32m---> 90\u001b[0m     \u001b[43mexec\u001b[49m\u001b[43m(\u001b[49m\u001b[43mcode\u001b[49m\u001b[43m,\u001b[49m\u001b[43m \u001b[49m\u001b[38;5;28;43mself\u001b[39;49m\u001b[38;5;241;43m.\u001b[39;49m\u001b[43mlocals\u001b[49m\u001b[43m)\u001b[49m\n\u001b[1;32m     91\u001b[0m \u001b[38;5;28;01mexcept\u001b[39;00m \u001b[38;5;167;01mSystemExit\u001b[39;00m:\n\u001b[1;32m     92\u001b[0m     \u001b[38;5;28;01mraise\u001b[39;00m\n",
      "File \u001b[0;32m<console>:1\u001b[0m, in \u001b[0;36m<module>\u001b[0;34m\u001b[0m\n",
      "\u001b[0;31mNameError\u001b[0m: name 'observation_space' is not defined"
     ]
    },
    {
     "name": "stdout",
     "output_type": "stream",
     "text": [
      "In :  self.observation_space.shape\n",
      "In :  self.observation_space.shape()\n"
     ]
    },
    {
     "ename": "TypeError",
     "evalue": "'NoneType' object is not callable",
     "output_type": "error",
     "traceback": [
      "\u001b[0;31m---------------------------------------------------------------------------\u001b[0m",
      "\u001b[0;31mTypeError\u001b[0m                                 Traceback (most recent call last)",
      "File \u001b[0;32m/opt/anaconda3/lib/python3.9/code.py:90\u001b[0m, in \u001b[0;36mInteractiveInterpreter.runcode\u001b[0;34m(self, code)\u001b[0m\n\u001b[1;32m     78\u001b[0m \u001b[38;5;124;03m\"\"\"Execute a code object.\u001b[39;00m\n\u001b[1;32m     79\u001b[0m \n\u001b[1;32m     80\u001b[0m \u001b[38;5;124;03mWhen an exception occurs, self.showtraceback() is called to\u001b[39;00m\n\u001b[0;32m   (...)\u001b[0m\n\u001b[1;32m     87\u001b[0m \n\u001b[1;32m     88\u001b[0m \u001b[38;5;124;03m\"\"\"\u001b[39;00m\n\u001b[1;32m     89\u001b[0m \u001b[38;5;28;01mtry\u001b[39;00m:\n\u001b[0;32m---> 90\u001b[0m     \u001b[43mexec\u001b[49m\u001b[43m(\u001b[49m\u001b[43mcode\u001b[49m\u001b[43m,\u001b[49m\u001b[43m \u001b[49m\u001b[38;5;28;43mself\u001b[39;49m\u001b[38;5;241;43m.\u001b[39;49m\u001b[43mlocals\u001b[49m\u001b[43m)\u001b[49m\n\u001b[1;32m     91\u001b[0m \u001b[38;5;28;01mexcept\u001b[39;00m \u001b[38;5;167;01mSystemExit\u001b[39;00m:\n\u001b[1;32m     92\u001b[0m     \u001b[38;5;28;01mraise\u001b[39;00m\n",
      "File \u001b[0;32m<console>:1\u001b[0m, in \u001b[0;36m<module>\u001b[0;34m\u001b[0m\n",
      "\u001b[0;31mTypeError\u001b[0m: 'NoneType' object is not callable"
     ]
    },
    {
     "name": "stdout",
     "output_type": "stream",
     "text": [
      "In :  self.observation_space\n"
     ]
    },
    {
     "data": {
      "text/plain": [
       "Dict('agent': Box(0, 127, (2,), int64), 'target': Box(0, 127, (2,), int64))"
      ]
     },
     "execution_count": 21,
     "metadata": {},
     "output_type": "execute_result"
    }
   ],
   "source": [
    "ppo_model.predict(obs)"
   ]
  },
  {
   "cell_type": "code",
   "execution_count": null,
   "id": "908d5173-c89d-4609-b5b1-e16467f86a95",
   "metadata": {},
   "outputs": [],
   "source": []
  },
  {
   "cell_type": "code",
   "execution_count": null,
   "id": "261e10c4-646a-4f16-a518-067fb124a055",
   "metadata": {},
   "outputs": [],
   "source": []
  },
  {
   "cell_type": "code",
   "execution_count": 419,
   "id": "019ae96e-a402-4df9-b3cc-acf9e675580c",
   "metadata": {
    "collapsed": true,
    "jupyter": {
     "outputs_hidden": true
    },
    "tags": []
   },
   "outputs": [
    {
     "data": {
      "text/plain": [
       "({'agent': array([113,   1]), 'target': array([55, 23])},\n",
       " -18.94427190999916,\n",
       " False,\n",
       " False,\n",
       " {'distance': 80.0})"
      ]
     },
     "execution_count": 37,
     "metadata": {},
     "output_type": "execute_result"
    }
   ],
   "source": [
    "RCenv.step(RCenv.action_space.sample())"
   ]
  },
  {
   "cell_type": "code",
   "execution_count": 423,
   "id": "2508e317-d477-4352-b202-18b91ffbc8a9",
   "metadata": {},
   "outputs": [
    {
     "data": {
      "text/plain": [
       "2"
      ]
     },
     "execution_count": 38,
     "metadata": {},
     "output_type": "execute_result"
    }
   ],
   "source": [
    "RCenv.action_space.sample()"
   ]
  },
  {
   "cell_type": "code",
   "execution_count": 74,
   "id": "35aace97-ca4b-461a-86d5-faac4b7ccd1b",
   "metadata": {},
   "outputs": [],
   "source": [
    "from stable_baselines3.common.env_checker import check_env"
   ]
  },
  {
   "cell_type": "code",
   "execution_count": 75,
   "id": "9573a95d-a8a0-429a-acfc-7550b949bb29",
   "metadata": {},
   "outputs": [],
   "source": [
    "check_env(RCenv)"
   ]
  },
  {
   "cell_type": "code",
   "execution_count": 76,
   "id": "a92832c7-b9b4-4d1f-a9ca-72c4cfe9e415",
   "metadata": {},
   "outputs": [],
   "source": [
    "# env = YourEnv()\n",
    "obs = RCenv.reset()\n",
    "n_steps = 10\n",
    "for _ in range(n_steps):\n",
    "    # Random action\n",
    "    action = RCenv.action_space.sample()\n",
    "    obs, reward, done, truncated, info = RCenv.step(action)\n",
    "    if done:\n",
    "        print(\"DONE\")\n",
    "        obs = env.reset()"
   ]
  },
  {
   "cell_type": "code",
   "execution_count": 440,
   "id": "a54af7fe-d1af-406f-8f91-8d90f992c0d4",
   "metadata": {},
   "outputs": [
    {
     "data": {
      "text/plain": [
       "{'agent': array([95, 81]), 'target': array([49, 57])}"
      ]
     },
     "execution_count": 42,
     "metadata": {},
     "output_type": "execute_result"
    }
   ],
   "source": [
    "RCenv._get_obs()"
   ]
  },
  {
   "cell_type": "code",
   "execution_count": 441,
   "id": "3d974b30-9442-4367-aae1-255ba4349271",
   "metadata": {},
   "outputs": [],
   "source": [
    "obs = RCenv.reset()\n",
    "# observation, Genv.step(Genv.action_space.sample())\n",
    "# Genv.action_space.sample()"
   ]
  },
  {
   "cell_type": "code",
   "execution_count": 446,
   "id": "ecf17596-1bc8-48e1-8a0f-7fede860ccb9",
   "metadata": {},
   "outputs": [
    {
     "data": {
      "text/plain": [
       "({'agent': array([ 9, 77]), 'target': array([50, 28])}, {'distance': 90.0})"
      ]
     },
     "execution_count": 44,
     "metadata": {},
     "output_type": "execute_result"
    }
   ],
   "source": [
    "obs"
   ]
  },
  {
   "cell_type": "code",
   "execution_count": 458,
   "id": "6ec6886b-478a-4042-b4b0-4047ea36b2f4",
   "metadata": {
    "tags": []
   },
   "outputs": [
    {
     "name": "stdout",
     "output_type": "stream",
     "text": [
      "The autoreload extension is already loaded. To reload it, use:\n",
      "  %reload_ext autoreload\n"
     ]
    }
   ],
   "source": [
    "import gym\n",
    "from gym import Env\n",
    "from gym import spaces\n",
    "from gym.spaces import Discrete, Box\n",
    "import numpy as np\n",
    "import random\n",
    "import pygame\n",
    "import stable_baselines3\n",
    "from stable_baselines3 import PPO, A2C, SAC, TD3, DQN\n",
    "\n",
    "from PIL import Image\n",
    "import torch\n",
    "import torchvision.transforms.functional as TF\n",
    "\n",
    "# listing img files in directory data\n",
    "from os import listdir\n",
    "from os.path import isfile, join\n",
    "\n",
    "import random\n",
    "import numpy as np\n",
    "import matplotlib.pyplot as plt\n",
    "\n",
    "%matplotlib inline\n",
    "%load_ext autoreload\n",
    "%autoreload 2"
   ]
  },
  {
   "cell_type": "raw",
   "id": "00e0f7e7-86e3-4679-a4b8-a8bde25dde6e",
   "metadata": {
    "tags": []
   },
   "source": [
    "ppo_model.predict(RCenv)"
   ]
  },
  {
   "cell_type": "code",
   "execution_count": 448,
   "id": "9a9070c4-13fe-4800-9850-97e589b8b673",
   "metadata": {
    "tags": []
   },
   "outputs": [],
   "source": [
    "from stable_baselines3.common.env_util import make_vec_env"
   ]
  },
  {
   "cell_type": "code",
   "execution_count": 452,
   "id": "84743819-2cc1-40d0-a168-e0723e87f0f2",
   "metadata": {
    "tags": []
   },
   "outputs": [],
   "source": [
    "env = make_vec_env([RealCity(reward_map=ScoreSample)])"
   ]
  },
  {
   "cell_type": "code",
   "execution_count": 454,
   "id": "645f9b73-1a28-4b0a-bf1e-96fd211a773c",
   "metadata": {
    "collapsed": true,
    "jupyter": {
     "outputs_hidden": true
    },
    "tags": []
   },
   "outputs": [
    {
     "name": "stdout",
     "output_type": "stream",
     "text": [
      "Using cuda device\n",
      "Wrapping the env with a `Monitor` wrapper\n",
      "Wrapping the env in a DummyVecEnv.\n",
      "-----------------------------\n",
      "| time/              |      |\n",
      "|    fps             | 725  |\n",
      "|    iterations      | 1    |\n",
      "|    time_elapsed    | 2    |\n",
      "|    total_timesteps | 2048 |\n",
      "-----------------------------\n",
      "-----------------------------------------\n",
      "| time/                   |             |\n",
      "|    fps                  | 536         |\n",
      "|    iterations           | 2           |\n",
      "|    time_elapsed         | 7           |\n",
      "|    total_timesteps      | 4096        |\n",
      "| train/                  |             |\n",
      "|    approx_kl            | 0.014274165 |\n",
      "|    clip_fraction        | 0.102       |\n",
      "|    clip_range           | 0.2         |\n",
      "|    entropy_loss         | -2.07       |\n",
      "|    explained_variance   | -0.00149    |\n",
      "|    learning_rate        | 0.0003      |\n",
      "|    loss                 | 4.01e+03    |\n",
      "|    n_updates            | 10          |\n",
      "|    policy_gradient_loss | -0.00952    |\n",
      "|    value_loss           | 1.04e+04    |\n",
      "-----------------------------------------\n",
      "-----------------------------------------\n",
      "| time/                   |             |\n",
      "|    fps                  | 499         |\n",
      "|    iterations           | 3           |\n",
      "|    time_elapsed         | 12          |\n",
      "|    total_timesteps      | 6144        |\n",
      "| train/                  |             |\n",
      "|    approx_kl            | 0.012315769 |\n",
      "|    clip_fraction        | 0.0964      |\n",
      "|    clip_range           | 0.2         |\n",
      "|    entropy_loss         | -2.07       |\n",
      "|    explained_variance   | -0.0147     |\n",
      "|    learning_rate        | 0.0003      |\n",
      "|    loss                 | 1.18e+04    |\n",
      "|    n_updates            | 20          |\n",
      "|    policy_gradient_loss | -0.00949    |\n",
      "|    value_loss           | 2.59e+04    |\n",
      "-----------------------------------------\n"
     ]
    }
   ],
   "source": [
    "model = PPO(\"MultiInputPolicy\", RCenv, verbose=1)\n",
    "model.learn(total_timesteps=5000) # PPO(\"MultiInputPolicy\", RCenv, verbose=0).learn(budget_pendulum)\n",
    "model.save(\"RC_PPOModel\")\n",
    "\n",
    "del model # remove to demonstrate saving and loading\n",
    "\n",
    "model = PPO.load(\"RC_PPOModel\")\n",
    "\n",
    "obs = RCenv.reset()\n",
    "while True:\n",
    "    action, _states = model.predict(obs)\n",
    "    obs, rewards, dones, info = env.step(action)"
   ]
  },
  {
   "cell_type": "code",
   "execution_count": null,
   "id": "05c5a1de-7f0d-4095-8b7b-e99a0e17a436",
   "metadata": {
    "collapsed": true,
    "jupyter": {
     "outputs_hidden": true
    },
    "tags": []
   },
   "outputs": [
    {
     "name": "stderr",
     "output_type": "stream",
     "text": [
      "Python 3.9.12 (main, Apr  5 2022, 06:56:58) \n",
      "[GCC 7.5.0] on linux\n",
      "Type \"help\", \"copyright\", \"credits\" or \"license\" for more information.\n",
      "(InteractiveConsole)\n"
     ]
    },
    {
     "name": "stdout",
     "output_type": "stream",
     "text": [
      "Observation Space.Space.item: odict_items([('agent', Box(0, 127, (2,), int64)), ('target', Box(0, 127, (2,), int64))])\n",
      "In :  dir()\n"
     ]
    },
    {
     "data": {
      "text/plain": [
       "['Dict',\n",
       " 'GymEnv',\n",
       " 'Iterable',\n",
       " 'List',\n",
       " 'Logger',\n",
       " 'Optional',\n",
       " 'Schedule',\n",
       " 'SummaryWriter',\n",
       " 'TensorDict',\n",
       " 'TrainFreq',\n",
       " 'TrainFrequencyUnit',\n",
       " 'Tuple',\n",
       " 'Union',\n",
       " '__builtins__',\n",
       " '__cached__',\n",
       " '__doc__',\n",
       " '__file__',\n",
       " '__loader__',\n",
       " '__name__',\n",
       " '__package__',\n",
       " '__spec__',\n",
       " 'all_non_vectorized',\n",
       " 'check_for_correct_spaces',\n",
       " 'check_shape_equal',\n",
       " 'code',\n",
       " 'compat_gym_seed',\n",
       " 'configure',\n",
       " 'configure_logger',\n",
       " 'constant_fn',\n",
       " 'deque',\n",
       " 'explained_variance',\n",
       " 'get_device',\n",
       " 'get_latest_run_id',\n",
       " 'get_linear_fn',\n",
       " 'get_parameters_by_name',\n",
       " 'get_schedule_fn',\n",
       " 'get_system_info',\n",
       " 'glob',\n",
       " 'gym',\n",
       " 'is_vectorized_box_observation',\n",
       " 'is_vectorized_dict_observation',\n",
       " 'is_vectorized_discrete_observation',\n",
       " 'is_vectorized_multibinary_observation',\n",
       " 'is_vectorized_multidiscrete_observation',\n",
       " 'is_vectorized_observation',\n",
       " 'key',\n",
       " 'np',\n",
       " 'obs_as_tensor',\n",
       " 'observation',\n",
       " 'observation_space',\n",
       " 'os',\n",
       " 'platform',\n",
       " 'polyak_update',\n",
       " 'random',\n",
       " 're',\n",
       " 'safe_mean',\n",
       " 'sb3',\n",
       " 'set_random_seed',\n",
       " 'should_collect_more_steps',\n",
       " 'signature',\n",
       " 'spaces',\n",
       " 'subspace',\n",
       " 'th',\n",
       " 'update_learning_rate',\n",
       " 'zip_longest',\n",
       " 'zip_strict']"
      ]
     },
     "execution_count": 48,
     "metadata": {},
     "output_type": "execute_result"
    },
    {
     "name": "stdout",
     "output_type": "stream",
     "text": [
      "In :  observation\n"
     ]
    },
    {
     "data": {
      "text/plain": [
       "array([{'agent': array([111,  12]), 'target': array([ 8, 46])},\n",
       "       {'distance': 137.0}], dtype=object)"
      ]
     },
     "execution_count": 48,
     "metadata": {},
     "output_type": "execute_result"
    },
    {
     "name": "stdout",
     "output_type": "stream",
     "text": [
      "In :  observation[0]\n"
     ]
    },
    {
     "data": {
      "text/plain": [
       "{'agent': array([111,  12]), 'target': array([ 8, 46])}"
      ]
     },
     "execution_count": 48,
     "metadata": {},
     "output_type": "execute_result"
    },
    {
     "name": "stdout",
     "output_type": "stream",
     "text": [
      "In :  key\n"
     ]
    },
    {
     "data": {
      "text/plain": [
       "'agent'"
      ]
     },
     "execution_count": 48,
     "metadata": {},
     "output_type": "execute_result"
    },
    {
     "name": "stdout",
     "output_type": "stream",
     "text": [
      "In :  observation[0][key]\n"
     ]
    },
    {
     "data": {
      "text/plain": [
       "array([111,  12])"
      ]
     },
     "execution_count": 48,
     "metadata": {},
     "output_type": "execute_result"
    },
    {
     "name": "stdout",
     "output_type": "stream",
     "text": [
      "In :  subspace\n"
     ]
    },
    {
     "data": {
      "text/plain": [
       "Box(0, 127, (2,), int64)"
      ]
     },
     "execution_count": 48,
     "metadata": {},
     "output_type": "execute_result"
    },
    {
     "name": "stdout",
     "output_type": "stream",
     "text": [
      "In :  subspace.shape\n"
     ]
    },
    {
     "data": {
      "text/plain": [
       "(2,)"
      ]
     },
     "execution_count": 48,
     "metadata": {},
     "output_type": "execute_result"
    },
    {
     "name": "stdout",
     "output_type": "stream",
     "text": [
      "In :  observation[0][key].shape != subspace.shape\n"
     ]
    },
    {
     "data": {
      "text/plain": [
       "False"
      ]
     },
     "execution_count": 48,
     "metadata": {},
     "output_type": "execute_result"
    },
    {
     "name": "stdout",
     "output_type": "stream",
     "text": [
      "In :  for key, subspace in observation_space.spaces.items():\n",
      "...:      if observation[0][key].shape[1:] != subspace.shape:\n",
      "...:          print(f\"this key -> {key} is not vectorized\")\n",
      "...:  \n",
      "this key -> agent is not vectorized\n",
      "this key -> target is not vectorized\n",
      "In :  observation[0][key].shape[1:]\n"
     ]
    },
    {
     "data": {
      "text/plain": [
       "()"
      ]
     },
     "execution_count": 48,
     "metadata": {},
     "output_type": "execute_result"
    },
    {
     "name": "stdout",
     "output_type": "stream",
     "text": [
      "In :  observation[0]['agent'].shape[1:]\n"
     ]
    },
    {
     "data": {
      "text/plain": [
       "()"
      ]
     },
     "execution_count": 48,
     "metadata": {},
     "output_type": "execute_result"
    },
    {
     "name": "stdout",
     "output_type": "stream",
     "text": [
      "In :  observation[0]['target'].shape[1:]\n"
     ]
    },
    {
     "data": {
      "text/plain": [
       "()"
      ]
     },
     "execution_count": 48,
     "metadata": {},
     "output_type": "execute_result"
    },
    {
     "name": "stdout",
     "output_type": "stream",
     "text": [
      "In :  observation[0]['agent'].shape\n"
     ]
    },
    {
     "data": {
      "text/plain": [
       "(2,)"
      ]
     },
     "execution_count": 48,
     "metadata": {},
     "output_type": "execute_result"
    },
    {
     "name": "stdout",
     "output_type": "stream",
     "text": [
      "In :  subspace.shape\n"
     ]
    },
    {
     "data": {
      "text/plain": [
       "(2,)"
      ]
     },
     "execution_count": 48,
     "metadata": {},
     "output_type": "execute_result"
    },
    {
     "name": "stdout",
     "output_type": "stream",
     "text": [
      "In :  observation_space.spaces.items()\n"
     ]
    },
    {
     "data": {
      "text/plain": [
       "odict_items([('agent', Box(0, 127, (2,), int64)), ('target', Box(0, 127, (2,), int64))])"
      ]
     },
     "execution_count": 48,
     "metadata": {},
     "output_type": "execute_result"
    },
    {
     "name": "stdout",
     "output_type": "stream",
     "text": [
      "In :  observation\n"
     ]
    },
    {
     "data": {
      "text/plain": [
       "array([{'agent': array([111,  12]), 'target': array([ 8, 46])},\n",
       "       {'distance': 137.0}], dtype=object)"
      ]
     },
     "execution_count": 48,
     "metadata": {},
     "output_type": "execute_result"
    },
    {
     "name": "stdout",
     "output_type": "stream",
     "text": [
      "In :  observation_space\n"
     ]
    },
    {
     "data": {
      "text/plain": [
       "Dict('agent': Box(0, 127, (2,), int64), 'target': Box(0, 127, (2,), int64))"
      ]
     },
     "execution_count": 48,
     "metadata": {},
     "output_type": "execute_result"
    },
    {
     "name": "stdout",
     "output_type": "stream",
     "text": [
      "In :  quit()\n"
     ]
    },
    {
     "ename": "NameError",
     "evalue": "name 'quit' is not defined",
     "output_type": "error",
     "traceback": [
      "\u001b[0;31m---------------------------------------------------------------------------\u001b[0m",
      "\u001b[0;31mNameError\u001b[0m                                 Traceback (most recent call last)",
      "File \u001b[0;32m/opt/anaconda3/lib/python3.9/code.py:90\u001b[0m, in \u001b[0;36mInteractiveInterpreter.runcode\u001b[0;34m(self, code)\u001b[0m\n\u001b[1;32m     78\u001b[0m \u001b[38;5;124;03m\"\"\"Execute a code object.\u001b[39;00m\n\u001b[1;32m     79\u001b[0m \n\u001b[1;32m     80\u001b[0m \u001b[38;5;124;03mWhen an exception occurs, self.showtraceback() is called to\u001b[39;00m\n\u001b[0;32m   (...)\u001b[0m\n\u001b[1;32m     87\u001b[0m \n\u001b[1;32m     88\u001b[0m \u001b[38;5;124;03m\"\"\"\u001b[39;00m\n\u001b[1;32m     89\u001b[0m \u001b[38;5;28;01mtry\u001b[39;00m:\n\u001b[0;32m---> 90\u001b[0m     \u001b[43mexec\u001b[49m\u001b[43m(\u001b[49m\u001b[43mcode\u001b[49m\u001b[43m,\u001b[49m\u001b[43m \u001b[49m\u001b[38;5;28;43mself\u001b[39;49m\u001b[38;5;241;43m.\u001b[39;49m\u001b[43mlocals\u001b[49m\u001b[43m)\u001b[49m\n\u001b[1;32m     91\u001b[0m \u001b[38;5;28;01mexcept\u001b[39;00m \u001b[38;5;167;01mSystemExit\u001b[39;00m:\n\u001b[1;32m     92\u001b[0m     \u001b[38;5;28;01mraise\u001b[39;00m\n",
      "File \u001b[0;32m<console>:1\u001b[0m, in \u001b[0;36m<module>\u001b[0;34m\u001b[0m\n",
      "\u001b[0;31mNameError\u001b[0m: name 'quit' is not defined"
     ]
    },
    {
     "name": "stdout",
     "output_type": "stream",
     "text": [
      "In :  exit()\n"
     ]
    },
    {
     "ename": "NameError",
     "evalue": "name 'exit' is not defined",
     "output_type": "error",
     "traceback": [
      "\u001b[0;31m---------------------------------------------------------------------------\u001b[0m",
      "\u001b[0;31mNameError\u001b[0m                                 Traceback (most recent call last)",
      "File \u001b[0;32m/opt/anaconda3/lib/python3.9/code.py:90\u001b[0m, in \u001b[0;36mInteractiveInterpreter.runcode\u001b[0;34m(self, code)\u001b[0m\n\u001b[1;32m     78\u001b[0m \u001b[38;5;124;03m\"\"\"Execute a code object.\u001b[39;00m\n\u001b[1;32m     79\u001b[0m \n\u001b[1;32m     80\u001b[0m \u001b[38;5;124;03mWhen an exception occurs, self.showtraceback() is called to\u001b[39;00m\n\u001b[0;32m   (...)\u001b[0m\n\u001b[1;32m     87\u001b[0m \n\u001b[1;32m     88\u001b[0m \u001b[38;5;124;03m\"\"\"\u001b[39;00m\n\u001b[1;32m     89\u001b[0m \u001b[38;5;28;01mtry\u001b[39;00m:\n\u001b[0;32m---> 90\u001b[0m     \u001b[43mexec\u001b[49m\u001b[43m(\u001b[49m\u001b[43mcode\u001b[49m\u001b[43m,\u001b[49m\u001b[43m \u001b[49m\u001b[38;5;28;43mself\u001b[39;49m\u001b[38;5;241;43m.\u001b[39;49m\u001b[43mlocals\u001b[49m\u001b[43m)\u001b[49m\n\u001b[1;32m     91\u001b[0m \u001b[38;5;28;01mexcept\u001b[39;00m \u001b[38;5;167;01mSystemExit\u001b[39;00m:\n\u001b[1;32m     92\u001b[0m     \u001b[38;5;28;01mraise\u001b[39;00m\n",
      "File \u001b[0;32m<console>:1\u001b[0m, in \u001b[0;36m<module>\u001b[0;34m\u001b[0m\n",
      "\u001b[0;31mNameError\u001b[0m: name 'exit' is not defined"
     ]
    },
    {
     "name": "stderr",
     "output_type": "stream",
     "text": [
      "\n",
      "KeyboardInterrupt\n"
     ]
    },
    {
     "name": "stdout",
     "output_type": "stream",
     "text": [
      "In :  \n",
      "In :  \n",
      "In :  exit()\n"
     ]
    },
    {
     "ename": "NameError",
     "evalue": "name 'exit' is not defined",
     "output_type": "error",
     "traceback": [
      "\u001b[0;31m---------------------------------------------------------------------------\u001b[0m",
      "\u001b[0;31mNameError\u001b[0m                                 Traceback (most recent call last)",
      "File \u001b[0;32m/opt/anaconda3/lib/python3.9/code.py:90\u001b[0m, in \u001b[0;36mInteractiveInterpreter.runcode\u001b[0;34m(self, code)\u001b[0m\n\u001b[1;32m     78\u001b[0m \u001b[38;5;124;03m\"\"\"Execute a code object.\u001b[39;00m\n\u001b[1;32m     79\u001b[0m \n\u001b[1;32m     80\u001b[0m \u001b[38;5;124;03mWhen an exception occurs, self.showtraceback() is called to\u001b[39;00m\n\u001b[0;32m   (...)\u001b[0m\n\u001b[1;32m     87\u001b[0m \n\u001b[1;32m     88\u001b[0m \u001b[38;5;124;03m\"\"\"\u001b[39;00m\n\u001b[1;32m     89\u001b[0m \u001b[38;5;28;01mtry\u001b[39;00m:\n\u001b[0;32m---> 90\u001b[0m     \u001b[43mexec\u001b[49m\u001b[43m(\u001b[49m\u001b[43mcode\u001b[49m\u001b[43m,\u001b[49m\u001b[43m \u001b[49m\u001b[38;5;28;43mself\u001b[39;49m\u001b[38;5;241;43m.\u001b[39;49m\u001b[43mlocals\u001b[49m\u001b[43m)\u001b[49m\n\u001b[1;32m     91\u001b[0m \u001b[38;5;28;01mexcept\u001b[39;00m \u001b[38;5;167;01mSystemExit\u001b[39;00m:\n\u001b[1;32m     92\u001b[0m     \u001b[38;5;28;01mraise\u001b[39;00m\n",
      "File \u001b[0;32m<console>:1\u001b[0m, in \u001b[0;36m<module>\u001b[0;34m\u001b[0m\n",
      "\u001b[0;31mNameError\u001b[0m: name 'exit' is not defined"
     ]
    },
    {
     "name": "stdout",
     "output_type": "stream",
     "text": [
      "In :  3+6\n"
     ]
    },
    {
     "data": {
      "text/plain": [
       "9"
      ]
     },
     "execution_count": 48,
     "metadata": {},
     "output_type": "execute_result"
    },
    {
     "name": "stderr",
     "output_type": "stream",
     "text": [
      "\n",
      "KeyboardInterrupt\n",
      "\n",
      "KeyboardInterrupt\n"
     ]
    }
   ],
   "source": [
    "model.predict(obs)"
   ]
  },
  {
   "cell_type": "code",
   "execution_count": null,
   "id": "7940d42a-7198-411d-a484-8e0de2bcf5c9",
   "metadata": {},
   "outputs": [],
   "source": []
  },
  {
   "cell_type": "code",
   "execution_count": null,
   "id": "d8f0657b-50ae-4a2c-ad0b-6305fd131a81",
   "metadata": {},
   "outputs": [],
   "source": []
  },
  {
   "cell_type": "code",
   "execution_count": null,
   "id": "0fc30562-02f0-4b45-857b-6a8b33a82bd9",
   "metadata": {},
   "outputs": [],
   "source": []
  },
  {
   "cell_type": "code",
   "execution_count": 445,
   "id": "49869f84-0f0e-4625-932e-873a660f8470",
   "metadata": {},
   "outputs": [
    {
     "ename": "AttributeError",
     "evalue": "'tuple' object has no attribute 'observation_space'",
     "output_type": "error",
     "traceback": [
      "\u001b[0;31m---------------------------------------------------------------------------\u001b[0m",
      "\u001b[0;31mAttributeError\u001b[0m                            Traceback (most recent call last)",
      "Input \u001b[0;32mIn [445]\u001b[0m, in \u001b[0;36m<cell line: 1>\u001b[0;34m()\u001b[0m\n\u001b[0;32m----> 1\u001b[0m \u001b[43mobs\u001b[49m\u001b[38;5;241;43m.\u001b[39;49m\u001b[43mobservation_space\u001b[49m\n",
      "\u001b[0;31mAttributeError\u001b[0m: 'tuple' object has no attribute 'observation_space'"
     ]
    }
   ],
   "source": [
    "obs.observation_space"
   ]
  },
  {
   "cell_type": "markdown",
   "id": "bc470c18-814c-45f4-80a8-d1a0da7045d1",
   "metadata": {
    "tags": []
   },
   "source": [
    "## 2.2 Example of DQN with Pytorch\n",
    "Deep Q Learning, based on: https://pytorch.org/tutorials/intermediate/reinforcement_q_learning.html"
   ]
  },
  {
   "cell_type": "code",
   "execution_count": null,
   "id": "09bbd01b-a2b9-44a3-acc2-8a035b2dc2cd",
   "metadata": {},
   "outputs": [],
   "source": [
    "plt.ion() # acitvates interactive plot\n",
    "\n",
    "# if gpu is to be used\n",
    "device = torch.device(\"cuda\" if torch.cuda.is_available() else \"cpu\")"
   ]
  },
  {
   "cell_type": "code",
   "execution_count": 179,
   "id": "c0bc306c-fb9f-4342-8aea-7e37425d927a",
   "metadata": {},
   "outputs": [],
   "source": [
    "env = gym.make(\"CartPole-v1\")"
   ]
  },
  {
   "cell_type": "code",
   "execution_count": 180,
   "id": "242d7e4f-b5c1-4a0a-8e30-ffeb5e0020ab",
   "metadata": {},
   "outputs": [],
   "source": [
    "Transition = namedtuple('Transition',\n",
    "                        ('state', 'action', 'next_state', 'reward'))"
   ]
  },
  {
   "cell_type": "code",
   "execution_count": 181,
   "id": "32e9fd17-f49a-451f-9889-536767aeb702",
   "metadata": {},
   "outputs": [],
   "source": [
    "class ReplayMemory(object):\n",
    "\n",
    "    def __init__(self, capacity):\n",
    "        self.memory = deque([], maxlen=capacity) # a deque (deck) is a list type container with fast pop/append on either ends\n",
    "\n",
    "    def push(self, *args):\n",
    "        \"\"\"Save a transition\"\"\"\n",
    "        self.memory.append(Transition(*args))\n",
    "\n",
    "    def sample(self, batch_size):\n",
    "        return random.sample(population=self.memory, k=batch_size) # return n=batch_size random samples from a list, string, set or tuple \n",
    "\n",
    "    def __len__(self):\n",
    "        return len(self.memory)"
   ]
  },
  {
   "cell_type": "code",
   "execution_count": 182,
   "id": "d7ce9e0b-716b-47ce-abdc-6297a0e81d0e",
   "metadata": {},
   "outputs": [],
   "source": [
    "class DQN(nn.Module):\n",
    "\n",
    "    def __init__(self, n_observations, n_actions):\n",
    "        super(DQN, self).__init__()\n",
    "        self.layer1 = nn.Linear(n_observations, 128)\n",
    "        self.layer2 = nn.Linear(128, 128)\n",
    "        self.layer3 = nn.Linear(128, n_actions)\n",
    "\n",
    "    # Called with either one element to determine next action, or a batch\n",
    "    # during optimization. Returns tensor([[left0exp,right0exp]...]).\n",
    "    def forward(self, x):\n",
    "        x = F.relu(self.layer1(x))\n",
    "        x = F.relu(self.layer2(x))\n",
    "        return self.layer3(x)"
   ]
  },
  {
   "cell_type": "code",
   "execution_count": 190,
   "id": "4a7288d2-22ab-458a-8560-8aff85124152",
   "metadata": {},
   "outputs": [
    {
     "name": "stdout",
     "output_type": "stream",
     "text": [
      "{'agent': array([ 5, 13]), 'target': array([69, 61])}\n",
      "{'distance': 112.0}\n"
     ]
    }
   ],
   "source": [
    "status, info = RCenv.reset() # state, info = env.reset()\n",
    "print(status)\n",
    "print(info)"
   ]
  },
  {
   "cell_type": "code",
   "execution_count": 191,
   "id": "ce060972-82ab-4da1-81f4-68e33d8bdce9",
   "metadata": {},
   "outputs": [],
   "source": [
    "# status must be consolidated in a single np.array with 4 elements agent x, agent y, target x, target y"
   ]
  },
  {
   "cell_type": "code",
   "execution_count": 196,
   "id": "b4aae85e-d3c5-4d0d-a360-21279fda8f07",
   "metadata": {},
   "outputs": [
    {
     "ename": "SyntaxError",
     "evalue": "invalid syntax (1273982024.py, line 1)",
     "output_type": "error",
     "traceback": [
      "\u001b[0;36m  Input \u001b[0;32mIn [196]\u001b[0;36m\u001b[0m\n\u001b[0;31m    [item for k for k in state.keys()]\u001b[0m\n\u001b[0m                ^\u001b[0m\n\u001b[0;31mSyntaxError\u001b[0m\u001b[0;31m:\u001b[0m invalid syntax\n"
     ]
    }
   ],
   "source": [
    "[k for k in state.keys()]"
   ]
  },
  {
   "cell_type": "code",
   "execution_count": 213,
   "id": "6d5a9efc-9393-4659-afbf-af18512c72d4",
   "metadata": {},
   "outputs": [
    {
     "data": {
      "text/plain": [
       "array([ 5, 13, 69, 61])"
      ]
     },
     "execution_count": 213,
     "metadata": {},
     "output_type": "execute_result"
    }
   ],
   "source": [
    "r = \n",
    "r"
   ]
  },
  {
   "cell_type": "code",
   "execution_count": 188,
   "id": "f09cc63b-c4fa-428f-bb66-5f05447b8ecc",
   "metadata": {},
   "outputs": [
    {
     "name": "stdout",
     "output_type": "stream",
     "text": [
      "status length: 4, status: [ 0.02315129 -0.04100154 -0.02364553 -0.01697979]\n"
     ]
    }
   ],
   "source": [
    "s, i = env.reset()\n",
    "print(f\"status length: {len(s)}, status: {s}\")"
   ]
  },
  {
   "cell_type": "code",
   "execution_count": 214,
   "id": "06ce2c4e-eeb9-4c31-9af2-844a5672a335",
   "metadata": {},
   "outputs": [],
   "source": [
    "# BATCH_SIZE is the number of transitions sampled from the replay buffer\n",
    "# GAMMA is the discount factor as mentioned in the previous section\n",
    "# EPS_START is the starting value of epsilon\n",
    "# EPS_END is the final value of epsilon\n",
    "# EPS_DECAY controls the rate of exponential decay of epsilon, higher means a slower decay\n",
    "# TAU is the update rate of the target network\n",
    "# LR is the learning rate of the AdamW optimizer\n",
    "BATCH_SIZE = 128\n",
    "GAMMA = 0.99\n",
    "EPS_START = 0.9\n",
    "EPS_END = 0.05\n",
    "EPS_DECAY = 1000\n",
    "TAU = 0.005\n",
    "LR = 1e-4\n",
    "\n",
    "# Get number of actions from gym action space\n",
    "n_actions = RCenv.action_space.n # n_actions = env.action_space.n\n",
    "# Get the number of state observations\n",
    "state, info = RCenv.reset() # state, info = env.reset()\n",
    "state = np.array(list(state.values())).flatten() # agent x, agent y, target x, target y in a flat array\n",
    "n_observations = len(state)\n",
    "\n",
    "policy_net = DQN(n_observations, n_actions).to(device)\n",
    "target_net = DQN(n_observations, n_actions).to(device)\n",
    "target_net.load_state_dict(policy_net.state_dict())\n",
    "\n",
    "optimizer = optim.AdamW(policy_net.parameters(), lr=LR, amsgrad=True)\n",
    "memory = ReplayMemory(10000)\n",
    "\n",
    "steps_done = 0\n",
    "\n",
    "def select_action(state):\n",
    "    global steps_done\n",
    "    sample = random.random()\n",
    "    eps_threshold = EPS_END + (EPS_START - EPS_END) * \\\n",
    "        math.exp(-1. * steps_done / EPS_DECAY)\n",
    "    steps_done += 1\n",
    "    if sample > eps_threshold:\n",
    "        with torch.no_grad():\n",
    "            # t.max(1) will return the largest column value of each row.\n",
    "            # second column on max result is index of where max element was\n",
    "            # found, so we pick action with the larger expected reward.\n",
    "            return policy_net(state).max(1)[1].view(1, 1)\n",
    "    else:\n",
    "        # return torch.tensor([[env.action_space.sample()]], device=device, dtype=torch.long)\n",
    "        return torch.tensor([[RCenv.action_space.sample()]], device=device, dtype=torch.long)\n",
    "\n",
    "\n",
    "episode_durations = []\n",
    "\n",
    "\n",
    "def plot_durations(show_result=False):\n",
    "    plt.figure(1)\n",
    "    durations_t = torch.tensor(episode_durations, dtype=torch.float)\n",
    "    if show_result:\n",
    "        plt.title('Result')\n",
    "    else:\n",
    "        plt.clf()\n",
    "        plt.title('Training...')\n",
    "    plt.xlabel('Episode')\n",
    "    plt.ylabel('Duration')\n",
    "    plt.plot(durations_t.numpy())\n",
    "    # Take 100 episode averages and plot them too\n",
    "    if len(durations_t) >= 100:\n",
    "        means = durations_t.unfold(0, 100, 1).mean(1).view(-1)\n",
    "        means = torch.cat((torch.zeros(99), means))\n",
    "        plt.plot(means.numpy())\n",
    "\n",
    "    plt.pause(0.001)  # pause a bit so that plots are updated\n",
    "    if is_ipython:\n",
    "        if not show_result:\n",
    "            display.display(plt.gcf())\n",
    "            display.clear_output(wait=True)\n",
    "        else:\n",
    "            display.display(plt.gcf())"
   ]
  },
  {
   "cell_type": "code",
   "execution_count": 215,
   "id": "1fd1396e-d5cc-4f13-bed8-1f09139fa351",
   "metadata": {},
   "outputs": [],
   "source": [
    "def optimize_model():\n",
    "    if len(memory) < BATCH_SIZE:\n",
    "        return\n",
    "    transitions = memory.sample(BATCH_SIZE)\n",
    "    # Transpose the batch (see https://stackoverflow.com/a/19343/3343043 for\n",
    "    # detailed explanation). This converts batch-array of Transitions\n",
    "    # to Transition of batch-arrays.\n",
    "    batch = Transition(*zip(*transitions))\n",
    "\n",
    "    # Compute a mask of non-final states and concatenate the batch elements\n",
    "    # (a final state would've been the one after which simulation ended)\n",
    "    non_final_mask = torch.tensor(tuple(map(lambda s: s is not None,\n",
    "                                          batch.next_state)), device=device, dtype=torch.bool)\n",
    "    non_final_next_states = torch.cat([s for s in batch.next_state\n",
    "                                                if s is not None])\n",
    "    state_batch = torch.cat(batch.state)\n",
    "    action_batch = torch.cat(batch.action)\n",
    "    reward_batch = torch.cat(batch.reward)\n",
    "\n",
    "    # Compute Q(s_t, a) - the model computes Q(s_t), then we select the\n",
    "    # columns of actions taken. These are the actions which would've been taken\n",
    "    # for each batch state according to policy_net\n",
    "    state_action_values = policy_net(state_batch).gather(1, action_batch)\n",
    "\n",
    "    # Compute V(s_{t+1}) for all next states.\n",
    "    # Expected values of actions for non_final_next_states are computed based\n",
    "    # on the \"older\" target_net; selecting their best reward with max(1)[0].\n",
    "    # This is merged based on the mask, such that we'll have either the expected\n",
    "    # state value or 0 in case the state was final.\n",
    "    next_state_values = torch.zeros(BATCH_SIZE, device=device)\n",
    "    with torch.no_grad():\n",
    "        next_state_values[non_final_mask] = target_net(non_final_next_states).max(1)[0]\n",
    "    # Compute the expected Q values\n",
    "    expected_state_action_values = (next_state_values * GAMMA) + reward_batch\n",
    "\n",
    "    # Compute Huber loss\n",
    "    criterion = nn.SmoothL1Loss()\n",
    "    loss = criterion(state_action_values, expected_state_action_values.unsqueeze(1))\n",
    "\n",
    "    # Optimize the model\n",
    "    optimizer.zero_grad()\n",
    "    loss.backward()\n",
    "    # In-place gradient clipping\n",
    "    torch.nn.utils.clip_grad_value_(policy_net.parameters(), 100)\n",
    "    optimizer.step()"
   ]
  },
  {
   "cell_type": "code",
   "execution_count": 216,
   "id": "6b52be9e-c709-42f8-b8f6-a5bb14f93691",
   "metadata": {},
   "outputs": [
    {
     "ename": "RuntimeError",
     "evalue": "mat1 and mat2 shapes cannot be multiplied (1x2 and 4x128)",
     "output_type": "error",
     "traceback": [
      "\u001b[0;31m---------------------------------------------------------------------------\u001b[0m",
      "\u001b[0;31mRuntimeError\u001b[0m                              Traceback (most recent call last)",
      "Input \u001b[0;32mIn [216]\u001b[0m, in \u001b[0;36m<cell line: 6>\u001b[0;34m()\u001b[0m\n\u001b[1;32m     10\u001b[0m state \u001b[38;5;241m=\u001b[39m torch\u001b[38;5;241m.\u001b[39mtensor(state[\u001b[38;5;124m'\u001b[39m\u001b[38;5;124magent\u001b[39m\u001b[38;5;124m'\u001b[39m], dtype\u001b[38;5;241m=\u001b[39mtorch\u001b[38;5;241m.\u001b[39mfloat32, device\u001b[38;5;241m=\u001b[39mdevice)\u001b[38;5;241m.\u001b[39munsqueeze(\u001b[38;5;241m0\u001b[39m)\n\u001b[1;32m     11\u001b[0m \u001b[38;5;28;01mfor\u001b[39;00m t \u001b[38;5;129;01min\u001b[39;00m count():\n\u001b[0;32m---> 12\u001b[0m     action \u001b[38;5;241m=\u001b[39m \u001b[43mselect_action\u001b[49m\u001b[43m(\u001b[49m\u001b[43mstate\u001b[49m\u001b[43m)\u001b[49m\n\u001b[1;32m     13\u001b[0m     observation, reward, terminated, truncated, _ \u001b[38;5;241m=\u001b[39m RCenv\u001b[38;5;241m.\u001b[39mstep(action\u001b[38;5;241m.\u001b[39mitem()) \u001b[38;5;66;03m# observation, reward, terminated, truncated, _ = env.step(action.item()) \u001b[39;00m\n\u001b[1;32m     14\u001b[0m     reward \u001b[38;5;241m=\u001b[39m torch\u001b[38;5;241m.\u001b[39mtensor([reward], device\u001b[38;5;241m=\u001b[39mdevice)\n",
      "Input \u001b[0;32mIn [214]\u001b[0m, in \u001b[0;36mselect_action\u001b[0;34m(state)\u001b[0m\n\u001b[1;32m     38\u001b[0m \u001b[38;5;28;01mif\u001b[39;00m sample \u001b[38;5;241m>\u001b[39m eps_threshold:\n\u001b[1;32m     39\u001b[0m     \u001b[38;5;28;01mwith\u001b[39;00m torch\u001b[38;5;241m.\u001b[39mno_grad():\n\u001b[1;32m     40\u001b[0m         \u001b[38;5;66;03m# t.max(1) will return the largest column value of each row.\u001b[39;00m\n\u001b[1;32m     41\u001b[0m         \u001b[38;5;66;03m# second column on max result is index of where max element was\u001b[39;00m\n\u001b[1;32m     42\u001b[0m         \u001b[38;5;66;03m# found, so we pick action with the larger expected reward.\u001b[39;00m\n\u001b[0;32m---> 43\u001b[0m         \u001b[38;5;28;01mreturn\u001b[39;00m \u001b[43mpolicy_net\u001b[49m\u001b[43m(\u001b[49m\u001b[43mstate\u001b[49m\u001b[43m)\u001b[49m\u001b[38;5;241m.\u001b[39mmax(\u001b[38;5;241m1\u001b[39m)[\u001b[38;5;241m1\u001b[39m]\u001b[38;5;241m.\u001b[39mview(\u001b[38;5;241m1\u001b[39m, \u001b[38;5;241m1\u001b[39m)\n\u001b[1;32m     44\u001b[0m \u001b[38;5;28;01melse\u001b[39;00m:\n\u001b[1;32m     45\u001b[0m     \u001b[38;5;66;03m# return torch.tensor([[env.action_space.sample()]], device=device, dtype=torch.long)\u001b[39;00m\n\u001b[1;32m     46\u001b[0m     \u001b[38;5;28;01mreturn\u001b[39;00m torch\u001b[38;5;241m.\u001b[39mtensor([[RCenv\u001b[38;5;241m.\u001b[39maction_space\u001b[38;5;241m.\u001b[39msample()]], device\u001b[38;5;241m=\u001b[39mdevice, dtype\u001b[38;5;241m=\u001b[39mtorch\u001b[38;5;241m.\u001b[39mlong)\n",
      "File \u001b[0;32m/opt/anaconda3/lib/python3.9/site-packages/torch/nn/modules/module.py:1130\u001b[0m, in \u001b[0;36mModule._call_impl\u001b[0;34m(self, *input, **kwargs)\u001b[0m\n\u001b[1;32m   1126\u001b[0m \u001b[38;5;66;03m# If we don't have any hooks, we want to skip the rest of the logic in\u001b[39;00m\n\u001b[1;32m   1127\u001b[0m \u001b[38;5;66;03m# this function, and just call forward.\u001b[39;00m\n\u001b[1;32m   1128\u001b[0m \u001b[38;5;28;01mif\u001b[39;00m \u001b[38;5;129;01mnot\u001b[39;00m (\u001b[38;5;28mself\u001b[39m\u001b[38;5;241m.\u001b[39m_backward_hooks \u001b[38;5;129;01mor\u001b[39;00m \u001b[38;5;28mself\u001b[39m\u001b[38;5;241m.\u001b[39m_forward_hooks \u001b[38;5;129;01mor\u001b[39;00m \u001b[38;5;28mself\u001b[39m\u001b[38;5;241m.\u001b[39m_forward_pre_hooks \u001b[38;5;129;01mor\u001b[39;00m _global_backward_hooks\n\u001b[1;32m   1129\u001b[0m         \u001b[38;5;129;01mor\u001b[39;00m _global_forward_hooks \u001b[38;5;129;01mor\u001b[39;00m _global_forward_pre_hooks):\n\u001b[0;32m-> 1130\u001b[0m     \u001b[38;5;28;01mreturn\u001b[39;00m \u001b[43mforward_call\u001b[49m\u001b[43m(\u001b[49m\u001b[38;5;241;43m*\u001b[39;49m\u001b[38;5;28;43minput\u001b[39;49m\u001b[43m,\u001b[49m\u001b[43m \u001b[49m\u001b[38;5;241;43m*\u001b[39;49m\u001b[38;5;241;43m*\u001b[39;49m\u001b[43mkwargs\u001b[49m\u001b[43m)\u001b[49m\n\u001b[1;32m   1131\u001b[0m \u001b[38;5;66;03m# Do not call functions when jit is used\u001b[39;00m\n\u001b[1;32m   1132\u001b[0m full_backward_hooks, non_full_backward_hooks \u001b[38;5;241m=\u001b[39m [], []\n",
      "Input \u001b[0;32mIn [182]\u001b[0m, in \u001b[0;36mDQN.forward\u001b[0;34m(self, x)\u001b[0m\n\u001b[1;32m     11\u001b[0m \u001b[38;5;28;01mdef\u001b[39;00m \u001b[38;5;21mforward\u001b[39m(\u001b[38;5;28mself\u001b[39m, x):\n\u001b[0;32m---> 12\u001b[0m     x \u001b[38;5;241m=\u001b[39m F\u001b[38;5;241m.\u001b[39mrelu(\u001b[38;5;28;43mself\u001b[39;49m\u001b[38;5;241;43m.\u001b[39;49m\u001b[43mlayer1\u001b[49m\u001b[43m(\u001b[49m\u001b[43mx\u001b[49m\u001b[43m)\u001b[49m)\n\u001b[1;32m     13\u001b[0m     x \u001b[38;5;241m=\u001b[39m F\u001b[38;5;241m.\u001b[39mrelu(\u001b[38;5;28mself\u001b[39m\u001b[38;5;241m.\u001b[39mlayer2(x))\n\u001b[1;32m     14\u001b[0m     \u001b[38;5;28;01mreturn\u001b[39;00m \u001b[38;5;28mself\u001b[39m\u001b[38;5;241m.\u001b[39mlayer3(x)\n",
      "File \u001b[0;32m/opt/anaconda3/lib/python3.9/site-packages/torch/nn/modules/module.py:1130\u001b[0m, in \u001b[0;36mModule._call_impl\u001b[0;34m(self, *input, **kwargs)\u001b[0m\n\u001b[1;32m   1126\u001b[0m \u001b[38;5;66;03m# If we don't have any hooks, we want to skip the rest of the logic in\u001b[39;00m\n\u001b[1;32m   1127\u001b[0m \u001b[38;5;66;03m# this function, and just call forward.\u001b[39;00m\n\u001b[1;32m   1128\u001b[0m \u001b[38;5;28;01mif\u001b[39;00m \u001b[38;5;129;01mnot\u001b[39;00m (\u001b[38;5;28mself\u001b[39m\u001b[38;5;241m.\u001b[39m_backward_hooks \u001b[38;5;129;01mor\u001b[39;00m \u001b[38;5;28mself\u001b[39m\u001b[38;5;241m.\u001b[39m_forward_hooks \u001b[38;5;129;01mor\u001b[39;00m \u001b[38;5;28mself\u001b[39m\u001b[38;5;241m.\u001b[39m_forward_pre_hooks \u001b[38;5;129;01mor\u001b[39;00m _global_backward_hooks\n\u001b[1;32m   1129\u001b[0m         \u001b[38;5;129;01mor\u001b[39;00m _global_forward_hooks \u001b[38;5;129;01mor\u001b[39;00m _global_forward_pre_hooks):\n\u001b[0;32m-> 1130\u001b[0m     \u001b[38;5;28;01mreturn\u001b[39;00m \u001b[43mforward_call\u001b[49m\u001b[43m(\u001b[49m\u001b[38;5;241;43m*\u001b[39;49m\u001b[38;5;28;43minput\u001b[39;49m\u001b[43m,\u001b[49m\u001b[43m \u001b[49m\u001b[38;5;241;43m*\u001b[39;49m\u001b[38;5;241;43m*\u001b[39;49m\u001b[43mkwargs\u001b[49m\u001b[43m)\u001b[49m\n\u001b[1;32m   1131\u001b[0m \u001b[38;5;66;03m# Do not call functions when jit is used\u001b[39;00m\n\u001b[1;32m   1132\u001b[0m full_backward_hooks, non_full_backward_hooks \u001b[38;5;241m=\u001b[39m [], []\n",
      "File \u001b[0;32m/opt/anaconda3/lib/python3.9/site-packages/torch/nn/modules/linear.py:114\u001b[0m, in \u001b[0;36mLinear.forward\u001b[0;34m(self, input)\u001b[0m\n\u001b[1;32m    113\u001b[0m \u001b[38;5;28;01mdef\u001b[39;00m \u001b[38;5;21mforward\u001b[39m(\u001b[38;5;28mself\u001b[39m, \u001b[38;5;28minput\u001b[39m: Tensor) \u001b[38;5;241m-\u001b[39m\u001b[38;5;241m>\u001b[39m Tensor:\n\u001b[0;32m--> 114\u001b[0m     \u001b[38;5;28;01mreturn\u001b[39;00m \u001b[43mF\u001b[49m\u001b[38;5;241;43m.\u001b[39;49m\u001b[43mlinear\u001b[49m\u001b[43m(\u001b[49m\u001b[38;5;28;43minput\u001b[39;49m\u001b[43m,\u001b[49m\u001b[43m \u001b[49m\u001b[38;5;28;43mself\u001b[39;49m\u001b[38;5;241;43m.\u001b[39;49m\u001b[43mweight\u001b[49m\u001b[43m,\u001b[49m\u001b[43m \u001b[49m\u001b[38;5;28;43mself\u001b[39;49m\u001b[38;5;241;43m.\u001b[39;49m\u001b[43mbias\u001b[49m\u001b[43m)\u001b[49m\n",
      "\u001b[0;31mRuntimeError\u001b[0m: mat1 and mat2 shapes cannot be multiplied (1x2 and 4x128)"
     ]
    }
   ],
   "source": [
    "if torch.cuda.is_available():\n",
    "    num_episodes = 60\n",
    "else:\n",
    "    num_episodes = 50\n",
    "\n",
    "for i_episode in range(num_episodes):\n",
    "    # Initialize the environment and get it's state\n",
    "    state, info = RCenv.reset() # state, info = env.reset()\n",
    "    # state = torch.tensor(state, dtype=torch.float32, device=device).unsqueeze(0)\n",
    "    state = torch.tensor(state['agent'], dtype=torch.float32, device=device).unsqueeze(0)\n",
    "    for t in count():\n",
    "        action = select_action(state)\n",
    "        observation, reward, terminated, truncated, _ = RCenv.step(action.item()) # observation, reward, terminated, truncated, _ = env.step(action.item()) \n",
    "        reward = torch.tensor([reward], device=device)\n",
    "        done = terminated or truncated\n",
    "\n",
    "        if terminated:\n",
    "            next_state = None\n",
    "        else:\n",
    "            # next_state = torch.tensor(observation, dtype=torch.float32, device=device).unsqueeze(0)\n",
    "            next_state = torch.tensor(observation['agent'], dtype=torch.float32, device=device).unsqueeze(0)\n",
    "\n",
    "        # Store the transition in memory\n",
    "        memory.push(state, action, next_state, reward)\n",
    "\n",
    "        # Move to the next state\n",
    "        state = next_state\n",
    "\n",
    "        # Perform one step of the optimization (on the policy network)\n",
    "        optimize_model()\n",
    "\n",
    "        # Soft update of the target network's weights\n",
    "        # θ′ ← τ θ + (1 −τ )θ′\n",
    "        target_net_state_dict = target_net.state_dict()\n",
    "        policy_net_state_dict = policy_net.state_dict()\n",
    "        for key in policy_net_state_dict:\n",
    "            target_net_state_dict[key] = policy_net_state_dict[key]*TAU + target_net_state_dict[key]*(1-TAU)\n",
    "        target_net.load_state_dict(target_net_state_dict)\n",
    "\n",
    "        if done:\n",
    "            episode_durations.append(t + 1)\n",
    "            plot_durations()\n",
    "            break\n",
    "\n",
    "print('Complete')\n",
    "plot_durations(show_result=True)\n",
    "plt.ioff()\n",
    "plt.show()"
   ]
  },
  {
   "cell_type": "code",
   "execution_count": 138,
   "id": "fc968552-4eec-4f51-9354-73010e9cceff",
   "metadata": {},
   "outputs": [
    {
     "data": {
      "text/plain": [
       "(array([-0.00808663,  0.19616404, -0.01706432, -0.2940259 ], dtype=float32),\n",
       " 1.0,\n",
       " False,\n",
       " False,\n",
       " {})"
      ]
     },
     "execution_count": 138,
     "metadata": {},
     "output_type": "execute_result"
    }
   ],
   "source": [
    "env.step(env.action_space.sample())"
   ]
  },
  {
   "cell_type": "code",
   "execution_count": 139,
   "id": "1212043d-410b-470b-91b8-66ef92b2cea2",
   "metadata": {},
   "outputs": [
    {
     "data": {
      "text/plain": [
       "({'agent': array([111,  10]), 'target': array([ 8, 46])},\n",
       " -1.7898261225515952,\n",
       " False,\n",
       " False,\n",
       " {'distance': 139.0})"
      ]
     },
     "execution_count": 139,
     "metadata": {},
     "output_type": "execute_result"
    }
   ],
   "source": [
    "RCenv.step(action.item())"
   ]
  },
  {
   "cell_type": "markdown",
   "id": "82cf54e2-63d1-4def-9612-ac5797301594",
   "metadata": {
    "jp-MarkdownHeadingCollapsed": true,
    "tags": []
   },
   "source": [
    "# 3 Shower Example\n",
    "based on the video: https://www.youtube.com/watch?v=bD6V3rcr_54"
   ]
  },
  {
   "cell_type": "code",
   "execution_count": 372,
   "id": "96bdd0a0-1f03-4608-a543-6f155dde1418",
   "metadata": {},
   "outputs": [],
   "source": [
    "class ShowerEnv(Env):\n",
    "    \n",
    "    def __init__(self):\n",
    "        # actions\n",
    "        self.action_space = Discrete(3)\n",
    "        # state\n",
    "        self.state = 38 + random.randint(-3,3)\n",
    "        # observation\n",
    "        self.observation_space = Box(low = np.array([0]), high = np.array([100]))\n",
    "        # episodes\n",
    "        self.episodes_length = 60\n",
    "        \n",
    "    def step(self, action):\n",
    "        reward = 0\n",
    "        self.state += action - 1\n",
    "        self.episodes_length -= 1\n",
    "        if self.state >=37 and self.state <= 39:\n",
    "            reward += 1\n",
    "        else:\n",
    "            reward -= 1\n",
    "        # check if the time is up \n",
    "        if self.episodes_length <= 0:\n",
    "            done = True\n",
    "        else:\n",
    "            done = False\n",
    "        # Apply temperature noise\n",
    "        self.state += random.randint(-1,1)\n",
    "        \n",
    "        # placeholder for info\n",
    "        info = spaces.Box(low=-1.0, high=2.0, shape=(3, 4), dtype=np.float32)\n",
    "        \n",
    "        return self.state, reward, done, info\n",
    "        \n",
    "    def render(self):\n",
    "        # implement visualization\n",
    "        pass\n",
    "    def reset(self):\n",
    "        # reset\n",
    "        self.state = 38 + random.randint(-3,3)\n",
    "        self.episodes_length = 60\n",
    "        return self.state"
   ]
  },
  {
   "cell_type": "code",
   "execution_count": 373,
   "id": "eaf8ed9f-df8d-4a1a-8ed8-b843cf0c7b9f",
   "metadata": {},
   "outputs": [
    {
     "name": "stderr",
     "output_type": "stream",
     "text": [
      "/opt/anaconda3/lib/python3.9/site-packages/gym/spaces/box.py:127: UserWarning: \u001b[33mWARN: Box bound precision lowered by casting to float32\u001b[0m\n",
      "  logger.warn(f\"Box bound precision lowered by casting to {self.dtype}\")\n"
     ]
    }
   ],
   "source": [
    "ShowerEnv = ShowerEnv()"
   ]
  },
  {
   "cell_type": "code",
   "execution_count": 377,
   "id": "c136ec05-ab57-4a37-b470-cce196eb70dc",
   "metadata": {},
   "outputs": [
    {
     "data": {
      "text/plain": [
       "array([74.26477], dtype=float32)"
      ]
     },
     "execution_count": 377,
     "metadata": {},
     "output_type": "execute_result"
    }
   ],
   "source": [
    "ShowerEnv.observation_space.sample()"
   ]
  },
  {
   "cell_type": "code",
   "execution_count": 379,
   "id": "a293cc2c-3f76-465e-89c0-7eba47d81553",
   "metadata": {},
   "outputs": [
    {
     "data": {
      "text/plain": [
       "(40, -1, False, Box(-1.0, 2.0, (3, 4), float32))"
      ]
     },
     "execution_count": 379,
     "metadata": {},
     "output_type": "execute_result"
    }
   ],
   "source": [
    "ShowerEnv.step(ShowerEnv.action_space.sample())"
   ]
  },
  {
   "cell_type": "code",
   "execution_count": 381,
   "id": "6275c5a7-0d78-4461-8292-e153e7545c93",
   "metadata": {},
   "outputs": [
    {
     "name": "stdout",
     "output_type": "stream",
     "text": [
      "Episode: 0 | State: 41 | Action: 2 | Score: -46\n",
      "Episode: 1 | State: 32 | Action: 0 | Score: -6\n",
      "Episode: 2 | State: 45 | Action: 1 | Score: -48\n",
      "Episode: 3 | State: 37 | Action: 0 | Score: 12\n",
      "Episode: 4 | State: 35 | Action: 0 | Score: -14\n",
      "Episode: 5 | State: 35 | Action: 2 | Score: -44\n",
      "Episode: 6 | State: 33 | Action: 0 | Score: -46\n",
      "Episode: 7 | State: 50 | Action: 1 | Score: -48\n",
      "Episode: 8 | State: 30 | Action: 0 | Score: -18\n",
      "Episode: 9 | State: 36 | Action: 1 | Score: -16\n"
     ]
    }
   ],
   "source": [
    "episodes = 10\n",
    "for episode in range(episodes):\n",
    "    state = ShowerEnv.reset()\n",
    "    done = False\n",
    "    score = 0\n",
    "    \n",
    "    while not done:\n",
    "        action = ShowerEnv.action_space.sample()\n",
    "        n_state, reward, done, info = ShowerEnv.step(action)\n",
    "        score += reward\n",
    "    print('Episode: {} | State: {} | Action: {} | Score: {}'.format(episode, n_state, action, score))"
   ]
  },
  {
   "cell_type": "markdown",
   "id": "3e4ebd13-c6a2-406b-8082-e59be728a7ae",
   "metadata": {},
   "source": [
    "## RL on \"shower environment\""
   ]
  },
  {
   "cell_type": "code",
   "execution_count": 382,
   "id": "4f982edc-fa29-45fd-849e-3eb6208c9192",
   "metadata": {},
   "outputs": [],
   "source": [
    "from stable_baselines3 import PPO, A2C, SAC, TD3, DQN"
   ]
  },
  {
   "cell_type": "code",
   "execution_count": 76,
   "id": "e7ed3e04-f1d5-4f7a-bf7b-63f20ee61e65",
   "metadata": {},
   "outputs": [],
   "source": [
    "# pip install stable_baselines3"
   ]
  },
  {
   "cell_type": "code",
   "execution_count": 383,
   "id": "6523fd3b-089f-4c95-bb32-a7f3d8f41a09",
   "metadata": {},
   "outputs": [],
   "source": [
    "# 4000 training timesteps\n",
    "budget_pendulum = 4000"
   ]
  },
  {
   "cell_type": "code",
   "execution_count": 385,
   "id": "c209b3dc-ffd0-44dd-b226-5fc4b6182d68",
   "metadata": {
    "tags": []
   },
   "outputs": [
    {
     "ename": "TypeError",
     "evalue": "cannot unpack non-iterable int object",
     "output_type": "error",
     "traceback": [
      "\u001b[0;31m---------------------------------------------------------------------------\u001b[0m",
      "\u001b[0;31mTypeError\u001b[0m                                 Traceback (most recent call last)",
      "Input \u001b[0;32mIn [385]\u001b[0m, in \u001b[0;36m<cell line: 1>\u001b[0;34m()\u001b[0m\n\u001b[0;32m----> 1\u001b[0m ppo_model \u001b[38;5;241m=\u001b[39m \u001b[43mPPO\u001b[49m\u001b[43m(\u001b[49m\u001b[38;5;124;43m\"\u001b[39;49m\u001b[38;5;124;43mMlpPolicy\u001b[39;49m\u001b[38;5;124;43m\"\u001b[39;49m\u001b[43m,\u001b[49m\u001b[43m \u001b[49m\u001b[43mShowerEnv\u001b[49m\u001b[43m,\u001b[49m\u001b[43m \u001b[49m\u001b[43mverbose\u001b[49m\u001b[38;5;241;43m=\u001b[39;49m\u001b[38;5;241;43m0\u001b[39;49m\u001b[43m)\u001b[49m\u001b[38;5;241;43m.\u001b[39;49m\u001b[43mlearn\u001b[49m\u001b[43m(\u001b[49m\u001b[43mbudget_pendulum\u001b[49m\u001b[43m)\u001b[49m\n",
      "File \u001b[0;32m/opt/anaconda3/lib/python3.9/site-packages/stable_baselines3/ppo/ppo.py:304\u001b[0m, in \u001b[0;36mPPO.learn\u001b[0;34m(self, total_timesteps, callback, log_interval, tb_log_name, reset_num_timesteps, progress_bar)\u001b[0m\n\u001b[1;32m    295\u001b[0m \u001b[38;5;28;01mdef\u001b[39;00m \u001b[38;5;21mlearn\u001b[39m(\n\u001b[1;32m    296\u001b[0m     \u001b[38;5;28mself\u001b[39m: SelfPPO,\n\u001b[1;32m    297\u001b[0m     total_timesteps: \u001b[38;5;28mint\u001b[39m,\n\u001b[0;32m   (...)\u001b[0m\n\u001b[1;32m    302\u001b[0m     progress_bar: \u001b[38;5;28mbool\u001b[39m \u001b[38;5;241m=\u001b[39m \u001b[38;5;28;01mFalse\u001b[39;00m,\n\u001b[1;32m    303\u001b[0m ) \u001b[38;5;241m-\u001b[39m\u001b[38;5;241m>\u001b[39m SelfPPO:\n\u001b[0;32m--> 304\u001b[0m     \u001b[38;5;28;01mreturn\u001b[39;00m \u001b[38;5;28;43msuper\u001b[39;49m\u001b[43m(\u001b[49m\u001b[43m)\u001b[49m\u001b[38;5;241;43m.\u001b[39;49m\u001b[43mlearn\u001b[49m\u001b[43m(\u001b[49m\n\u001b[1;32m    305\u001b[0m \u001b[43m        \u001b[49m\u001b[43mtotal_timesteps\u001b[49m\u001b[38;5;241;43m=\u001b[39;49m\u001b[43mtotal_timesteps\u001b[49m\u001b[43m,\u001b[49m\n\u001b[1;32m    306\u001b[0m \u001b[43m        \u001b[49m\u001b[43mcallback\u001b[49m\u001b[38;5;241;43m=\u001b[39;49m\u001b[43mcallback\u001b[49m\u001b[43m,\u001b[49m\n\u001b[1;32m    307\u001b[0m \u001b[43m        \u001b[49m\u001b[43mlog_interval\u001b[49m\u001b[38;5;241;43m=\u001b[39;49m\u001b[43mlog_interval\u001b[49m\u001b[43m,\u001b[49m\n\u001b[1;32m    308\u001b[0m \u001b[43m        \u001b[49m\u001b[43mtb_log_name\u001b[49m\u001b[38;5;241;43m=\u001b[39;49m\u001b[43mtb_log_name\u001b[49m\u001b[43m,\u001b[49m\n\u001b[1;32m    309\u001b[0m \u001b[43m        \u001b[49m\u001b[43mreset_num_timesteps\u001b[49m\u001b[38;5;241;43m=\u001b[39;49m\u001b[43mreset_num_timesteps\u001b[49m\u001b[43m,\u001b[49m\n\u001b[1;32m    310\u001b[0m \u001b[43m        \u001b[49m\u001b[43mprogress_bar\u001b[49m\u001b[38;5;241;43m=\u001b[39;49m\u001b[43mprogress_bar\u001b[49m\u001b[43m,\u001b[49m\n\u001b[1;32m    311\u001b[0m \u001b[43m    \u001b[49m\u001b[43m)\u001b[49m\n",
      "File \u001b[0;32m/opt/anaconda3/lib/python3.9/site-packages/stable_baselines3/common/on_policy_algorithm.py:235\u001b[0m, in \u001b[0;36mOnPolicyAlgorithm.learn\u001b[0;34m(self, total_timesteps, callback, log_interval, tb_log_name, reset_num_timesteps, progress_bar)\u001b[0m\n\u001b[1;32m    224\u001b[0m \u001b[38;5;28;01mdef\u001b[39;00m \u001b[38;5;21mlearn\u001b[39m(\n\u001b[1;32m    225\u001b[0m     \u001b[38;5;28mself\u001b[39m: SelfOnPolicyAlgorithm,\n\u001b[1;32m    226\u001b[0m     total_timesteps: \u001b[38;5;28mint\u001b[39m,\n\u001b[0;32m   (...)\u001b[0m\n\u001b[1;32m    231\u001b[0m     progress_bar: \u001b[38;5;28mbool\u001b[39m \u001b[38;5;241m=\u001b[39m \u001b[38;5;28;01mFalse\u001b[39;00m,\n\u001b[1;32m    232\u001b[0m ) \u001b[38;5;241m-\u001b[39m\u001b[38;5;241m>\u001b[39m SelfOnPolicyAlgorithm:\n\u001b[1;32m    233\u001b[0m     iteration \u001b[38;5;241m=\u001b[39m \u001b[38;5;241m0\u001b[39m\n\u001b[0;32m--> 235\u001b[0m     total_timesteps, callback \u001b[38;5;241m=\u001b[39m \u001b[38;5;28;43mself\u001b[39;49m\u001b[38;5;241;43m.\u001b[39;49m\u001b[43m_setup_learn\u001b[49m\u001b[43m(\u001b[49m\n\u001b[1;32m    236\u001b[0m \u001b[43m        \u001b[49m\u001b[43mtotal_timesteps\u001b[49m\u001b[43m,\u001b[49m\n\u001b[1;32m    237\u001b[0m \u001b[43m        \u001b[49m\u001b[43mcallback\u001b[49m\u001b[43m,\u001b[49m\n\u001b[1;32m    238\u001b[0m \u001b[43m        \u001b[49m\u001b[43mreset_num_timesteps\u001b[49m\u001b[43m,\u001b[49m\n\u001b[1;32m    239\u001b[0m \u001b[43m        \u001b[49m\u001b[43mtb_log_name\u001b[49m\u001b[43m,\u001b[49m\n\u001b[1;32m    240\u001b[0m \u001b[43m        \u001b[49m\u001b[43mprogress_bar\u001b[49m\u001b[43m,\u001b[49m\n\u001b[1;32m    241\u001b[0m \u001b[43m    \u001b[49m\u001b[43m)\u001b[49m\n\u001b[1;32m    243\u001b[0m     callback\u001b[38;5;241m.\u001b[39mon_training_start(\u001b[38;5;28mlocals\u001b[39m(), \u001b[38;5;28mglobals\u001b[39m())\n\u001b[1;32m    245\u001b[0m     \u001b[38;5;28;01mwhile\u001b[39;00m \u001b[38;5;28mself\u001b[39m\u001b[38;5;241m.\u001b[39mnum_timesteps \u001b[38;5;241m<\u001b[39m total_timesteps:\n",
      "File \u001b[0;32m/opt/anaconda3/lib/python3.9/site-packages/stable_baselines3/common/base_class.py:412\u001b[0m, in \u001b[0;36mBaseAlgorithm._setup_learn\u001b[0;34m(self, total_timesteps, callback, reset_num_timesteps, tb_log_name, progress_bar)\u001b[0m\n\u001b[1;32m    410\u001b[0m \u001b[38;5;66;03m# Avoid resetting the environment when calling ``.learn()`` consecutive times\u001b[39;00m\n\u001b[1;32m    411\u001b[0m \u001b[38;5;28;01mif\u001b[39;00m reset_num_timesteps \u001b[38;5;129;01mor\u001b[39;00m \u001b[38;5;28mself\u001b[39m\u001b[38;5;241m.\u001b[39m_last_obs \u001b[38;5;129;01mis\u001b[39;00m \u001b[38;5;28;01mNone\u001b[39;00m:\n\u001b[0;32m--> 412\u001b[0m     \u001b[38;5;28mself\u001b[39m\u001b[38;5;241m.\u001b[39m_last_obs \u001b[38;5;241m=\u001b[39m \u001b[38;5;28;43mself\u001b[39;49m\u001b[38;5;241;43m.\u001b[39;49m\u001b[43menv\u001b[49m\u001b[38;5;241;43m.\u001b[39;49m\u001b[43mreset\u001b[49m\u001b[43m(\u001b[49m\u001b[43m)\u001b[49m  \u001b[38;5;66;03m# pytype: disable=annotation-type-mismatch\u001b[39;00m\n\u001b[1;32m    413\u001b[0m     \u001b[38;5;28mself\u001b[39m\u001b[38;5;241m.\u001b[39m_last_episode_starts \u001b[38;5;241m=\u001b[39m np\u001b[38;5;241m.\u001b[39mones((\u001b[38;5;28mself\u001b[39m\u001b[38;5;241m.\u001b[39menv\u001b[38;5;241m.\u001b[39mnum_envs,), dtype\u001b[38;5;241m=\u001b[39m\u001b[38;5;28mbool\u001b[39m)\n\u001b[1;32m    414\u001b[0m     \u001b[38;5;66;03m# Retrieve unnormalized observation for saving into the buffer\u001b[39;00m\n",
      "File \u001b[0;32m/opt/anaconda3/lib/python3.9/site-packages/stable_baselines3/common/vec_env/dummy_vec_env.py:85\u001b[0m, in \u001b[0;36mDummyVecEnv.reset\u001b[0;34m(self)\u001b[0m\n\u001b[1;32m     83\u001b[0m \u001b[38;5;28;01mdef\u001b[39;00m \u001b[38;5;21mreset\u001b[39m(\u001b[38;5;28mself\u001b[39m) \u001b[38;5;241m-\u001b[39m\u001b[38;5;241m>\u001b[39m VecEnvObs:\n\u001b[1;32m     84\u001b[0m     \u001b[38;5;28;01mfor\u001b[39;00m env_idx \u001b[38;5;129;01min\u001b[39;00m \u001b[38;5;28mrange\u001b[39m(\u001b[38;5;28mself\u001b[39m\u001b[38;5;241m.\u001b[39mnum_envs):\n\u001b[0;32m---> 85\u001b[0m         obs, \u001b[38;5;28mself\u001b[39m\u001b[38;5;241m.\u001b[39mreset_infos[env_idx] \u001b[38;5;241m=\u001b[39m \u001b[38;5;28mself\u001b[39m\u001b[38;5;241m.\u001b[39menvs[env_idx]\u001b[38;5;241m.\u001b[39mreset()\n\u001b[1;32m     86\u001b[0m         \u001b[38;5;28mself\u001b[39m\u001b[38;5;241m.\u001b[39m_save_obs(env_idx, obs)\n\u001b[1;32m     87\u001b[0m     \u001b[38;5;28;01mreturn\u001b[39;00m \u001b[38;5;28mself\u001b[39m\u001b[38;5;241m.\u001b[39m_obs_from_buf()\n",
      "\u001b[0;31mTypeError\u001b[0m: cannot unpack non-iterable int object"
     ]
    }
   ],
   "source": [
    "ppo_model = PPO(\"MlpPolicy\", ShowerEnv, verbose=0).learn(budget_pendulum)"
   ]
  },
  {
   "cell_type": "code",
   "execution_count": null,
   "id": "e4c86744-3a78-48fa-a1a2-a464999a22ff",
   "metadata": {},
   "outputs": [],
   "source": [
    "ppo_model.learn(total_timesteps=1000)"
   ]
  },
  {
   "cell_type": "code",
   "execution_count": null,
   "id": "4ba79fad-b308-4e57-9d8a-7faf1a5a3715",
   "metadata": {},
   "outputs": [],
   "source": [
    "obs = env.reset()"
   ]
  },
  {
   "cell_type": "code",
   "execution_count": null,
   "id": "f00f2109-299a-448d-93b0-6f14ddb3d77e",
   "metadata": {},
   "outputs": [],
   "source": [
    "while True:\n",
    "    action, _states = ppo_model.predict(obs)\n",
    "    obs, rewards, dones, info = env.step(action)"
   ]
  },
  {
   "cell_type": "code",
   "execution_count": 96,
   "id": "bb72c9b5-a4b6-4eb5-89e4-5ddb095ce392",
   "metadata": {},
   "outputs": [
    {
     "data": {
      "text/plain": [
       "(37, 1, False, {})"
      ]
     },
     "execution_count": 96,
     "metadata": {},
     "output_type": "execute_result"
    }
   ],
   "source": [
    "env.step(action)"
   ]
  },
  {
   "cell_type": "code",
   "execution_count": 386,
   "id": "183fa867-b692-4a5a-b464-54ef3c38271d",
   "metadata": {},
   "outputs": [
    {
     "ename": "DependencyNotInstalled",
     "evalue": "box2D is not installed, run `pip install gym[box2d]`",
     "output_type": "error",
     "traceback": [
      "\u001b[0;31m---------------------------------------------------------------------------\u001b[0m",
      "\u001b[0;31mModuleNotFoundError\u001b[0m                       Traceback (most recent call last)",
      "File \u001b[0;32m/opt/anaconda3/lib/python3.9/site-packages/gym/envs/box2d/bipedal_walker.py:14\u001b[0m, in \u001b[0;36m<module>\u001b[0;34m\u001b[0m\n\u001b[1;32m     13\u001b[0m \u001b[38;5;28;01mtry\u001b[39;00m:\n\u001b[0;32m---> 14\u001b[0m     \u001b[38;5;28;01mimport\u001b[39;00m \u001b[38;5;21;01mBox2D\u001b[39;00m\n\u001b[1;32m     15\u001b[0m     \u001b[38;5;28;01mfrom\u001b[39;00m \u001b[38;5;21;01mBox2D\u001b[39;00m\u001b[38;5;21;01m.\u001b[39;00m\u001b[38;5;21;01mb2\u001b[39;00m \u001b[38;5;28;01mimport\u001b[39;00m (\n\u001b[1;32m     16\u001b[0m         circleShape,\n\u001b[1;32m     17\u001b[0m         contactListener,\n\u001b[0;32m   (...)\u001b[0m\n\u001b[1;32m     21\u001b[0m         revoluteJointDef,\n\u001b[1;32m     22\u001b[0m     )\n",
      "\u001b[0;31mModuleNotFoundError\u001b[0m: No module named 'Box2D'",
      "\nDuring handling of the above exception, another exception occurred:\n",
      "\u001b[0;31mDependencyNotInstalled\u001b[0m                    Traceback (most recent call last)",
      "Input \u001b[0;32mIn [386]\u001b[0m, in \u001b[0;36m<cell line: 2>\u001b[0;34m()\u001b[0m\n\u001b[1;32m      1\u001b[0m \u001b[38;5;28;01mimport\u001b[39;00m \u001b[38;5;21;01mgym\u001b[39;00m\n\u001b[0;32m----> 2\u001b[0m env \u001b[38;5;241m=\u001b[39m \u001b[43mgym\u001b[49m\u001b[38;5;241;43m.\u001b[39;49m\u001b[43mmake\u001b[49m\u001b[43m(\u001b[49m\u001b[38;5;124;43m\"\u001b[39;49m\u001b[38;5;124;43mLunarLander-v2\u001b[39;49m\u001b[38;5;124;43m\"\u001b[39;49m\u001b[43m,\u001b[49m\u001b[43m \u001b[49m\u001b[43mrender_mode\u001b[49m\u001b[38;5;241;43m=\u001b[39;49m\u001b[38;5;124;43m\"\u001b[39;49m\u001b[38;5;124;43mhuman\u001b[39;49m\u001b[38;5;124;43m\"\u001b[39;49m\u001b[43m)\u001b[49m\n\u001b[1;32m      3\u001b[0m env\u001b[38;5;241m.\u001b[39maction_space\u001b[38;5;241m.\u001b[39mseed(\u001b[38;5;241m42\u001b[39m)\n\u001b[1;32m      5\u001b[0m observation, info \u001b[38;5;241m=\u001b[39m env\u001b[38;5;241m.\u001b[39mreset(seed\u001b[38;5;241m=\u001b[39m\u001b[38;5;241m42\u001b[39m)\n",
      "File \u001b[0;32m/opt/anaconda3/lib/python3.9/site-packages/gym/envs/registration.py:581\u001b[0m, in \u001b[0;36mmake\u001b[0;34m(id, max_episode_steps, autoreset, apply_api_compatibility, disable_env_checker, **kwargs)\u001b[0m\n\u001b[1;32m    578\u001b[0m     env_creator \u001b[38;5;241m=\u001b[39m spec_\u001b[38;5;241m.\u001b[39mentry_point\n\u001b[1;32m    579\u001b[0m \u001b[38;5;28;01melse\u001b[39;00m:\n\u001b[1;32m    580\u001b[0m     \u001b[38;5;66;03m# Assume it's a string\u001b[39;00m\n\u001b[0;32m--> 581\u001b[0m     env_creator \u001b[38;5;241m=\u001b[39m \u001b[43mload\u001b[49m\u001b[43m(\u001b[49m\u001b[43mspec_\u001b[49m\u001b[38;5;241;43m.\u001b[39;49m\u001b[43mentry_point\u001b[49m\u001b[43m)\u001b[49m\n\u001b[1;32m    583\u001b[0m mode \u001b[38;5;241m=\u001b[39m _kwargs\u001b[38;5;241m.\u001b[39mget(\u001b[38;5;124m\"\u001b[39m\u001b[38;5;124mrender_mode\u001b[39m\u001b[38;5;124m\"\u001b[39m)\n\u001b[1;32m    584\u001b[0m apply_human_rendering \u001b[38;5;241m=\u001b[39m \u001b[38;5;28;01mFalse\u001b[39;00m\n",
      "File \u001b[0;32m/opt/anaconda3/lib/python3.9/site-packages/gym/envs/registration.py:61\u001b[0m, in \u001b[0;36mload\u001b[0;34m(name)\u001b[0m\n\u001b[1;32m     52\u001b[0m \u001b[38;5;124;03m\"\"\"Loads an environment with name and returns an environment creation function\u001b[39;00m\n\u001b[1;32m     53\u001b[0m \n\u001b[1;32m     54\u001b[0m \u001b[38;5;124;03mArgs:\u001b[39;00m\n\u001b[0;32m   (...)\u001b[0m\n\u001b[1;32m     58\u001b[0m \u001b[38;5;124;03m    Calls the environment constructor\u001b[39;00m\n\u001b[1;32m     59\u001b[0m \u001b[38;5;124;03m\"\"\"\u001b[39;00m\n\u001b[1;32m     60\u001b[0m mod_name, attr_name \u001b[38;5;241m=\u001b[39m name\u001b[38;5;241m.\u001b[39msplit(\u001b[38;5;124m\"\u001b[39m\u001b[38;5;124m:\u001b[39m\u001b[38;5;124m\"\u001b[39m)\n\u001b[0;32m---> 61\u001b[0m mod \u001b[38;5;241m=\u001b[39m \u001b[43mimportlib\u001b[49m\u001b[38;5;241;43m.\u001b[39;49m\u001b[43mimport_module\u001b[49m\u001b[43m(\u001b[49m\u001b[43mmod_name\u001b[49m\u001b[43m)\u001b[49m\n\u001b[1;32m     62\u001b[0m fn \u001b[38;5;241m=\u001b[39m \u001b[38;5;28mgetattr\u001b[39m(mod, attr_name)\n\u001b[1;32m     63\u001b[0m \u001b[38;5;28;01mreturn\u001b[39;00m fn\n",
      "File \u001b[0;32m/opt/anaconda3/lib/python3.9/importlib/__init__.py:127\u001b[0m, in \u001b[0;36mimport_module\u001b[0;34m(name, package)\u001b[0m\n\u001b[1;32m    125\u001b[0m             \u001b[38;5;28;01mbreak\u001b[39;00m\n\u001b[1;32m    126\u001b[0m         level \u001b[38;5;241m+\u001b[39m\u001b[38;5;241m=\u001b[39m \u001b[38;5;241m1\u001b[39m\n\u001b[0;32m--> 127\u001b[0m \u001b[38;5;28;01mreturn\u001b[39;00m \u001b[43m_bootstrap\u001b[49m\u001b[38;5;241;43m.\u001b[39;49m\u001b[43m_gcd_import\u001b[49m\u001b[43m(\u001b[49m\u001b[43mname\u001b[49m\u001b[43m[\u001b[49m\u001b[43mlevel\u001b[49m\u001b[43m:\u001b[49m\u001b[43m]\u001b[49m\u001b[43m,\u001b[49m\u001b[43m \u001b[49m\u001b[43mpackage\u001b[49m\u001b[43m,\u001b[49m\u001b[43m \u001b[49m\u001b[43mlevel\u001b[49m\u001b[43m)\u001b[49m\n",
      "File \u001b[0;32m<frozen importlib._bootstrap>:1030\u001b[0m, in \u001b[0;36m_gcd_import\u001b[0;34m(name, package, level)\u001b[0m\n",
      "File \u001b[0;32m<frozen importlib._bootstrap>:1007\u001b[0m, in \u001b[0;36m_find_and_load\u001b[0;34m(name, import_)\u001b[0m\n",
      "File \u001b[0;32m<frozen importlib._bootstrap>:972\u001b[0m, in \u001b[0;36m_find_and_load_unlocked\u001b[0;34m(name, import_)\u001b[0m\n",
      "File \u001b[0;32m<frozen importlib._bootstrap>:228\u001b[0m, in \u001b[0;36m_call_with_frames_removed\u001b[0;34m(f, *args, **kwds)\u001b[0m\n",
      "File \u001b[0;32m<frozen importlib._bootstrap>:1030\u001b[0m, in \u001b[0;36m_gcd_import\u001b[0;34m(name, package, level)\u001b[0m\n",
      "File \u001b[0;32m<frozen importlib._bootstrap>:1007\u001b[0m, in \u001b[0;36m_find_and_load\u001b[0;34m(name, import_)\u001b[0m\n",
      "File \u001b[0;32m<frozen importlib._bootstrap>:986\u001b[0m, in \u001b[0;36m_find_and_load_unlocked\u001b[0;34m(name, import_)\u001b[0m\n",
      "File \u001b[0;32m<frozen importlib._bootstrap>:680\u001b[0m, in \u001b[0;36m_load_unlocked\u001b[0;34m(spec)\u001b[0m\n",
      "File \u001b[0;32m<frozen importlib._bootstrap_external>:850\u001b[0m, in \u001b[0;36mexec_module\u001b[0;34m(self, module)\u001b[0m\n",
      "File \u001b[0;32m<frozen importlib._bootstrap>:228\u001b[0m, in \u001b[0;36m_call_with_frames_removed\u001b[0;34m(f, *args, **kwds)\u001b[0m\n",
      "File \u001b[0;32m/opt/anaconda3/lib/python3.9/site-packages/gym/envs/box2d/__init__.py:1\u001b[0m, in \u001b[0;36m<module>\u001b[0;34m\u001b[0m\n\u001b[0;32m----> 1\u001b[0m \u001b[38;5;28;01mfrom\u001b[39;00m \u001b[38;5;21;01mgym\u001b[39;00m\u001b[38;5;21;01m.\u001b[39;00m\u001b[38;5;21;01menvs\u001b[39;00m\u001b[38;5;21;01m.\u001b[39;00m\u001b[38;5;21;01mbox2d\u001b[39;00m\u001b[38;5;21;01m.\u001b[39;00m\u001b[38;5;21;01mbipedal_walker\u001b[39;00m \u001b[38;5;28;01mimport\u001b[39;00m BipedalWalker, BipedalWalkerHardcore\n\u001b[1;32m      2\u001b[0m \u001b[38;5;28;01mfrom\u001b[39;00m \u001b[38;5;21;01mgym\u001b[39;00m\u001b[38;5;21;01m.\u001b[39;00m\u001b[38;5;21;01menvs\u001b[39;00m\u001b[38;5;21;01m.\u001b[39;00m\u001b[38;5;21;01mbox2d\u001b[39;00m\u001b[38;5;21;01m.\u001b[39;00m\u001b[38;5;21;01mcar_racing\u001b[39;00m \u001b[38;5;28;01mimport\u001b[39;00m CarRacing\n\u001b[1;32m      3\u001b[0m \u001b[38;5;28;01mfrom\u001b[39;00m \u001b[38;5;21;01mgym\u001b[39;00m\u001b[38;5;21;01m.\u001b[39;00m\u001b[38;5;21;01menvs\u001b[39;00m\u001b[38;5;21;01m.\u001b[39;00m\u001b[38;5;21;01mbox2d\u001b[39;00m\u001b[38;5;21;01m.\u001b[39;00m\u001b[38;5;21;01mlunar_lander\u001b[39;00m \u001b[38;5;28;01mimport\u001b[39;00m LunarLander, LunarLanderContinuous\n",
      "File \u001b[0;32m/opt/anaconda3/lib/python3.9/site-packages/gym/envs/box2d/bipedal_walker.py:24\u001b[0m, in \u001b[0;36m<module>\u001b[0;34m\u001b[0m\n\u001b[1;32m     15\u001b[0m     \u001b[38;5;28;01mfrom\u001b[39;00m \u001b[38;5;21;01mBox2D\u001b[39;00m\u001b[38;5;21;01m.\u001b[39;00m\u001b[38;5;21;01mb2\u001b[39;00m \u001b[38;5;28;01mimport\u001b[39;00m (\n\u001b[1;32m     16\u001b[0m         circleShape,\n\u001b[1;32m     17\u001b[0m         contactListener,\n\u001b[0;32m   (...)\u001b[0m\n\u001b[1;32m     21\u001b[0m         revoluteJointDef,\n\u001b[1;32m     22\u001b[0m     )\n\u001b[1;32m     23\u001b[0m \u001b[38;5;28;01mexcept\u001b[39;00m \u001b[38;5;167;01mImportError\u001b[39;00m:\n\u001b[0;32m---> 24\u001b[0m     \u001b[38;5;28;01mraise\u001b[39;00m DependencyNotInstalled(\u001b[38;5;124m\"\u001b[39m\u001b[38;5;124mbox2D is not installed, run `pip install gym[box2d]`\u001b[39m\u001b[38;5;124m\"\u001b[39m)\n\u001b[1;32m     27\u001b[0m \u001b[38;5;28;01mif\u001b[39;00m TYPE_CHECKING:\n\u001b[1;32m     28\u001b[0m     \u001b[38;5;28;01mimport\u001b[39;00m \u001b[38;5;21;01mpygame\u001b[39;00m\n",
      "\u001b[0;31mDependencyNotInstalled\u001b[0m: box2D is not installed, run `pip install gym[box2d]`"
     ]
    }
   ],
   "source": [
    "import gym\n",
    "env = gym.make(\"LunarLander-v2\", render_mode=\"human\")\n",
    "env.action_space.seed(42)\n",
    "\n",
    "observation, info = env.reset(seed=42)\n",
    "\n",
    "for _ in range(1000):\n",
    "    observation, reward, terminated, truncated, info = env.step(env.action_space.sample())\n",
    "\n",
    "    if terminated or truncated:\n",
    "        observation, info = env.reset()\n",
    "\n",
    "env.close()"
   ]
  }
 ],
 "metadata": {
  "kernelspec": {
   "display_name": "Python 3 (ipykernel)",
   "language": "python",
   "name": "python3"
  },
  "language_info": {
   "codemirror_mode": {
    "name": "ipython",
    "version": 3
   },
   "file_extension": ".py",
   "mimetype": "text/x-python",
   "name": "python",
   "nbconvert_exporter": "python",
   "pygments_lexer": "ipython3",
   "version": "3.9.12"
  }
 },
 "nbformat": 4,
 "nbformat_minor": 5
}
