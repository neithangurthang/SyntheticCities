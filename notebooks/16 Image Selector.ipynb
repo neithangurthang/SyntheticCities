{
 "cells": [
  {
   "cell_type": "markdown",
   "id": "145afec8-cbd7-47ef-a573-448b0a202d12",
   "metadata": {},
   "source": [
    "# 16 Very naive Approach to get the highest diversity in images"
   ]
  },
  {
   "cell_type": "markdown",
   "id": "58e68e77-e80b-4cf4-aadf-0ab50d6c0315",
   "metadata": {},
   "source": [
    "## 1. Load libraries"
   ]
  },
  {
   "cell_type": "code",
   "execution_count": 52,
   "id": "7d571dbd-94bb-4c3d-96c0-545e47dadb08",
   "metadata": {},
   "outputs": [
    {
     "name": "stdout",
     "output_type": "stream",
     "text": [
      "The autoreload extension is already loaded. To reload it, use:\n",
      "  %reload_ext autoreload\n"
     ]
    }
   ],
   "source": [
    "import os\n",
    "from os import listdir\n",
    "from os.path import isfile, join\n",
    "import shutil\n",
    "from PIL import Image\n",
    "\n",
    "import torch\n",
    "import torchvision.transforms.functional as TF\n",
    "\n",
    "import matplotlib.pyplot as plt\n",
    "\n",
    "%matplotlib inline\n",
    "\n",
    "%load_ext autoreload\n",
    "%autoreload 2"
   ]
  },
  {
   "cell_type": "markdown",
   "id": "8bddc381-fba3-4dc9-bcdf-17d0d5f86f2f",
   "metadata": {},
   "source": [
    "## 2 Load Images"
   ]
  },
  {
   "cell_type": "code",
   "execution_count": 2,
   "id": "36b3d7fa-09f4-4498-a75f-aaa15987c1b1",
   "metadata": {},
   "outputs": [],
   "source": [
    "imgFld = '../../cadastralExportRGB/cadastralRGB'"
   ]
  },
  {
   "cell_type": "code",
   "execution_count": 3,
   "id": "b9d46955-9f69-4a59-887b-e091dfdcc5f2",
   "metadata": {},
   "outputs": [
    {
     "name": "stdout",
     "output_type": "stream",
     "text": [
      "972\n"
     ]
    }
   ],
   "source": [
    "onlyfiles = [imgFld + '/' + f for f in listdir(imgFld) if isfile(join(imgFld, f))]\n",
    "print(len(onlyfiles))"
   ]
  },
  {
   "cell_type": "code",
   "execution_count": 4,
   "id": "c72b25e3-44e4-4e11-956d-0e00e2b765e5",
   "metadata": {},
   "outputs": [
    {
     "name": "stdout",
     "output_type": "stream",
     "text": [
      "torch.Size([1, 3, 1280, 1280])\n"
     ]
    }
   ],
   "source": [
    "image = Image.open(onlyfiles[0])\n",
    "imgs  = TF.to_tensor(image)\n",
    "imgs.unsqueeze_(0)\n",
    "print(imgs.shape)"
   ]
  },
  {
   "cell_type": "code",
   "execution_count": 5,
   "id": "dc9d85c7-25ba-485c-b4ca-3ba3f08d25d3",
   "metadata": {
    "tags": []
   },
   "outputs": [],
   "source": [
    "for path in onlyfiles[1:100]:\n",
    "    image = Image.open(path)\n",
    "    new = TF.to_tensor(image)\n",
    "    new.unsqueeze_(0)\n",
    "    imgs = torch.cat((imgs, new), 0)"
   ]
  },
  {
   "cell_type": "code",
   "execution_count": 6,
   "id": "5a5f4d59-fed9-4e03-b592-037c8e3bf1a8",
   "metadata": {},
   "outputs": [
    {
     "data": {
      "text/plain": [
       "torch.Size([100, 3, 1280, 1280])"
      ]
     },
     "execution_count": 6,
     "metadata": {},
     "output_type": "execute_result"
    }
   ],
   "source": [
    "imgs.size()"
   ]
  },
  {
   "cell_type": "markdown",
   "id": "16e23c60-cb30-4efc-920b-af06e6f4fe1e",
   "metadata": {},
   "source": [
    "## 3 Max n images for each channel"
   ]
  },
  {
   "cell_type": "code",
   "execution_count": 20,
   "id": "aa0900a0-19c2-4379-acc9-dcdfa4e72a8e",
   "metadata": {},
   "outputs": [],
   "source": [
    "reds = []\n",
    "greens = []\n",
    "blues = []\n",
    "for i in range(imgs.size(0)): \n",
    "    reds.append(float(imgs[i][0].sum()/(imgs.size(2)*imgs.size(3)))) # R\n",
    "    greens.append(float(imgs[i][1].sum()/(imgs.size(2)*imgs.size(3)))) # G\n",
    "    blues.append(float(imgs[i][2].sum()/(imgs.size(2)*imgs.size(3)))) # B"
   ]
  },
  {
   "cell_type": "code",
   "execution_count": 21,
   "id": "a9fbaed5-4f17-44e0-a2e8-4eb8d9463b0a",
   "metadata": {},
   "outputs": [
    {
     "data": {
      "image/png": "[encoded data removed]",
      "text/plain": [
       "<Figure size 432x288 with 1 Axes>"
      ]
     },
     "metadata": {
      "needs_background": "light"
     },
     "output_type": "display_data"
    }
   ],
   "source": [
    "plt.hist(blues, bins=50);"
   ]
  },
  {
   "cell_type": "code",
   "execution_count": 24,
   "id": "55c0ddbd-5fe5-48e3-a124-a1f6d135e771",
   "metadata": {
    "tags": []
   },
   "outputs": [],
   "source": [
    "minimgs, maximgs = 0, 100\n",
    "reds = []\n",
    "greens = []\n",
    "blues = []\n",
    "\n",
    "for ind in range(10):\n",
    "    for path in onlyfiles[minimgs:maximgs]:\n",
    "        imgs = torch.empty(0,3,1280, 1280)\n",
    "        image = Image.open(path)\n",
    "        new = TF.to_tensor(image)\n",
    "        new.unsqueeze_(0)\n",
    "        imgs = torch.cat((imgs, new), 0)\n",
    "\n",
    "        for i in range(imgs.size(0)): \n",
    "            reds.append(float(imgs[i][0].sum()/(imgs.size(2)*imgs.size(3)))) # R\n",
    "            greens.append(float(imgs[i][1].sum()/(imgs.size(2)*imgs.size(3)))) # G\n",
    "            blues.append(float(imgs[i][2].sum()/(imgs.size(2)*imgs.size(3)))) # B\n",
    "\n",
    "    minimgs += 100\n",
    "    maximgs += 100\n",
    "    maximgs = min(maximgs, len(onlyfiles))"
   ]
  },
  {
   "cell_type": "code",
   "execution_count": 26,
   "id": "b9c9ac5d-b5a4-41a8-ace2-562bd787c7e8",
   "metadata": {},
   "outputs": [],
   "source": [
    "N = 40\n",
    "\n",
    "BestR = sorted(range(len(reds)), key = lambda sub: reds[sub])[-N:]\n",
    "BestG = sorted(range(len(greens)), key = lambda sub: greens[sub])[-N:]\n",
    "BestB = sorted(range(len(blues)), key = lambda sub: blues[sub])[-N:]"
   ]
  },
  {
   "cell_type": "code",
   "execution_count": 43,
   "id": "d1e34239-84de-4b82-b84d-6a60ceab2eb2",
   "metadata": {
    "tags": []
   },
   "outputs": [],
   "source": [
    "selected = [onlyfiles[i] for i in BestR]\n",
    "selected.extend([onlyfiles[i] for i in BestG])\n",
    "selected.extend([onlyfiles[i] for i in BestB])"
   ]
  },
  {
   "cell_type": "code",
   "execution_count": 48,
   "id": "38a689c8-5454-4510-8a19-d4294f06ff21",
   "metadata": {},
   "outputs": [],
   "source": [
    "selected = list(set(selected))"
   ]
  },
  {
   "cell_type": "markdown",
   "id": "17a5b572-b4f3-4961-a600-917231f7ef73",
   "metadata": {},
   "source": [
    "## 4 Copy file in new folder"
   ]
  },
  {
   "cell_type": "code",
   "execution_count": 50,
   "id": "c9c44405-7a1d-4b35-b6be-6c91ae6a71f6",
   "metadata": {},
   "outputs": [],
   "source": [
    "dest = '../../cadastralExportRGBSelected/train/'"
   ]
  },
  {
   "cell_type": "code",
   "execution_count": 53,
   "id": "87cac534-3944-4633-950e-ffcc86110c82",
   "metadata": {},
   "outputs": [],
   "source": [
    "for file_name in selected:\n",
    "    if os.path.isfile(file_name):\n",
    "        shutil.copy(file_name, dest)"
   ]
  }
 ],
 "metadata": {
  "kernelspec": {
   "display_name": "Python 3 (ipykernel)",
   "language": "python",
   "name": "python3"
  },
  "language_info": {
   "codemirror_mode": {
    "name": "ipython",
    "version": 3
   },
   "file_extension": ".py",
   "mimetype": "text/x-python",
   "name": "python",
   "nbconvert_exporter": "python",
   "pygments_lexer": "ipython3",
   "version": "3.9.12"
  }
 },
 "nbformat": 4,
 "nbformat_minor": 5
}
