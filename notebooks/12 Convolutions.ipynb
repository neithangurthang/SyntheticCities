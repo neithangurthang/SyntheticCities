{
 "cells": [
  {
   "cell_type": "markdown",
   "id": "1f2b6fbd-1ef3-421f-8790-e9a4fab506cb",
   "metadata": {},
   "source": [
    "# 1. Import libraries"
   ]
  },
  {
   "cell_type": "code",
   "execution_count": 26,
   "id": "23068703-e612-4f05-8978-80c9e5b949b1",
   "metadata": {},
   "outputs": [
    {
     "name": "stdout",
     "output_type": "stream",
     "text": [
      "The autoreload extension is already loaded. To reload it, use:\n",
      "  %reload_ext autoreload\n"
     ]
    }
   ],
   "source": [
    "import sys\n",
    "sys.path.append('../src/utils/')\n",
    "from utils import conv_path_search\n",
    "\n",
    "%matplotlib inline\n",
    "\n",
    "%load_ext autoreload\n",
    "%autoreload 2"
   ]
  },
  {
   "cell_type": "markdown",
   "id": "69416e0b-9ff4-4312-a1bd-c294e92cdce9",
   "metadata": {},
   "source": [
    "# 2. Convolutions for 256 pixels"
   ]
  },
  {
   "cell_type": "markdown",
   "id": "8035ddfb-9bfb-4fd0-b975-9482e9ec24b6",
   "metadata": {},
   "source": [
    "## 2.1 Three Convolutions"
   ]
  },
  {
   "cell_type": "code",
   "execution_count": 35,
   "id": "180b98cd-4bd5-4d59-acca-184efc1ee7d2",
   "metadata": {},
   "outputs": [
    {
     "name": "stdout",
     "output_type": "stream",
     "text": [
      "{'ins': [256, 36.0, 12.0], 'outs': [36.0, 12.0, 4.0], 'kernel_sizes': [11, 3, 3], 'paddings': [0, 0, 0], 'strides': [7, 3, 3]}\n"
     ]
    }
   ],
   "source": [
    "s3, c3 = conv_path_search(ins = 256, kernel_sizes = [11, 9, 7, 5, 3], \n",
    "                          strides = [1,3,5, 7], paddings = [0,1], convs = 3, out = 4, verbose = False)\n",
    "\n",
    "# conv_path_search(ins: int, kernel_sizes: list[int], strides: list[int], paddings: list[int], convs: int = 3, out: int = 1, verbose:bool = False)\n",
    "print(s3[-1])"
   ]
  },
  {
   "cell_type": "markdown",
   "id": "c8cf2f2c-96bb-4267-b7f1-4decfd5c0041",
   "metadata": {},
   "source": [
    "## 2.2 Four Convolutions"
   ]
  },
  {
   "cell_type": "code",
   "execution_count": 36,
   "id": "5f23ea80-18b5-4a7d-8541-c02c0f3ed5f2",
   "metadata": {},
   "outputs": [
    {
     "name": "stdout",
     "output_type": "stream",
     "text": [
      "{'ins': [256, 84.0, 26.0, 8.0], 'outs': [84.0, 26.0, 8.0, 4.0], 'kernel_sizes': [9, 9, 5, 5], 'paddings': [1, 0, 0, 0], 'strides': [3, 3, 3, 1]}\n"
     ]
    }
   ],
   "source": [
    "s4, c4 = conv_path_search(ins = 256, kernel_sizes = [11, 9, 7, 5, 3], \n",
    "                          strides = [1,3,5, 7], paddings = [0,1], convs = 4, out = 4, verbose = False)\n",
    "print(s4[-1])"
   ]
  }
 ],
 "metadata": {
  "kernelspec": {
   "display_name": "Python 3 (ipykernel)",
   "language": "python",
   "name": "python3"
  },
  "language_info": {
   "codemirror_mode": {
    "name": "ipython",
    "version": 3
   },
   "file_extension": ".py",
   "mimetype": "text/x-python",
   "name": "python",
   "nbconvert_exporter": "python",
   "pygments_lexer": "ipython3",
   "version": "3.9.12"
  }
 },
 "nbformat": 4,
 "nbformat_minor": 5
}
