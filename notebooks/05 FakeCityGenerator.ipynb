{
 "cells": [
  {
   "cell_type": "markdown",
   "id": "149f99f9-13ca-40a4-8dc7-7d499b506be3",
   "metadata": {},
   "source": [
    "This notebooks simply loads a generator model and spits a series of images"
   ]
  },
  {
   "cell_type": "code",
   "execution_count": 1,
   "id": "eff1c13c-a2b2-4af0-b955-bec70e61143e",
   "metadata": {
    "tags": []
   },
   "outputs": [
    {
     "name": "stdout",
     "output_type": "stream",
     "text": [
      "Random Seed:  999\n"
     ]
    }
   ],
   "source": [
    "# from __future__ import print_function\n",
    "%matplotlib inline\n",
    "# import argparse #generates help messages\n",
    "import os\n",
    "import random\n",
    "import sys\n",
    "import torch\n",
    "import torch.nn as nn\n",
    "from torchvision.utils import save_image\n",
    "# import torch.nn.parallel # implements data parallelism across multiple devices/GPUs\n",
    "# import torch.backends.cudnn as cudnn\n",
    "# import torch.nn.functional as F\n",
    "# import torch.optim as optim # optimizer for example optim.Adam([var1, var2], lr=0.0001)\n",
    "# import torch.utils.data # for the dataloader class (python iterable over a dataset)\n",
    "# import torchvision.datasets as dset # all datasets available in torch vision. not sure if needed here\n",
    "# import torchvision.transforms as transforms # all transformations for data augmentation (pad, resize, centercrop, ...)\n",
    "# import torchvision.utils as vutils # draw bounding box, segmantation mask, keypoints. convert to rgb, make grid, save_image\n",
    "import numpy as np\n",
    "import matplotlib.pyplot as plt\n",
    "# import matplotlib.animation as animation\n",
    "# import optuna\n",
    "# from optuna.trial import TrialState\n",
    "import logging\n",
    "# from IPython.display import HTML # to embed html in the Ipython output\n",
    "# import datetime\n",
    "# import mlflow\n",
    "\n",
    "logging.basicConfig(level=logging.WARNING)\n",
    "logging.basicConfig(filename='../reports/MVPOptimizer.log') \n",
    "\n",
    "# Set random seed for reproducibility\n",
    "manualSeed = 999\n",
    "#manualSeed = random.randint(1, 10000) # use if you want new results\n",
    "print(\"Random Seed: \", manualSeed)\n",
    "random.seed(manualSeed)\n",
    "torch.manual_seed(manualSeed)\n",
    "\n",
    "%load_ext autoreload\n",
    "%autoreload 2"
   ]
  },
  {
   "cell_type": "markdown",
   "id": "d0a85a85-b160-4b04-b80c-25f62d7354d8",
   "metadata": {},
   "source": [
    "# 1 Load Model"
   ]
  },
  {
   "cell_type": "code",
   "execution_count": 2,
   "id": "dd9e6e04-73f5-4ce4-8998-6a2cd574f479",
   "metadata": {},
   "outputs": [],
   "source": [
    "imgFld = '../data/cadastralExport/'"
   ]
  },
  {
   "cell_type": "code",
   "execution_count": 3,
   "id": "dc71d670-73a4-46c9-987c-38153394ffc2",
   "metadata": {},
   "outputs": [
    {
     "data": {
      "text/plain": [
       "1278"
      ]
     },
     "execution_count": 3,
     "metadata": {},
     "output_type": "execute_result"
    }
   ],
   "source": [
    "from os import listdir\n",
    "from os.path import isfile, join\n",
    "onlyfiles = [f for f in listdir(imgFld) if isfile(join(imgFld, f))]\n",
    "len(onlyfiles)"
   ]
  },
  {
   "cell_type": "code",
   "execution_count": 6,
   "id": "22c5c996-9450-4bb9-88fd-6c23bf04d644",
   "metadata": {},
   "outputs": [
    {
     "data": {
      "text/plain": [
       "103"
      ]
     },
     "execution_count": 6,
     "metadata": {},
     "output_type": "execute_result"
    }
   ],
   "source": [
    "dataroot = \"../../png/train\"\n",
    "onlyfiles = [f for f in listdir(dataroot) if isfile(join(dataroot, f))]\n",
    "len(onlyfiles)"
   ]
  },
  {
   "cell_type": "code",
   "execution_count": 7,
   "id": "31fae4c9-23ab-4c4b-9d4f-4d1ba65fcc90",
   "metadata": {},
   "outputs": [],
   "source": [
    "src = '../models/MVPBestGenerator'"
   ]
  },
  {
   "cell_type": "code",
   "execution_count": 17,
   "id": "43724212-7e3a-4430-bd70-e21c98a59e34",
   "metadata": {},
   "outputs": [],
   "source": [
    "sys.path.append(\"../src/models/\")"
   ]
  },
  {
   "cell_type": "code",
   "execution_count": 18,
   "id": "a29c17ad-10a8-4a3c-b54c-f8bcea4fb7d8",
   "metadata": {},
   "outputs": [],
   "source": [
    "from Generator import OptGen"
   ]
  },
  {
   "cell_type": "code",
   "execution_count": 20,
   "id": "8cb7a748-83fb-48d5-af34-d64442af17c5",
   "metadata": {},
   "outputs": [],
   "source": [
    "GNet = torch.load(src)"
   ]
  },
  {
   "cell_type": "code",
   "execution_count": 21,
   "id": "0b90e3da-e0b8-4a12-8c2f-7431fb866474",
   "metadata": {},
   "outputs": [],
   "source": [
    "b_size = 64\n",
    "nz = 100\n",
    "ngpu = torch.cuda.device_count()\n",
    "device = torch.device(\"cuda:0\" if (torch.cuda.is_available() and ngpu > 0) else \"cpu\")"
   ]
  },
  {
   "cell_type": "code",
   "execution_count": 22,
   "id": "8041ad8e-c721-407c-9185-62faf2c54b04",
   "metadata": {},
   "outputs": [],
   "source": [
    "# Generate batch of latent vectors\n",
    "noise = torch.randn(b_size, nz, 1, 1, device=device)\n",
    "# Generate fake image batch with G\n",
    "fake = GNet(noise).detach().cpu()"
   ]
  },
  {
   "cell_type": "code",
   "execution_count": 23,
   "id": "656cebbe-f12e-400f-9a67-005e87cbf2f0",
   "metadata": {},
   "outputs": [
    {
     "data": {
      "text/plain": [
       "torch.Size([64, 3, 64, 64])"
      ]
     },
     "execution_count": 23,
     "metadata": {},
     "output_type": "execute_result"
    }
   ],
   "source": [
    "fake.shape"
   ]
  },
  {
   "cell_type": "code",
   "execution_count": 40,
   "id": "ce250984-dc60-4e69-8e45-54871e98f9d4",
   "metadata": {},
   "outputs": [
    {
     "data": {
      "text/plain": [
       "[10]"
      ]
     },
     "execution_count": 40,
     "metadata": {},
     "output_type": "execute_result"
    }
   ],
   "source": []
  },
  {
   "cell_type": "code",
   "execution_count": 27,
   "id": "f29d016d-7a78-4fc1-a35b-f93eab9bf582",
   "metadata": {
    "tags": []
   },
   "outputs": [
    {
     "name": "stderr",
     "output_type": "stream",
     "text": [
      "WARNING:matplotlib.image:Clipping input data to the valid range for imshow with RGB data ([0..1] for floats or [0..255] for integers).\n"
     ]
    },
    {
     "data": {
      "image/png": "[encoded data removed]",
      "text/plain": [
       "<Figure size 432x288 with 1 Axes>"
      ]
     },
     "metadata": {
      "needs_background": "light"
     },
     "output_type": "display_data"
    }
   ],
   "source": [
    "i = random.sample(range(b_size), 1)\n",
    "plt.imshow(fake[i][0].permute(1,2,0));"
   ]
  },
  {
   "cell_type": "code",
   "execution_count": 28,
   "id": "664221ee-97bb-4dea-819a-3ba83a21ec6e",
   "metadata": {},
   "outputs": [
    {
     "data": {
      "text/plain": [
       "torch.Size([3, 64, 64])"
      ]
     },
     "execution_count": 28,
     "metadata": {},
     "output_type": "execute_result"
    }
   ],
   "source": [
    "fake[i][0].shape"
   ]
  },
  {
   "cell_type": "code",
   "execution_count": 29,
   "id": "914ae28e-0256-47f3-89d1-566a71722eeb",
   "metadata": {},
   "outputs": [
    {
     "data": {
      "text/plain": [
       "torch.Size([64, 64, 3])"
      ]
     },
     "execution_count": 29,
     "metadata": {},
     "output_type": "execute_result"
    }
   ],
   "source": [
    "fake[i][0].permute(1,2,0).shape"
   ]
  },
  {
   "cell_type": "code",
   "execution_count": 30,
   "id": "244e413d-06ad-4195-be57-7a5bd97042f8",
   "metadata": {},
   "outputs": [],
   "source": [
    "save_image(fake[i][0], 'img1.png')"
   ]
  },
  {
   "cell_type": "code",
   "execution_count": 86,
   "id": "80c594f4-0922-4466-836f-aac812f2e40c",
   "metadata": {},
   "outputs": [
    {
     "data": {
      "text/plain": [
       "1"
      ]
     },
     "execution_count": 86,
     "metadata": {},
     "output_type": "execute_result"
    }
   ],
   "source": [
    "10%3"
   ]
  },
  {
   "cell_type": "code",
   "execution_count": null,
   "id": "e6424a26-73e4-4957-b511-5f5bbaee7722",
   "metadata": {},
   "outputs": [],
   "source": []
  }
 ],
 "metadata": {
  "kernelspec": {
   "display_name": "Python 3 (ipykernel)",
   "language": "python",
   "name": "python3"
  },
  "language_info": {
   "codemirror_mode": {
    "name": "ipython",
    "version": 3
   },
   "file_extension": ".py",
   "mimetype": "text/x-python",
   "name": "python",
   "nbconvert_exporter": "python",
   "pygments_lexer": "ipython3",
   "version": "3.9.12"
  }
 },
 "nbformat": 4,
 "nbformat_minor": 5
}
