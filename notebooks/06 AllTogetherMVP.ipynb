{
 "cells": [
  {
   "cell_type": "markdown",
   "id": "78ed4d44-87d9-4e9b-a9c4-3ff0651e763e",
   "metadata": {},
   "source": [
    "# Synthetic Cities MVP"
   ]
  },
  {
   "cell_type": "markdown",
   "id": "e522b63e-f94a-4cf0-bdb5-2734b7cf218d",
   "metadata": {},
   "source": [
    "here some exaplaination"
   ]
  },
  {
   "cell_type": "markdown",
   "id": "775f1534-ee2b-41e9-a742-bfe63a4b8022",
   "metadata": {},
   "source": [
    "## 1. Load Packages"
   ]
  },
  {
   "cell_type": "code",
   "execution_count": 2,
   "id": "a2507297-ff63-4d9d-94b3-d319838986be",
   "metadata": {},
   "outputs": [
    {
     "name": "stdout",
     "output_type": "stream",
     "text": [
      "Random Seed:  999\n",
      "The autoreload extension is already loaded. To reload it, use:\n",
      "  %reload_ext autoreload\n"
     ]
    },
    {
     "data": {
      "application/javascript": [
       "IPython.notebook.set_autosave_interval(0)"
      ]
     },
     "metadata": {},
     "output_type": "display_data"
    },
    {
     "name": "stdout",
     "output_type": "stream",
     "text": [
      "Autosave disabled\n"
     ]
    }
   ],
   "source": [
    "import argparse\n",
    "import random\n",
    "import numpy as np\n",
    "import logging\n",
    "import datetime\n",
    "\n",
    "import torch\n",
    "import torch.nn as nn\n",
    "# import torch.backends.cudnn as cudnn\n",
    "import torch.nn.functional as F\n",
    "import torch.optim as optim\n",
    "import torch.utils.data\n",
    "import torchvision.datasets as dset\n",
    "import torchvision.transforms as transforms\n",
    "import torchvision.utils as vutils\n",
    "\n",
    "import sys\n",
    "sys.path.append(\"../src/models/\")\n",
    "from Generator import OptGen\n",
    "\n",
    "import matplotlib.pyplot as plt\n",
    "import matplotlib.animation as animation\n",
    "%matplotlib inline\n",
    "\n",
    "from IPython.display import HTML\n",
    "\n",
    "import optuna\n",
    "from optuna.trial import TrialState\n",
    "\n",
    "import mlflow\n",
    "\n",
    "logging.basicConfig(filename='../reports/MVPOptimizer.log')\n",
    "\n",
    "manualSeed = 999\n",
    "# manualSeed = random.randint(1, 10000) # use if you want new results\n",
    "print(\"Random Seed: \", manualSeed)\n",
    "random.seed(manualSeed)\n",
    "torch.manual_seed(manualSeed)\n",
    "\n",
    "%load_ext autoreload\n",
    "%autoreload 2\n",
    "%autosave 0"
   ]
  },
  {
   "cell_type": "markdown",
   "id": "061d7c04-727f-483a-8628-1f9cc93931c3",
   "metadata": {},
   "source": [
    "# 2. Set parameters"
   ]
  },
  {
   "cell_type": "code",
   "execution_count": 3,
   "id": "2f1cd282-7dc8-42e9-a7fe-de5be3eb14f8",
   "metadata": {},
   "outputs": [],
   "source": [
    "dataroot = \"../data/cadastralExport\" # Root directory for train dataset\n",
    "datarootTest = \"../data/cadastralExport/\" # Root directory for dataset\n",
    "workers = 2 # Number of workers for dataloader\n",
    "batch_size = 128 # Batch size during training\n",
    "image_size = 64 # Spatial size of training images. All images will be resized to this\n",
    "nc = 3 # Number of channels in the training images. For color images this is 3\n",
    "nz = 100 # Size of z latent vector (i.e. size of generator input)\n",
    "ngf = 64 # Size of feature maps in generator\n",
    "ndf = 64 # Size of feature maps in discriminator\n",
    "num_epochs = 50 # Number of training epochs\n",
    "lr = 0.0002 # Learning rate for optimizers\n",
    "beta1 = 0.5 # Beta1 hyperparam for Adam optimizers\n",
    "ngpu = torch.cuda.device_count() # Number of GPUs available. Use 0 for CPU mode.\n",
    "# Decide which device we want to run on\n",
    "device = torch.device(\"cuda:0\" if (torch.cuda.is_available() and ngpu > 0) else \"cpu\")"
   ]
  },
  {
   "cell_type": "markdown",
   "id": "0586658f-da3f-41a2-809a-5b6ef194807f",
   "metadata": {},
   "source": [
    "## 3. Create Dataloader"
   ]
  },
  {
   "cell_type": "code",
   "execution_count": null,
   "id": "5a4352df-748f-4dfd-9cd5-f8b91bda7c8c",
   "metadata": {},
   "outputs": [],
   "source": [
    "# We can use an image folder dataset the way we have it setup.\n",
    "dataset = dset.ImageFolder(root=dataroot,\n",
    "                           transform=transforms.Compose([\n",
    "                               # transforms.Resize(image_size*4),\n",
    "                               transforms.RandomCrop(image_size),\n",
    "                               transforms.ToTensor(),\n",
    "                               transforms.Normalize((0.5, 0.5, 0.5), (0.5, 0.5, 0.5)),\n",
    "                           ]))\n",
    "# Create the dataloader\n",
    "dataloader = torch.utils.data.DataLoader(dataset, batch_size=batch_size,\n",
    "                                         shuffle=True, num_workers=workers)\n",
    "\n",
    "# Plot some training images\n",
    "real_batch = next(iter(dataloader))\n",
    "plt.figure(figsize=(8,8))\n",
    "plt.axis(\"off\")\n",
    "plt.title(\"Training Images\")\n",
    "plt.imshow(np.transpose(vutils.make_grid(real_batch[0].to(device)[:64], padding=2, normalize=True).cpu(),(1,2,0)));"
   ]
  },
  {
   "cell_type": "markdown",
   "id": "74e8b515-0267-4fec-99e9-ac16e7c49940",
   "metadata": {},
   "source": [
    "### WARNING: only a small part of data is loaded"
   ]
  },
  {
   "cell_type": "code",
   "execution_count": null,
   "id": "c1c1f3ce-f583-4adb-b5a5-3251228625c5",
   "metadata": {},
   "outputs": [],
   "source": [
    "dataset"
   ]
  },
  {
   "cell_type": "code",
   "execution_count": null,
   "id": "4c07f9a1-76d7-49de-9cef-1e2e3a631adf",
   "metadata": {},
   "outputs": [],
   "source": [
    "from os import listdir\n",
    "from os.path import isfile, join\n",
    "onlyfiles = [f for f in listdir(dataroot) if isfile(join(dataroot, f))]\n",
    "len(onlyfiles)"
   ]
  },
  {
   "cell_type": "markdown",
   "id": "d76deb9c-673d-47ed-a4e6-155d05d64a6d",
   "metadata": {},
   "source": [
    "## 4. Weight Initialization "
   ]
  },
  {
   "cell_type": "code",
   "execution_count": null,
   "id": "f07139cb-fde0-49bb-9c9b-7c42878e8e50",
   "metadata": {},
   "outputs": [],
   "source": [
    "def weights_init(m):\n",
    "    classname = m.__class__.__name__\n",
    "    if classname.find('Conv') != -1:\n",
    "        nn.init.normal_(m.weight.data, 0.0, 0.02)\n",
    "    elif classname.find('BatchNorm') != -1:\n",
    "        nn.init.normal_(m.weight.data, 1.0, 0.02) # fills the weights? gamma param with normal distribution\n",
    "        nn.init.constant_(m.bias.data, 0) # fills the bias with the constant 0"
   ]
  },
  {
   "cell_type": "markdown",
   "id": "84304528-9211-4a52-a9c8-2391375be7e2",
   "metadata": {},
   "source": [
    "## 5. Import Generator"
   ]
  },
  {
   "cell_type": "code",
   "execution_count": null,
   "id": "2522aca2-34c8-42ac-abd5-dc7716ca808f",
   "metadata": {},
   "outputs": [],
   "source": [
    "n_covs = random.randint(3,6)\n",
    "drop_convs2d = random.uniform(0.4,0.6)\n",
    "\n",
    "GNet = OptGen(ngpu, n_covs, drop_convs2d).to(device)\n",
    "# no data parallelization needed, since there is one gpu\n",
    "GNet.apply(weights_init)\n",
    "print(GNet)"
   ]
  },
  {
   "cell_type": "markdown",
   "id": "39710d04-d58f-4f81-a3cc-22c7d9ddaa5f",
   "metadata": {},
   "source": [
    "## 6. Discriminator"
   ]
  },
  {
   "cell_type": "code",
   "execution_count": null,
   "id": "ef2bef0c-f8db-4039-889f-38ff81668eea",
   "metadata": {},
   "outputs": [],
   "source": [
    "s = [10, 9, 87, 5 ,8]\n",
    "np.round(np.mean(s),0\n",
    "        )"
   ]
  },
  {
   "cell_type": "code",
   "execution_count": null,
   "id": "4830e0fe-fe9c-4f67-b413-a48717870102",
   "metadata": {},
   "outputs": [],
   "source": [
    "np.clip(10,9,10)"
   ]
  },
  {
   "cell_type": "code",
   "execution_count": null,
   "id": "a9d28559-78d8-4ba3-9cf8-d95a4d1c016e",
   "metadata": {},
   "outputs": [],
   "source": []
  },
  {
   "cell_type": "code",
   "execution_count": null,
   "id": "038c51c0-3816-4874-ae49-0e06483774cd",
   "metadata": {},
   "outputs": [],
   "source": []
  },
  {
   "cell_type": "code",
   "execution_count": null,
   "id": "b2108cf3-a48d-43b0-b3f3-e07d0fb08839",
   "metadata": {},
   "outputs": [],
   "source": []
  },
  {
   "cell_type": "code",
   "execution_count": null,
   "id": "5d8823a9-5e51-4e8a-b832-60f39f9c505f",
   "metadata": {},
   "outputs": [],
   "source": []
  }
 ],
 "metadata": {
  "kernelspec": {
   "display_name": "Python 3 (ipykernel)",
   "language": "python",
   "name": "python3"
  },
  "language_info": {
   "codemirror_mode": {
    "name": "ipython",
    "version": 3
   },
   "file_extension": ".py",
   "mimetype": "text/x-python",
   "name": "python",
   "nbconvert_exporter": "python",
   "pygments_lexer": "ipython3",
   "version": "3.9.12"
  }
 },
 "nbformat": 4,
 "nbformat_minor": 5
}
