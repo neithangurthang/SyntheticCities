{
 "cells": [
  {
   "cell_type": "markdown",
   "id": "83ef34c0-5b7d-4596-90ee-018f11256298",
   "metadata": {},
   "source": [
    "# 1. Import Libaries"
   ]
  },
  {
   "cell_type": "code",
   "execution_count": 1,
   "id": "d0125a70-c3fe-4236-bcbf-e3badb8b6f74",
   "metadata": {},
   "outputs": [],
   "source": [
    "import os\n",
    "import shutil\n",
    "import sys\n",
    "import numpy as np\n",
    "if os.getcwd().split('/')[-1] == 'notebooks':\n",
    "    os.chdir('../')\n",
    "\n",
    "import torch\n",
    "import torch.nn as nn\n",
    "from torch.utils.data import DataLoader\n",
    "import torchvision.datasets as dset\n",
    "from torchvision import transforms\n",
    "from torch import autograd\n",
    "import torch.optim as optim\n",
    "import torchvision.utils as vutils # draw bounding box, segmantation mask, keypoints. convert to rgb, make grid, save_image\n",
    "\n",
    "import matplotlib.pyplot as plt\n",
    "import seaborn as sns\n",
    "from sklearn.manifold import TSNE\n",
    "\n",
    "# import ignite\n",
    "# import ignite.distributed as idist\n",
    "# from ignite.metrics import FID, InceptionScore, RunningAverage\n",
    "# from ignite.contrib.handlers import ProgressBar\n",
    "# from ignite.engine import Engine, Events\n",
    "# from ignite.handlers import *\n",
    "import PIL.Image as Image\n",
    "\n",
    "from src.utils import geometric_score as gs\n",
    "\n",
    "%matplotlib inline\n",
    "\n",
    "%load_ext autoreload\n",
    "%autoreload 2"
   ]
  },
  {
   "cell_type": "code",
   "execution_count": 2,
   "id": "60afa015-cf10-4b98-8ab7-05ee5016d284",
   "metadata": {},
   "outputs": [],
   "source": [
    "DATAROOT = \"./data/cadastralExportRGB/train/\"  # root directory for dataset\n",
    "MODEL = \"dcgan_embeddings\"\n",
    "WORKERS = 4  # number of workers for dataloader\n",
    "BATCH_SIZE = 2000  # batch size during training\n",
    "IMG_SIZE = 300  # spatial size of training images (to be resized to)\n",
    "MULT = 3.15  # re-size factor: 11 if resolution is 64 x 64, 3.15 if resolution is 300 x 300\n",
    "NC = 3  # number of entities aka channels in the training images\n",
    "NZ = 512  # size of noise vector (i.e. size of generator input)\n",
    "NGF = 32  # base size of feature maps in generator\n",
    "NDF = 32  # base size of feature maps in discriminator\n",
    "NUM_EPOCHS = 1000  # number of training epochs\n",
    "LR = 1e-2  # learning rate for both optimizers\n",
    "DEVICE = 'cpu'\n",
    "# DEVICE = torch.device(\"cuda:0\" if (torch.cuda.is_available()) else \"cpu\")  # which device to run on"
   ]
  },
  {
   "cell_type": "code",
   "execution_count": 3,
   "id": "f38c1e68-6f3c-4613-94ca-64a2b16e975d",
   "metadata": {},
   "outputs": [],
   "source": [
    "x_true = torch.load('./data/test.pkl')\n",
    "dataloader = torch.utils.data.DataLoader(x_true, batch_size=BATCH_SIZE, \n",
    "                                             shuffle=True, num_workers=4, drop_last=True)\n",
    "x_true = next(iter(dataloader))\n",
    "x_true = x_true[0].to(DEVICE)"
   ]
  },
  {
   "cell_type": "code",
   "execution_count": 4,
   "id": "fa656094-9a3b-4c8a-8b68-396859d6d397",
   "metadata": {},
   "outputs": [],
   "source": [
    "netG = torch.load(f'./models/netG_{MODEL}.pkl').to(DEVICE)\n",
    "netD = torch.load(f'./models/netD_{MODEL}.pkl').to(DEVICE)\n",
    "fixed_noise = torch.randn(2000, NZ, 1, 1, device=DEVICE)\n",
    "x_pred = netG(fixed_noise)\n",
    "y_pred = netD(x_pred)\n",
    "y_true = netD(x_true)"
   ]
  },
  {
   "cell_type": "code",
   "execution_count": 5,
   "id": "b5dc7515-c428-42c1-90c2-f05992b46c90",
   "metadata": {},
   "outputs": [
    {
     "data": {
      "text/plain": [
       "torch.Size([2000, 1, 32, 32])"
      ]
     },
     "execution_count": 5,
     "metadata": {},
     "output_type": "execute_result"
    }
   ],
   "source": [
    "y_pred.shape"
   ]
  },
  {
   "cell_type": "markdown",
   "id": "83265476-d326-47eb-879f-6680066e8981",
   "metadata": {},
   "source": [
    "Random generator"
   ]
  },
  {
   "cell_type": "code",
   "execution_count": 4,
   "id": "89732d58-63ed-494a-9248-5023a1306f01",
   "metadata": {},
   "outputs": [],
   "source": [
    "class Generator(nn.Module):\n",
    "    def __init__(self, nz, nc, ngf, drop_rate):\n",
    "        super(Generator, self).__init__()\n",
    "        self.softmax = nn.Softmax(dim=1)\n",
    "        self.main = nn.Sequential(\n",
    "            nn.ConvTranspose2d(in_channels=nz, out_channels=ngf * 8, kernel_size=2, stride=1, \n",
    "                               padding=0, bias=False),\n",
    "            nn.Dropout2d(p=drop_rate),\n",
    "            nn.BatchNorm2d(ngf * 8),\n",
    "            nn.LeakyReLU(0.2, inplace=True),\n",
    "            nn.ConvTranspose2d(in_channels=ngf * 8, out_channels=ngf * 4, kernel_size=4, stride=2, \n",
    "                               padding=0, bias=False),\n",
    "            nn.Dropout2d(p=drop_rate),\n",
    "            nn.BatchNorm2d(ngf * 4),\n",
    "            nn.LeakyReLU(0.2, inplace=True),\n",
    "            nn.ConvTranspose2d(in_channels=ngf * 4, out_channels=ngf * 2, kernel_size=5, stride=3, \n",
    "                               padding=1, bias=False),\n",
    "            nn.Dropout2d(p=drop_rate),\n",
    "            nn.BatchNorm2d(ngf * 2),\n",
    "            nn.LeakyReLU(0.2, inplace=True),\n",
    "            nn.ConvTranspose2d(in_channels=ngf * 2, out_channels=ngf, kernel_size=6, stride=4, \n",
    "                               padding=0, bias=False),\n",
    "            nn.Dropout2d(p=drop_rate),\n",
    "            nn.BatchNorm2d(ngf),\n",
    "            nn.LeakyReLU(0.2, inplace=True),\n",
    "            nn.ConvTranspose2d(in_channels=ngf, out_channels=nc, kernel_size=12, stride=4, \n",
    "                               padding=2, bias=False)\n",
    "        )\n",
    "    \n",
    "    def forward(self, input_):\n",
    "        input_ = self.main(input_)\n",
    "        return self.softmax(input_)\n",
    "    \n",
    "# custom weights initialization called on ``netG`` and ``netD``\n",
    "def weights_init(m):\n",
    "    classname = m.__class__.__name__\n",
    "    if classname.find('Conv') != -1:\n",
    "        nn.init.normal_(m.weight.data, 0.0, 0.02)\n",
    "    elif classname.find('BatchNorm') != -1:\n",
    "        nn.init.normal_(m.weight.data, 1.0, 0.02)\n",
    "        nn.init.constant_(m.bias.data, 0)"
   ]
  },
  {
   "cell_type": "code",
   "execution_count": 5,
   "id": "a2149b11-43bd-4086-9e51-3cbad81f1a42",
   "metadata": {},
   "outputs": [
    {
     "name": "stdout",
     "output_type": "stream",
     "text": [
      "Generator(\n",
      "  (softmax): Softmax(dim=1)\n",
      "  (main): Sequential(\n",
      "    (0): ConvTranspose2d(100, 256, kernel_size=(2, 2), stride=(1, 1), bias=False)\n",
      "    (1): Dropout2d(p=0.05, inplace=False)\n",
      "    (2): BatchNorm2d(256, eps=1e-05, momentum=0.1, affine=True, track_running_stats=True)\n",
      "    (3): LeakyReLU(negative_slope=0.2, inplace=True)\n",
      "    (4): ConvTranspose2d(256, 128, kernel_size=(4, 4), stride=(2, 2), bias=False)\n",
      "    (5): Dropout2d(p=0.05, inplace=False)\n",
      "    (6): BatchNorm2d(128, eps=1e-05, momentum=0.1, affine=True, track_running_stats=True)\n",
      "    (7): LeakyReLU(negative_slope=0.2, inplace=True)\n",
      "    (8): ConvTranspose2d(128, 64, kernel_size=(5, 5), stride=(3, 3), padding=(1, 1), bias=False)\n",
      "    (9): Dropout2d(p=0.05, inplace=False)\n",
      "    (10): BatchNorm2d(64, eps=1e-05, momentum=0.1, affine=True, track_running_stats=True)\n",
      "    (11): LeakyReLU(negative_slope=0.2, inplace=True)\n",
      "    (12): ConvTranspose2d(64, 32, kernel_size=(6, 6), stride=(4, 4), bias=False)\n",
      "    (13): Dropout2d(p=0.05, inplace=False)\n",
      "    (14): BatchNorm2d(32, eps=1e-05, momentum=0.1, affine=True, track_running_stats=True)\n",
      "    (15): LeakyReLU(negative_slope=0.2, inplace=True)\n",
      "    (16): ConvTranspose2d(32, 3, kernel_size=(12, 12), stride=(4, 4), padding=(2, 2), bias=False)\n",
      "  )\n",
      ")\n"
     ]
    }
   ],
   "source": [
    "# Create the generator\n",
    "netG = Generator(NZ, NC, NGF, 0.05).to(DEVICE)\n",
    "# netG = torch.load('./models/netG.pkl').to('cpu')\n",
    "\n",
    "# # Handle multi-GPU if desired\n",
    "# if (device.type == 'cuda') and (ngpu > 1):\n",
    "#     netG = nn.DataParallel(netG, list(range(ngpu)))\n",
    "\n",
    "# Apply the ``weights_init`` function to randomly initialize all weights\n",
    "#  to ``mean=0``, ``stdev=0.02``.\n",
    "netG.apply(weights_init)\n",
    "\n",
    "# Print the model\n",
    "print(netG)"
   ]
  },
  {
   "cell_type": "code",
   "execution_count": 7,
   "id": "9b5fabaa-2a8b-4bbc-9b3f-67d0da0d41a8",
   "metadata": {},
   "outputs": [],
   "source": [
    "fixed_noise = torch.randn(2000, NZ, 1, 1, device=DEVICE)\n",
    "x_pred = netG(fixed_noise)"
   ]
  },
  {
   "cell_type": "markdown",
   "id": "654fe254-97cc-403b-aa64-098b53937141",
   "metadata": {},
   "source": [
    "# Calculating Geometric Score"
   ]
  },
  {
   "cell_type": "markdown",
   "id": "246579a2-9d49-4316-8ea8-363a7b3ad2a4",
   "metadata": {},
   "source": [
    "Implementation: https://github.com/KhrulkovV/geometry-score"
   ]
  },
  {
   "cell_type": "code",
   "execution_count": null,
   "id": "c1f561d6-0d3e-43a2-bf40-999206afd2e4",
   "metadata": {},
   "outputs": [],
   "source": [
    "geom_score = []\n",
    "for i in [0, 2]:\n",
    "    rltx = gs.rlts(x_true[:, i, :, :].view(BATCH_SIZE, -1).numpy(), n=100, L_0=32, i_max=10, gamma=1.0/8)\n",
    "    # print(f\"Score for {i}-th layer in true images: {rltx}\")\n",
    "    rlty = gs.rlts(x_pred[:, i, :, :].view(BATCH_SIZE, -1).cpu().detach().numpy(), n=100, L_0=32, i_max=10, gamma=1.0/8)\n",
    "    # print(f\"Score for {i}-th layer in fake images: {rlty}\")\n",
    "    geom_score.append(gs.geom_score(rltx, rlty))\n",
    "local_score = sum(geom_score) / 2\n",
    "rltx = gs.rlts(x_true[:, 1, :, :].view(BATCH_SIZE, -1).numpy(), n=100, L_0=32, i_max=10, gamma=1.0/8)\n",
    "# print(f\"Score for {i}-th layer in true images: {rltx}\")\n",
    "rlty = gs.rlts(x_pred[:, 1, :, :].view(BATCH_SIZE, -1).cpu().detach().numpy(), n=100, L_0=32, i_max=10, gamma=1.0/8)\n",
    "# print(f\"Score for {i}-th layer in fake images: {rlty}\")\n",
    "global_score = gs.geom_score(rltx, rlty)\n",
    "total_score = (local_score + global_score) / 2"
   ]
  },
  {
   "cell_type": "markdown",
   "id": "16c80f95-3752-462a-ba9e-5d4ddb17096a",
   "metadata": {},
   "source": [
    "# t-SNE of embeddings"
   ]
  },
  {
   "cell_type": "code",
   "execution_count": null,
   "id": "5ca73b2f-19f3-46a7-ac43-dd601acbe35f",
   "metadata": {},
   "outputs": [],
   "source": [
    "tsne = TSNE(n_components=2, verbose=1, random_state=123)\n",
    "z = tsne.fit_transform(x) "
   ]
  },
  {
   "cell_type": "code",
   "execution_count": null,
   "id": "6e7195db-e1b2-4ae8-a011-b85d71e83e8a",
   "metadata": {},
   "outputs": [],
   "source": []
  }
 ],
 "metadata": {
  "kernelspec": {
   "display_name": "Python 3 (ipykernel)",
   "language": "python",
   "name": "python3"
  },
  "language_info": {
   "codemirror_mode": {
    "name": "ipython",
    "version": 3
   },
   "file_extension": ".py",
   "mimetype": "text/x-python",
   "name": "python",
   "nbconvert_exporter": "python",
   "pygments_lexer": "ipython3",
   "version": "3.9.13"
  }
 },
 "nbformat": 4,
 "nbformat_minor": 5
}
