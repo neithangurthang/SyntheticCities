{
 "cells": [
  {
   "cell_type": "markdown",
   "id": "57649327-6522-49a7-a671-df9e2d034592",
   "metadata": {},
   "source": [
    "# Data Preparation"
   ]
  },
  {
   "cell_type": "code",
   "execution_count": 5,
   "id": "16661cf8-c02a-4df4-819f-7317a24ac716",
   "metadata": {},
   "outputs": [
    {
     "name": "stdout",
     "output_type": "stream",
     "text": [
      "The autoreload extension is already loaded. To reload it, use:\n",
      "  %reload_ext autoreload\n"
     ]
    }
   ],
   "source": [
    "import pandas as pd\n",
    "import numpy as np\n",
    "import geopandas as gpd\n",
    "import fiona\n",
    "from shapely.geometry import Polygon\n",
    "import matplotlib.pyplot as plt\n",
    "import matplotlib as mpl\n",
    "\n",
    "%load_ext autoreload\n",
    "%autoreload 2\n",
    "%matplotlib inline"
   ]
  },
  {
   "cell_type": "code",
   "execution_count": 4,
   "id": "ced1939b-576e-4316-ba7b-4653600a45ca",
   "metadata": {
    "tags": []
   },
   "outputs": [
    {
     "data": {
      "text/plain": [
       "['cppt',\n",
       " 'dprsf',\n",
       " 'dprsfproj',\n",
       " 'hadr',\n",
       " 'lcobj',\n",
       " 'lcsf',\n",
       " 'lcsfproj',\n",
       " 'lnna',\n",
       " 'locpos',\n",
       " 'mbsf',\n",
       " 'osbp',\n",
       " 'osnr',\n",
       " 'osnrproj',\n",
       " 'plli',\n",
       " 'plna',\n",
       " 'plsf',\n",
       " 'resf',\n",
       " 'resfhl',\n",
       " 'resfproj',\n",
       " 'slide',\n",
       " 'slideobj',\n",
       " 'soli',\n",
       " 'soobj',\n",
       " 'sopt',\n",
       " 'sosf',\n",
       " 'tbbp',\n",
       " 'tbli']"
      ]
     },
     "execution_count": 4,
     "metadata": {},
     "output_type": "execute_result"
    }
   ],
   "source": [
    "src = \"../data/zg_av_lv95.gpkg\"\n",
    "fiona.listlayers(src)"
   ]
  },
  {
   "cell_type": "code",
   "execution_count": 6,
   "id": "f2d65c02-4177-4ba4-a59a-fe790b1bddff",
   "metadata": {},
   "outputs": [],
   "source": [
    "zur = gpd.read_file(\"../data/zh_av_lv95.gpkg\", layer='lcsf')"
   ]
  },
  {
   "cell_type": "code",
   "execution_count": 7,
   "id": "5b34ba0e-fdac-4283-b8ea-d28fd7719ab8",
   "metadata": {},
   "outputs": [],
   "source": [
    "zug = gpd.read_file(src, layer='lcsf')\n",
    "# zug.plot(figsize=(16,8))"
   ]
  },
  {
   "cell_type": "code",
   "execution_count": 6,
   "id": "8935fde5-e4f3-4084-be9e-6080074ee139",
   "metadata": {},
   "outputs": [],
   "source": [
    "minX, minY, maxX, maxY = zug.total_bounds"
   ]
  },
  {
   "cell_type": "code",
   "execution_count": 7,
   "id": "4f9d6052-5479-42c8-81ac-20eaecb8a2e8",
   "metadata": {},
   "outputs": [
    {
     "data": {
      "text/plain": [
       "<Derived Projected CRS: EPSG:2056>\n",
       "Name: CH1903+ / LV95\n",
       "Axis Info [cartesian]:\n",
       "- E[east]: Easting (metre)\n",
       "- N[north]: Northing (metre)\n",
       "Area of Use:\n",
       "- name: Liechtenstein; Switzerland.\n",
       "- bounds: (5.96, 45.82, 10.49, 47.81)\n",
       "Coordinate Operation:\n",
       "- name: Swiss Oblique Mercator 1995\n",
       "- method: Hotine Oblique Mercator (variant B)\n",
       "Datum: CH1903+\n",
       "- Ellipsoid: Bessel 1841\n",
       "- Prime Meridian: Greenwich"
      ]
     },
     "execution_count": 7,
     "metadata": {},
     "output_type": "execute_result"
    }
   ],
   "source": [
    "zug.crs"
   ]
  },
  {
   "cell_type": "code",
   "execution_count": 8,
   "id": "203ecfba-44b4-4b41-9a15-9007fd15ff50",
   "metadata": {},
   "outputs": [
    {
     "data": {
      "text/plain": [
       "23331.305999999866"
      ]
     },
     "execution_count": 8,
     "metadata": {},
     "output_type": "execute_result"
    }
   ],
   "source": [
    "maxX-minX"
   ]
  },
  {
   "cell_type": "code",
   "execution_count": 9,
   "id": "e104a5c7-a658-4fa8-9f3b-3f6a157093d4",
   "metadata": {},
   "outputs": [
    {
     "data": {
      "text/plain": [
       "18445.216999999946"
      ]
     },
     "execution_count": 9,
     "metadata": {},
     "output_type": "execute_result"
    }
   ],
   "source": [
    "maxY-minY"
   ]
  },
  {
   "cell_type": "markdown",
   "id": "47753184-c2fb-4fa2-9182-1dc2bbedd922",
   "metadata": {},
   "source": [
    "# Manipulation and Export"
   ]
  },
  {
   "cell_type": "code",
   "execution_count": 8,
   "id": "f0b33281-dc20-4a00-88af-c385a30eb01e",
   "metadata": {},
   "outputs": [],
   "source": [
    "colMap = {'edificio':'k', \n",
    "          'altro_rivestimento_duro':'w', \n",
    "          'giardino':'dimgray', \n",
    "          'marciapiede':'w',\n",
    "          'campo_prato_pascolo':'dimgray',\n",
    "          'altro_humus':'dimgray',\n",
    "          'vigna':'dimgray',\n",
    "          'ferrovia': 'dimgray',\n",
    "          'bosco_fitto': 'dimgray', \n",
    "          'bacino_idrico': 'dimgray', \n",
    "          'spartitraffico':'w', \n",
    "          'corso_acqua':'dimgray',\n",
    "          'specchio_acqua':'dimgray', \n",
    "          'strada_sentiero':'w',\n",
    "          'pietraia_sabbia':'dimgray',\n",
    "          'torbiera': 'dimgray',\n",
    "          'altra_coltura_intensiva': 'dimgray',\n",
    "          'altro_bosco': 'dimgray',\n",
    "          'cava_di_ghiaia_discarica': 'dimgray',\n",
    "          'pascolo_boscato_fitto': 'dimgray',\n",
    "          'canneti': 'dimgray',\n",
    "          'roccia': 'dimgray',\n",
    "          'bacino_idrico': 'dimgray',\n",
    "          'specchio_acqua': 'dimgray'\n",
    "         }"
   ]
  },
  {
   "cell_type": "code",
   "execution_count": 9,
   "id": "bccbd1d0-922f-4885-ac33-ec9ccc7de5c7",
   "metadata": {},
   "outputs": [],
   "source": [
    "def cutAndprint(geometries, step, path):\n",
    "    minX, minY, maxX, maxY = geometries.total_bounds\n",
    "    repsX, repsY= int((maxX-minX)/step), int((maxY-minY)/step)\n",
    "    for x in range(repsX):#range(1):\n",
    "        for y in range(repsY): #range(1):\n",
    "            box = gpd.GeoSeries([Polygon([(minX + (x+0) * step, minY + (y+0) * step),\n",
    "                                         (minX + (x+1) * step, minY + (y+0) * step),\n",
    "                                         (minX + (x+1) * step, minY + (y+1) * step),\n",
    "                                         (minX + (x+0) * step, minY + (y+1) * step)])\n",
    "                                      ],)\n",
    "            boxGDF = gpd.GeoDataFrame.from_features(box)\n",
    "            boxGDF = boxGDF.set_crs('EPSG:2056')\n",
    "            res = gpd.sjoin(geometries, boxGDF, how='inner', predicate='intersects')\n",
    "            res['col']= res['Genere'].map(colMap)\n",
    "            nObjs = res.shape[0]\n",
    "            nBld = res[res.Genere == 'edificio'].shape[0]\n",
    "            \n",
    "            # PLOT\n",
    "            resolution = 72 # in dpi\n",
    "            plt.ioff() # turns off interactive plotting\n",
    "            if (nObjs > 100) and (nBld>10): # only interesting plots\n",
    "                filename = path + 'CadastralX' + str(int(minX+x*step)) + 'Y' + str(int(minY+y*step)) + 'S' + str(step) + \".png\" \n",
    "                #larger size, to use the crop in the dataloader\n",
    "                res_multiplier = 20\n",
    "                fig, ax = plt.subplots(figsize=(res_multiplier*64/resolution,res_multiplier*64/resolution), dpi=resolution, frameon=False)\n",
    "                ax = plt.axes([0,0,1,1], frameon=False)\n",
    "                ax.get_xaxis().set_visible(False)\n",
    "                ax.get_yaxis().set_visible(False)\n",
    "                plt.autoscale(tight=True)\n",
    "                mpl.rcParams['savefig.pad_inches'] = 0\n",
    "                \n",
    "                ax.set_xlim(boxGDF.bounds['minx'].item(), boxGDF.bounds['maxx'].item())\n",
    "                ax.set_ylim(boxGDF.bounds['miny'].item(), boxGDF.bounds['maxy'].item())\n",
    "                res.plot(ax=ax, color=res['col'])\n",
    "                plt.savefig(filename)\n",
    "                plt.close(fig)\n",
    "                # EXPORT CSV INSTEAD OF IMAGE WITH XCOORD, YCOORD, REWARD\n",
    "            \n",
    "            # print(\"Geometries in raster: {} | Box: X({}, {}), Y({}, {})\".format(res.shape[0],\n",
    "            #      box.total_bounds[0], box.total_bounds[2], \n",
    "            #      box.total_bounds[1], box.total_bounds[3]))"
   ]
  },
  {
   "cell_type": "code",
   "execution_count": 11,
   "id": "49f58822-b463-4490-86a8-02ac1bc73865",
   "metadata": {},
   "outputs": [],
   "source": [
    "path = '../data/cadastralExport/'"
   ]
  },
  {
   "cell_type": "code",
   "execution_count": null,
   "id": "761fc58d-8cd1-4168-ab7d-e84cf0312d6c",
   "metadata": {
    "tags": []
   },
   "outputs": [],
   "source": [
    "%%time\n",
    "cutAndprint(zug, 250, path+'test/')"
   ]
  },
  {
   "cell_type": "code",
   "execution_count": 12,
   "id": "94d485da-dc88-4c95-af4e-8ada850a8964",
   "metadata": {},
   "outputs": [
    {
     "ename": "ValueError",
     "evalue": "Invalid RGBA argument: nan",
     "output_type": "error",
     "traceback": [
      "\u001b[0;31m---------------------------------------------------------------------------\u001b[0m",
      "\u001b[0;31mValueError\u001b[0m                                Traceback (most recent call last)",
      "File \u001b[0;32m<timed eval>:1\u001b[0m, in \u001b[0;36m<module>\u001b[0;34m\u001b[0m\n",
      "Input \u001b[0;32mIn [9]\u001b[0m, in \u001b[0;36mcutAndprint\u001b[0;34m(geometries, step, path)\u001b[0m\n\u001b[1;32m     32\u001b[0m ax\u001b[38;5;241m.\u001b[39mset_xlim(boxGDF\u001b[38;5;241m.\u001b[39mbounds[\u001b[38;5;124m'\u001b[39m\u001b[38;5;124mminx\u001b[39m\u001b[38;5;124m'\u001b[39m]\u001b[38;5;241m.\u001b[39mitem(), boxGDF\u001b[38;5;241m.\u001b[39mbounds[\u001b[38;5;124m'\u001b[39m\u001b[38;5;124mmaxx\u001b[39m\u001b[38;5;124m'\u001b[39m]\u001b[38;5;241m.\u001b[39mitem())\n\u001b[1;32m     33\u001b[0m ax\u001b[38;5;241m.\u001b[39mset_ylim(boxGDF\u001b[38;5;241m.\u001b[39mbounds[\u001b[38;5;124m'\u001b[39m\u001b[38;5;124mminy\u001b[39m\u001b[38;5;124m'\u001b[39m]\u001b[38;5;241m.\u001b[39mitem(), boxGDF\u001b[38;5;241m.\u001b[39mbounds[\u001b[38;5;124m'\u001b[39m\u001b[38;5;124mmaxy\u001b[39m\u001b[38;5;124m'\u001b[39m]\u001b[38;5;241m.\u001b[39mitem())\n\u001b[0;32m---> 34\u001b[0m \u001b[43mres\u001b[49m\u001b[38;5;241;43m.\u001b[39;49m\u001b[43mplot\u001b[49m\u001b[43m(\u001b[49m\u001b[43max\u001b[49m\u001b[38;5;241;43m=\u001b[39;49m\u001b[43max\u001b[49m\u001b[43m,\u001b[49m\u001b[43m \u001b[49m\u001b[43mcolor\u001b[49m\u001b[38;5;241;43m=\u001b[39;49m\u001b[43mres\u001b[49m\u001b[43m[\u001b[49m\u001b[38;5;124;43m'\u001b[39;49m\u001b[38;5;124;43mcol\u001b[39;49m\u001b[38;5;124;43m'\u001b[39;49m\u001b[43m]\u001b[49m\u001b[43m)\u001b[49m\n\u001b[1;32m     35\u001b[0m plt\u001b[38;5;241m.\u001b[39msavefig(filename)\n\u001b[1;32m     36\u001b[0m plt\u001b[38;5;241m.\u001b[39mclose(fig)\n",
      "File \u001b[0;32m/opt/anaconda3/lib/python3.9/site-packages/geopandas/plotting.py:968\u001b[0m, in \u001b[0;36mGeoplotAccessor.__call__\u001b[0;34m(self, *args, **kwargs)\u001b[0m\n\u001b[1;32m    966\u001b[0m kind \u001b[38;5;241m=\u001b[39m kwargs\u001b[38;5;241m.\u001b[39mpop(\u001b[38;5;124m\"\u001b[39m\u001b[38;5;124mkind\u001b[39m\u001b[38;5;124m\"\u001b[39m, \u001b[38;5;124m\"\u001b[39m\u001b[38;5;124mgeo\u001b[39m\u001b[38;5;124m\"\u001b[39m)\n\u001b[1;32m    967\u001b[0m \u001b[38;5;28;01mif\u001b[39;00m kind \u001b[38;5;241m==\u001b[39m \u001b[38;5;124m\"\u001b[39m\u001b[38;5;124mgeo\u001b[39m\u001b[38;5;124m\"\u001b[39m:\n\u001b[0;32m--> 968\u001b[0m     \u001b[38;5;28;01mreturn\u001b[39;00m \u001b[43mplot_dataframe\u001b[49m\u001b[43m(\u001b[49m\u001b[43mdata\u001b[49m\u001b[43m,\u001b[49m\u001b[43m \u001b[49m\u001b[38;5;241;43m*\u001b[39;49m\u001b[43margs\u001b[49m\u001b[43m,\u001b[49m\u001b[43m \u001b[49m\u001b[38;5;241;43m*\u001b[39;49m\u001b[38;5;241;43m*\u001b[39;49m\u001b[43mkwargs\u001b[49m\u001b[43m)\u001b[49m\n\u001b[1;32m    969\u001b[0m \u001b[38;5;28;01mif\u001b[39;00m kind \u001b[38;5;129;01min\u001b[39;00m \u001b[38;5;28mself\u001b[39m\u001b[38;5;241m.\u001b[39m_pandas_kinds:\n\u001b[1;32m    970\u001b[0m     \u001b[38;5;66;03m# Access pandas plots\u001b[39;00m\n\u001b[1;32m    971\u001b[0m     \u001b[38;5;28;01mreturn\u001b[39;00m PlotAccessor(data)(kind\u001b[38;5;241m=\u001b[39mkind, \u001b[38;5;241m*\u001b[39m\u001b[38;5;241m*\u001b[39mkwargs)\n",
      "File \u001b[0;32m/opt/anaconda3/lib/python3.9/site-packages/geopandas/plotting.py:704\u001b[0m, in \u001b[0;36mplot_dataframe\u001b[0;34m(df, column, cmap, color, ax, cax, categorical, legend, scheme, k, vmin, vmax, markersize, figsize, legend_kwds, categories, classification_kwds, missing_kwds, aspect, **style_kwds)\u001b[0m\n\u001b[1;32m    701\u001b[0m     markersize \u001b[38;5;241m=\u001b[39m df[markersize]\u001b[38;5;241m.\u001b[39mvalues\n\u001b[1;32m    703\u001b[0m \u001b[38;5;28;01mif\u001b[39;00m column \u001b[38;5;129;01mis\u001b[39;00m \u001b[38;5;28;01mNone\u001b[39;00m:\n\u001b[0;32m--> 704\u001b[0m     \u001b[38;5;28;01mreturn\u001b[39;00m \u001b[43mplot_series\u001b[49m\u001b[43m(\u001b[49m\n\u001b[1;32m    705\u001b[0m \u001b[43m        \u001b[49m\u001b[43mdf\u001b[49m\u001b[38;5;241;43m.\u001b[39;49m\u001b[43mgeometry\u001b[49m\u001b[43m,\u001b[49m\n\u001b[1;32m    706\u001b[0m \u001b[43m        \u001b[49m\u001b[43mcmap\u001b[49m\u001b[38;5;241;43m=\u001b[39;49m\u001b[43mcmap\u001b[49m\u001b[43m,\u001b[49m\n\u001b[1;32m    707\u001b[0m \u001b[43m        \u001b[49m\u001b[43mcolor\u001b[49m\u001b[38;5;241;43m=\u001b[39;49m\u001b[43mcolor\u001b[49m\u001b[43m,\u001b[49m\n\u001b[1;32m    708\u001b[0m \u001b[43m        \u001b[49m\u001b[43max\u001b[49m\u001b[38;5;241;43m=\u001b[39;49m\u001b[43max\u001b[49m\u001b[43m,\u001b[49m\n\u001b[1;32m    709\u001b[0m \u001b[43m        \u001b[49m\u001b[43mfigsize\u001b[49m\u001b[38;5;241;43m=\u001b[39;49m\u001b[43mfigsize\u001b[49m\u001b[43m,\u001b[49m\n\u001b[1;32m    710\u001b[0m \u001b[43m        \u001b[49m\u001b[43mmarkersize\u001b[49m\u001b[38;5;241;43m=\u001b[39;49m\u001b[43mmarkersize\u001b[49m\u001b[43m,\u001b[49m\n\u001b[1;32m    711\u001b[0m \u001b[43m        \u001b[49m\u001b[43maspect\u001b[49m\u001b[38;5;241;43m=\u001b[39;49m\u001b[43maspect\u001b[49m\u001b[43m,\u001b[49m\n\u001b[1;32m    712\u001b[0m \u001b[43m        \u001b[49m\u001b[38;5;241;43m*\u001b[39;49m\u001b[38;5;241;43m*\u001b[39;49m\u001b[43mstyle_kwds\u001b[49m\u001b[43m,\u001b[49m\n\u001b[1;32m    713\u001b[0m \u001b[43m    \u001b[49m\u001b[43m)\u001b[49m\n\u001b[1;32m    715\u001b[0m \u001b[38;5;66;03m# To accept pd.Series and np.arrays as column\u001b[39;00m\n\u001b[1;32m    716\u001b[0m \u001b[38;5;28;01mif\u001b[39;00m \u001b[38;5;28misinstance\u001b[39m(column, (np\u001b[38;5;241m.\u001b[39mndarray, pd\u001b[38;5;241m.\u001b[39mSeries)):\n",
      "File \u001b[0;32m/opt/anaconda3/lib/python3.9/site-packages/geopandas/plotting.py:458\u001b[0m, in \u001b[0;36mplot_series\u001b[0;34m(s, cmap, color, ax, figsize, aspect, **style_kwds)\u001b[0m\n\u001b[1;32m    455\u001b[0m         facecolor \u001b[38;5;241m=\u001b[39m color_\n\u001b[1;32m    457\u001b[0m     values_ \u001b[38;5;241m=\u001b[39m values[poly_idx] \u001b[38;5;28;01mif\u001b[39;00m cmap \u001b[38;5;28;01melse\u001b[39;00m \u001b[38;5;28;01mNone\u001b[39;00m\n\u001b[0;32m--> 458\u001b[0m     \u001b[43m_plot_polygon_collection\u001b[49m\u001b[43m(\u001b[49m\n\u001b[1;32m    459\u001b[0m \u001b[43m        \u001b[49m\u001b[43max\u001b[49m\u001b[43m,\u001b[49m\u001b[43m \u001b[49m\u001b[43mpolys\u001b[49m\u001b[43m,\u001b[49m\u001b[43m \u001b[49m\u001b[43mvalues_\u001b[49m\u001b[43m,\u001b[49m\u001b[43m \u001b[49m\u001b[43mfacecolor\u001b[49m\u001b[38;5;241;43m=\u001b[39;49m\u001b[43mfacecolor\u001b[49m\u001b[43m,\u001b[49m\u001b[43m \u001b[49m\u001b[43mcmap\u001b[49m\u001b[38;5;241;43m=\u001b[39;49m\u001b[43mcmap\u001b[49m\u001b[43m,\u001b[49m\u001b[43m \u001b[49m\u001b[38;5;241;43m*\u001b[39;49m\u001b[38;5;241;43m*\u001b[39;49m\u001b[43mstyle_kwds\u001b[49m\n\u001b[1;32m    460\u001b[0m \u001b[43m    \u001b[49m\u001b[43m)\u001b[49m\n\u001b[1;32m    462\u001b[0m \u001b[38;5;66;03m# plot all LineStrings and MultiLineString components in same collection\u001b[39;00m\n\u001b[1;32m    463\u001b[0m lines \u001b[38;5;241m=\u001b[39m expl_series[line_idx]\n",
      "File \u001b[0;32m/opt/anaconda3/lib/python3.9/site-packages/geopandas/plotting.py:174\u001b[0m, in \u001b[0;36m_plot_polygon_collection\u001b[0;34m(ax, geoms, values, color, cmap, vmin, vmax, **kwargs)\u001b[0m\n\u001b[1;32m    170\u001b[0m     kwargs[\u001b[38;5;124m\"\u001b[39m\u001b[38;5;124mcolor\u001b[39m\u001b[38;5;124m\"\u001b[39m] \u001b[38;5;241m=\u001b[39m color\n\u001b[1;32m    172\u001b[0m _expand_kwargs(kwargs, multiindex)\n\u001b[0;32m--> 174\u001b[0m collection \u001b[38;5;241m=\u001b[39m \u001b[43mPatchCollection\u001b[49m\u001b[43m(\u001b[49m\n\u001b[1;32m    175\u001b[0m \u001b[43m    \u001b[49m\u001b[43m[\u001b[49m\u001b[43m_PolygonPatch\u001b[49m\u001b[43m(\u001b[49m\u001b[43mpoly\u001b[49m\u001b[43m)\u001b[49m\u001b[43m \u001b[49m\u001b[38;5;28;43;01mfor\u001b[39;49;00m\u001b[43m \u001b[49m\u001b[43mpoly\u001b[49m\u001b[43m \u001b[49m\u001b[38;5;129;43;01min\u001b[39;49;00m\u001b[43m \u001b[49m\u001b[43mgeoms\u001b[49m\u001b[43m \u001b[49m\u001b[38;5;28;43;01mif\u001b[39;49;00m\u001b[43m \u001b[49m\u001b[38;5;129;43;01mnot\u001b[39;49;00m\u001b[43m \u001b[49m\u001b[43mpoly\u001b[49m\u001b[38;5;241;43m.\u001b[39;49m\u001b[43mis_empty\u001b[49m\u001b[43m]\u001b[49m\u001b[43m,\u001b[49m\u001b[43m \u001b[49m\u001b[38;5;241;43m*\u001b[39;49m\u001b[38;5;241;43m*\u001b[39;49m\u001b[43mkwargs\u001b[49m\n\u001b[1;32m    176\u001b[0m \u001b[43m\u001b[49m\u001b[43m)\u001b[49m\n\u001b[1;32m    178\u001b[0m \u001b[38;5;28;01mif\u001b[39;00m values \u001b[38;5;129;01mis\u001b[39;00m \u001b[38;5;129;01mnot\u001b[39;00m \u001b[38;5;28;01mNone\u001b[39;00m:\n\u001b[1;32m    179\u001b[0m     collection\u001b[38;5;241m.\u001b[39mset_array(np\u001b[38;5;241m.\u001b[39masarray(values))\n",
      "File \u001b[0;32m/opt/anaconda3/lib/python3.9/site-packages/matplotlib/collections.py:1849\u001b[0m, in \u001b[0;36mPatchCollection.__init__\u001b[0;34m(self, patches, match_original, **kwargs)\u001b[0m\n\u001b[1;32m   1846\u001b[0m     kwargs[\u001b[38;5;124m'\u001b[39m\u001b[38;5;124mlinestyles\u001b[39m\u001b[38;5;124m'\u001b[39m] \u001b[38;5;241m=\u001b[39m [p\u001b[38;5;241m.\u001b[39mget_linestyle() \u001b[38;5;28;01mfor\u001b[39;00m p \u001b[38;5;129;01min\u001b[39;00m patches]\n\u001b[1;32m   1847\u001b[0m     kwargs[\u001b[38;5;124m'\u001b[39m\u001b[38;5;124mantialiaseds\u001b[39m\u001b[38;5;124m'\u001b[39m] \u001b[38;5;241m=\u001b[39m [p\u001b[38;5;241m.\u001b[39mget_antialiased() \u001b[38;5;28;01mfor\u001b[39;00m p \u001b[38;5;129;01min\u001b[39;00m patches]\n\u001b[0;32m-> 1849\u001b[0m \u001b[38;5;28;43msuper\u001b[39;49m\u001b[43m(\u001b[49m\u001b[43m)\u001b[49m\u001b[38;5;241;43m.\u001b[39;49m\u001b[38;5;21;43m__init__\u001b[39;49m\u001b[43m(\u001b[49m\u001b[38;5;241;43m*\u001b[39;49m\u001b[38;5;241;43m*\u001b[39;49m\u001b[43mkwargs\u001b[49m\u001b[43m)\u001b[49m\n\u001b[1;32m   1851\u001b[0m \u001b[38;5;28mself\u001b[39m\u001b[38;5;241m.\u001b[39mset_paths(patches)\n",
      "File \u001b[0;32m/opt/anaconda3/lib/python3.9/site-packages/matplotlib/collections.py:221\u001b[0m, in \u001b[0;36mCollection.__init__\u001b[0;34m(self, edgecolors, facecolors, linewidths, linestyles, capstyle, joinstyle, antialiaseds, offsets, transOffset, norm, cmap, pickradius, hatch, urls, zorder, **kwargs)\u001b[0m\n\u001b[1;32m    218\u001b[0m \u001b[38;5;28mself\u001b[39m\u001b[38;5;241m.\u001b[39m_transOffset \u001b[38;5;241m=\u001b[39m transOffset\n\u001b[1;32m    220\u001b[0m \u001b[38;5;28mself\u001b[39m\u001b[38;5;241m.\u001b[39m_path_effects \u001b[38;5;241m=\u001b[39m \u001b[38;5;28;01mNone\u001b[39;00m\n\u001b[0;32m--> 221\u001b[0m \u001b[38;5;28;43mself\u001b[39;49m\u001b[38;5;241;43m.\u001b[39;49m\u001b[43mupdate\u001b[49m\u001b[43m(\u001b[49m\u001b[43mkwargs\u001b[49m\u001b[43m)\u001b[49m\n\u001b[1;32m    222\u001b[0m \u001b[38;5;28mself\u001b[39m\u001b[38;5;241m.\u001b[39m_paths \u001b[38;5;241m=\u001b[39m \u001b[38;5;28;01mNone\u001b[39;00m\n",
      "File \u001b[0;32m/opt/anaconda3/lib/python3.9/site-packages/matplotlib/artist.py:1066\u001b[0m, in \u001b[0;36mArtist.update\u001b[0;34m(self, props)\u001b[0m\n\u001b[1;32m   1063\u001b[0m             \u001b[38;5;28;01mif\u001b[39;00m \u001b[38;5;129;01mnot\u001b[39;00m callable(func):\n\u001b[1;32m   1064\u001b[0m                 \u001b[38;5;28;01mraise\u001b[39;00m \u001b[38;5;167;01mAttributeError\u001b[39;00m(\u001b[38;5;124mf\u001b[39m\u001b[38;5;124m\"\u001b[39m\u001b[38;5;132;01m{\u001b[39;00m\u001b[38;5;28mtype\u001b[39m(\u001b[38;5;28mself\u001b[39m)\u001b[38;5;241m.\u001b[39m\u001b[38;5;18m__name__\u001b[39m\u001b[38;5;132;01m!r}\u001b[39;00m\u001b[38;5;124m object \u001b[39m\u001b[38;5;124m\"\u001b[39m\n\u001b[1;32m   1065\u001b[0m                                      \u001b[38;5;124mf\u001b[39m\u001b[38;5;124m\"\u001b[39m\u001b[38;5;124mhas no property \u001b[39m\u001b[38;5;132;01m{\u001b[39;00mk\u001b[38;5;132;01m!r}\u001b[39;00m\u001b[38;5;124m\"\u001b[39m)\n\u001b[0;32m-> 1066\u001b[0m             ret\u001b[38;5;241m.\u001b[39mappend(\u001b[43mfunc\u001b[49m\u001b[43m(\u001b[49m\u001b[43mv\u001b[49m\u001b[43m)\u001b[49m)\n\u001b[1;32m   1067\u001b[0m \u001b[38;5;28;01mif\u001b[39;00m ret:\n\u001b[1;32m   1068\u001b[0m     \u001b[38;5;28mself\u001b[39m\u001b[38;5;241m.\u001b[39mpchanged()\n",
      "File \u001b[0;32m/opt/anaconda3/lib/python3.9/site-packages/matplotlib/collections.py:770\u001b[0m, in \u001b[0;36mCollection.set_facecolor\u001b[0;34m(self, c)\u001b[0m\n\u001b[1;32m    768\u001b[0m     c \u001b[38;5;241m=\u001b[39m c\u001b[38;5;241m.\u001b[39mlower()\n\u001b[1;32m    769\u001b[0m \u001b[38;5;28mself\u001b[39m\u001b[38;5;241m.\u001b[39m_original_facecolor \u001b[38;5;241m=\u001b[39m c\n\u001b[0;32m--> 770\u001b[0m \u001b[38;5;28;43mself\u001b[39;49m\u001b[38;5;241;43m.\u001b[39;49m\u001b[43m_set_facecolor\u001b[49m\u001b[43m(\u001b[49m\u001b[43mc\u001b[49m\u001b[43m)\u001b[49m\n",
      "File \u001b[0;32m/opt/anaconda3/lib/python3.9/site-packages/matplotlib/collections.py:752\u001b[0m, in \u001b[0;36mCollection._set_facecolor\u001b[0;34m(self, c)\u001b[0m\n\u001b[1;32m    749\u001b[0m \u001b[38;5;28;01mif\u001b[39;00m c \u001b[38;5;129;01mis\u001b[39;00m \u001b[38;5;28;01mNone\u001b[39;00m:\n\u001b[1;32m    750\u001b[0m     c \u001b[38;5;241m=\u001b[39m \u001b[38;5;28mself\u001b[39m\u001b[38;5;241m.\u001b[39m_get_default_facecolor()\n\u001b[0;32m--> 752\u001b[0m \u001b[38;5;28mself\u001b[39m\u001b[38;5;241m.\u001b[39m_facecolors \u001b[38;5;241m=\u001b[39m \u001b[43mmcolors\u001b[49m\u001b[38;5;241;43m.\u001b[39;49m\u001b[43mto_rgba_array\u001b[49m\u001b[43m(\u001b[49m\u001b[43mc\u001b[49m\u001b[43m,\u001b[49m\u001b[43m \u001b[49m\u001b[38;5;28;43mself\u001b[39;49m\u001b[38;5;241;43m.\u001b[39;49m\u001b[43m_alpha\u001b[49m\u001b[43m)\u001b[49m\n\u001b[1;32m    753\u001b[0m \u001b[38;5;28mself\u001b[39m\u001b[38;5;241m.\u001b[39mstale \u001b[38;5;241m=\u001b[39m \u001b[38;5;28;01mTrue\u001b[39;00m\n",
      "File \u001b[0;32m/opt/anaconda3/lib/python3.9/site-packages/matplotlib/colors.py:377\u001b[0m, in \u001b[0;36mto_rgba_array\u001b[0;34m(c, alpha)\u001b[0m\n\u001b[1;32m    375\u001b[0m         rgba \u001b[38;5;241m=\u001b[39m np\u001b[38;5;241m.\u001b[39marray([to_rgba(cc) \u001b[38;5;28;01mfor\u001b[39;00m cc \u001b[38;5;129;01min\u001b[39;00m c])\n\u001b[1;32m    376\u001b[0m \u001b[38;5;28;01melse\u001b[39;00m:\n\u001b[0;32m--> 377\u001b[0m     rgba \u001b[38;5;241m=\u001b[39m np\u001b[38;5;241m.\u001b[39marray([to_rgba(cc) \u001b[38;5;28;01mfor\u001b[39;00m cc \u001b[38;5;129;01min\u001b[39;00m c])\n\u001b[1;32m    379\u001b[0m \u001b[38;5;28;01mif\u001b[39;00m alpha \u001b[38;5;129;01mis\u001b[39;00m \u001b[38;5;129;01mnot\u001b[39;00m \u001b[38;5;28;01mNone\u001b[39;00m:\n\u001b[1;32m    380\u001b[0m     rgba[:, \u001b[38;5;241m3\u001b[39m] \u001b[38;5;241m=\u001b[39m alpha\n",
      "File \u001b[0;32m/opt/anaconda3/lib/python3.9/site-packages/matplotlib/colors.py:377\u001b[0m, in \u001b[0;36m<listcomp>\u001b[0;34m(.0)\u001b[0m\n\u001b[1;32m    375\u001b[0m         rgba \u001b[38;5;241m=\u001b[39m np\u001b[38;5;241m.\u001b[39marray([to_rgba(cc) \u001b[38;5;28;01mfor\u001b[39;00m cc \u001b[38;5;129;01min\u001b[39;00m c])\n\u001b[1;32m    376\u001b[0m \u001b[38;5;28;01melse\u001b[39;00m:\n\u001b[0;32m--> 377\u001b[0m     rgba \u001b[38;5;241m=\u001b[39m np\u001b[38;5;241m.\u001b[39marray([\u001b[43mto_rgba\u001b[49m\u001b[43m(\u001b[49m\u001b[43mcc\u001b[49m\u001b[43m)\u001b[49m \u001b[38;5;28;01mfor\u001b[39;00m cc \u001b[38;5;129;01min\u001b[39;00m c])\n\u001b[1;32m    379\u001b[0m \u001b[38;5;28;01mif\u001b[39;00m alpha \u001b[38;5;129;01mis\u001b[39;00m \u001b[38;5;129;01mnot\u001b[39;00m \u001b[38;5;28;01mNone\u001b[39;00m:\n\u001b[1;32m    380\u001b[0m     rgba[:, \u001b[38;5;241m3\u001b[39m] \u001b[38;5;241m=\u001b[39m alpha\n",
      "File \u001b[0;32m/opt/anaconda3/lib/python3.9/site-packages/matplotlib/colors.py:187\u001b[0m, in \u001b[0;36mto_rgba\u001b[0;34m(c, alpha)\u001b[0m\n\u001b[1;32m    185\u001b[0m     rgba \u001b[38;5;241m=\u001b[39m \u001b[38;5;28;01mNone\u001b[39;00m\n\u001b[1;32m    186\u001b[0m \u001b[38;5;28;01mif\u001b[39;00m rgba \u001b[38;5;129;01mis\u001b[39;00m \u001b[38;5;28;01mNone\u001b[39;00m:  \u001b[38;5;66;03m# Suppress exception chaining of cache lookup failure.\u001b[39;00m\n\u001b[0;32m--> 187\u001b[0m     rgba \u001b[38;5;241m=\u001b[39m \u001b[43m_to_rgba_no_colorcycle\u001b[49m\u001b[43m(\u001b[49m\u001b[43mc\u001b[49m\u001b[43m,\u001b[49m\u001b[43m \u001b[49m\u001b[43malpha\u001b[49m\u001b[43m)\u001b[49m\n\u001b[1;32m    188\u001b[0m     \u001b[38;5;28;01mtry\u001b[39;00m:\n\u001b[1;32m    189\u001b[0m         _colors_full_map\u001b[38;5;241m.\u001b[39mcache[c, alpha] \u001b[38;5;241m=\u001b[39m rgba\n",
      "File \u001b[0;32m/opt/anaconda3/lib/python3.9/site-packages/matplotlib/colors.py:269\u001b[0m, in \u001b[0;36m_to_rgba_no_colorcycle\u001b[0;34m(c, alpha)\u001b[0m\n\u001b[1;32m    267\u001b[0m \u001b[38;5;66;03m# tuple color.\u001b[39;00m\n\u001b[1;32m    268\u001b[0m \u001b[38;5;28;01mif\u001b[39;00m \u001b[38;5;129;01mnot\u001b[39;00m np\u001b[38;5;241m.\u001b[39miterable(c):\n\u001b[0;32m--> 269\u001b[0m     \u001b[38;5;28;01mraise\u001b[39;00m \u001b[38;5;167;01mValueError\u001b[39;00m(\u001b[38;5;124mf\u001b[39m\u001b[38;5;124m\"\u001b[39m\u001b[38;5;124mInvalid RGBA argument: \u001b[39m\u001b[38;5;132;01m{\u001b[39;00morig_c\u001b[38;5;132;01m!r}\u001b[39;00m\u001b[38;5;124m\"\u001b[39m)\n\u001b[1;32m    270\u001b[0m \u001b[38;5;28;01mif\u001b[39;00m \u001b[38;5;28mlen\u001b[39m(c) \u001b[38;5;129;01mnot\u001b[39;00m \u001b[38;5;129;01min\u001b[39;00m [\u001b[38;5;241m3\u001b[39m, \u001b[38;5;241m4\u001b[39m]:\n\u001b[1;32m    271\u001b[0m     \u001b[38;5;28;01mraise\u001b[39;00m \u001b[38;5;167;01mValueError\u001b[39;00m(\u001b[38;5;124m\"\u001b[39m\u001b[38;5;124mRGBA sequence should have length 3 or 4\u001b[39m\u001b[38;5;124m\"\u001b[39m)\n",
      "\u001b[0;31mValueError\u001b[0m: Invalid RGBA argument: nan"
     ]
    }
   ],
   "source": [
    "%%time\n",
    "cutAndprint(zur, 250, path+'train/')"
   ]
  },
  {
   "cell_type": "markdown",
   "id": "5c2efdaf-6eee-4e0a-9698-0b9bfaf875b8",
   "metadata": {},
   "source": [
    "# Open and convert data to environment"
   ]
  },
  {
   "cell_type": "code",
   "execution_count": null,
   "id": "759816e6-a904-4e8a-80ef-638bdbfeb71e",
   "metadata": {},
   "outputs": [],
   "source": []
  },
  {
   "cell_type": "code",
   "execution_count": null,
   "id": "70b67a40-ea07-4fc2-9dd7-2386d7e424e1",
   "metadata": {},
   "outputs": [],
   "source": []
  },
  {
   "cell_type": "code",
   "execution_count": null,
   "id": "7e5df88a-9258-47e8-80ad-df7d703699fe",
   "metadata": {},
   "outputs": [],
   "source": []
  },
  {
   "cell_type": "code",
   "execution_count": null,
   "id": "57b0f8e7-2006-4bea-9e7f-196412409d40",
   "metadata": {},
   "outputs": [],
   "source": []
  }
 ],
 "metadata": {
  "kernelspec": {
   "display_name": "Python 3 (ipykernel)",
   "language": "python",
   "name": "python3"
  },
  "language_info": {
   "codemirror_mode": {
    "name": "ipython",
    "version": 3
   },
   "file_extension": ".py",
   "mimetype": "text/x-python",
   "name": "python",
   "nbconvert_exporter": "python",
   "pygments_lexer": "ipython3",
   "version": "3.9.12"
  }
 },
 "nbformat": 4,
 "nbformat_minor": 5
}
