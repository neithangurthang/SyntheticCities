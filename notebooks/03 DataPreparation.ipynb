{
 "cells": [
  {
   "cell_type": "markdown",
   "id": "57649327-6522-49a7-a671-df9e2d034592",
   "metadata": {},
   "source": [
    "# Data Preparation"
   ]
  },
  {
   "cell_type": "code",
   "execution_count": 2,
   "id": "16661cf8-c02a-4df4-819f-7317a24ac716",
   "metadata": {},
   "outputs": [],
   "source": [
    "import pandas as pd\n",
    "import numpy as np\n",
    "import geopandas as gpd\n",
    "import fiona\n",
    "from shapely.geometry import Polygon\n",
    "import matplotlib.pyplot as plt\n",
    "import matplotlib as mpl\n",
    "\n",
    "%load_ext autoreload\n",
    "%autoreload 2\n",
    "%matplotlib inline"
   ]
  },
  {
   "cell_type": "code",
   "execution_count": 3,
   "id": "ced1939b-576e-4316-ba7b-4653600a45ca",
   "metadata": {},
   "outputs": [
    {
     "data": {
      "text/plain": [
       "['cppt',\n",
       " 'dprsf',\n",
       " 'dprsfproj',\n",
       " 'hadr',\n",
       " 'lcobj',\n",
       " 'lcsf',\n",
       " 'lcsfproj',\n",
       " 'lnna',\n",
       " 'locpos',\n",
       " 'mbsf',\n",
       " 'osbp',\n",
       " 'osnr',\n",
       " 'osnrproj',\n",
       " 'plli',\n",
       " 'plna',\n",
       " 'plsf',\n",
       " 'resf',\n",
       " 'resfhl',\n",
       " 'resfproj',\n",
       " 'slide',\n",
       " 'slideobj',\n",
       " 'soli',\n",
       " 'soobj',\n",
       " 'sopt',\n",
       " 'sosf',\n",
       " 'tbbp',\n",
       " 'tbli']"
      ]
     },
     "execution_count": 3,
     "metadata": {},
     "output_type": "execute_result"
    }
   ],
   "source": [
    "src = \"../data/zg_av_lv95.gpkg\"\n",
    "fiona.listlayers(src)"
   ]
  },
  {
   "cell_type": "code",
   "execution_count": 4,
   "id": "f2d65c02-4177-4ba4-a59a-fe790b1bddff",
   "metadata": {},
   "outputs": [],
   "source": [
    "zur = gpd.read_file(\"../data/zh_av_lv95.gpkg\", layer='lcsf')"
   ]
  },
  {
   "cell_type": "code",
   "execution_count": 5,
   "id": "5b34ba0e-fdac-4283-b8ea-d28fd7719ab8",
   "metadata": {},
   "outputs": [],
   "source": [
    "zug = gpd.read_file(src, layer='lcsf')\n",
    "# zug.plot(figsize=(16,8))"
   ]
  },
  {
   "cell_type": "code",
   "execution_count": 6,
   "id": "8935fde5-e4f3-4084-be9e-6080074ee139",
   "metadata": {},
   "outputs": [],
   "source": [
    "minX, minY, maxX, maxY = zug.total_bounds"
   ]
  },
  {
   "cell_type": "code",
   "execution_count": 7,
   "id": "4f9d6052-5479-42c8-81ac-20eaecb8a2e8",
   "metadata": {},
   "outputs": [
    {
     "data": {
      "text/plain": [
       "<Derived Projected CRS: EPSG:2056>\n",
       "Name: CH1903+ / LV95\n",
       "Axis Info [cartesian]:\n",
       "- E[east]: Easting (metre)\n",
       "- N[north]: Northing (metre)\n",
       "Area of Use:\n",
       "- name: Liechtenstein; Switzerland.\n",
       "- bounds: (5.96, 45.82, 10.49, 47.81)\n",
       "Coordinate Operation:\n",
       "- name: Swiss Oblique Mercator 1995\n",
       "- method: Hotine Oblique Mercator (variant B)\n",
       "Datum: CH1903+\n",
       "- Ellipsoid: Bessel 1841\n",
       "- Prime Meridian: Greenwich"
      ]
     },
     "execution_count": 7,
     "metadata": {},
     "output_type": "execute_result"
    }
   ],
   "source": [
    "zug.crs"
   ]
  },
  {
   "cell_type": "code",
   "execution_count": 8,
   "id": "203ecfba-44b4-4b41-9a15-9007fd15ff50",
   "metadata": {},
   "outputs": [
    {
     "data": {
      "text/plain": [
       "23331.305999999866"
      ]
     },
     "execution_count": 8,
     "metadata": {},
     "output_type": "execute_result"
    }
   ],
   "source": [
    "maxX-minX"
   ]
  },
  {
   "cell_type": "code",
   "execution_count": 9,
   "id": "e104a5c7-a658-4fa8-9f3b-3f6a157093d4",
   "metadata": {},
   "outputs": [
    {
     "data": {
      "text/plain": [
       "18445.216999999946"
      ]
     },
     "execution_count": 9,
     "metadata": {},
     "output_type": "execute_result"
    }
   ],
   "source": [
    "maxY-minY"
   ]
  },
  {
   "cell_type": "markdown",
   "id": "47753184-c2fb-4fa2-9182-1dc2bbedd922",
   "metadata": {},
   "source": [
    "# Manipulation and Export"
   ]
  },
  {
   "cell_type": "code",
   "execution_count": 6,
   "id": "f0b33281-dc20-4a00-88af-c385a30eb01e",
   "metadata": {},
   "outputs": [],
   "source": [
    "colMap = {'edificio':'k', \n",
    "          'altro_rivestimento_duro':'w', \n",
    "          'giardino':'dimgray', \n",
    "          'marciapiede':'w',\n",
    "          'campo_prato_pascolo':'dimgray',\n",
    "          'altro_humus':'dimgray',\n",
    "          'vigna':'dimgray',\n",
    "          'ferrovia': 'dimgray',\n",
    "          'bosco_fitto': 'dimgray', \n",
    "          'bacino_idrico': 'dimgray', \n",
    "          'spartitraffico':'w', \n",
    "          'corso_acqua':'dimgray',\n",
    "          'specchio_acqua':'dimgray', \n",
    "          'strada_sentiero':'w',\n",
    "          'pietraia_sabbia':'dimgray',\n",
    "          'torbiera': 'dimgray',\n",
    "          'altra_coltura_intensiva': 'dimgray',\n",
    "          'altro_bosco': 'dimgray',\n",
    "          'cava_di_ghiaia_discarica': 'dimgray',\n",
    "          'pascolo_boscato_fitto': 'dimgray',\n",
    "          'canneti': 'dimgray',\n",
    "          'roccia': 'dimgray',\n",
    "          'bacino_idrico': 'dimgray',\n",
    "          'specchio_acqua': 'dimgray'\n",
    "         }"
   ]
  },
  {
   "cell_type": "code",
   "execution_count": 7,
   "id": "bccbd1d0-922f-4885-ac33-ec9ccc7de5c7",
   "metadata": {},
   "outputs": [],
   "source": [
    "def cutAndprint(geometries, step, path):\n",
    "    minX, minY, maxX, maxY = geometries.total_bounds\n",
    "    repsX, repsY= int((maxX-minX)/step), int((maxY-minY)/step)\n",
    "    for x in range(repsX):#range(1):\n",
    "        for y in range(repsY): #range(1):\n",
    "            box = gpd.GeoSeries([Polygon([(minX + (x+0) * step, minY + (y+0) * step),\n",
    "                                         (minX + (x+1) * step, minY + (y+0) * step),\n",
    "                                         (minX + (x+1) * step, minY + (y+1) * step),\n",
    "                                         (minX + (x+0) * step, minY + (y+1) * step)])\n",
    "                                      ],)\n",
    "            boxGDF = gpd.GeoDataFrame.from_features(box)\n",
    "            boxGDF = boxGDF.set_crs('EPSG:2056')\n",
    "            res = gpd.sjoin(geometries, boxGDF, how='inner', predicate='intersects')\n",
    "            res['col']= res['Genere'].map(colMap)\n",
    "            nObjs = res.shape[0]\n",
    "            nBld = res[res.Genere == 'edificio'].shape[0]\n",
    "            \n",
    "            # PLOT\n",
    "            resolution = 72 # in dpi\n",
    "            plt.ioff() # turns off interactive plotting\n",
    "            if (nObjs > 100) and (nBld>10): # only interesting plots\n",
    "                filename = path + 'CadastralX' + str(int(minX+x*step)) + 'Y' + str(int(minY+y*step)) + 'S' + str(step) + \".png\" \n",
    "                #larger size, to use the crop in the dataloader\n",
    "                res_multiplier = 20\n",
    "                fig, ax = plt.subplots(figsize=(res_multiplier*64/resolution,res_multiplier*64/resolution), dpi=resolution, frameon=False)\n",
    "                ax = plt.axes([0,0,1,1], frameon=False)\n",
    "                ax.get_xaxis().set_visible(False)\n",
    "                ax.get_yaxis().set_visible(False)\n",
    "                plt.autoscale(tight=True)\n",
    "                mpl.rcParams['savefig.pad_inches'] = 0\n",
    "                \n",
    "                ax.set_xlim(boxGDF.bounds['minx'].item(), boxGDF.bounds['maxx'].item())\n",
    "                ax.set_ylim(boxGDF.bounds['miny'].item(), boxGDF.bounds['maxy'].item())\n",
    "                res.plot(ax=ax, color=res['col'])\n",
    "                plt.savefig(filename)\n",
    "                plt.close(fig)\n",
    "                # EXPORT CSV INSTEAD OF IMAGE WITH XCOORD, YCOORD, REWARD\n",
    "            \n",
    "            # print(\"Geometries in raster: {} | Box: X({}, {}), Y({}, {})\".format(res.shape[0],\n",
    "            #      box.total_bounds[0], box.total_bounds[2], \n",
    "            #      box.total_bounds[1], box.total_bounds[3]))"
   ]
  },
  {
   "cell_type": "code",
   "execution_count": null,
   "id": "761fc58d-8cd1-4168-ab7d-e84cf0312d6c",
   "metadata": {
    "tags": []
   },
   "outputs": [],
   "source": [
    "%%time\n",
    "path = '../data/cadastralExport/'\n",
    "cutAndprint(zug, 250, path)"
   ]
  },
  {
   "cell_type": "code",
   "execution_count": 8,
   "id": "94d485da-dc88-4c95-af4e-8ada850a8964",
   "metadata": {},
   "outputs": [
    {
     "ename": "NameError",
     "evalue": "name 'path' is not defined",
     "output_type": "error",
     "traceback": [
      "\u001b[0;31m---------------------------------------------------------------------------\u001b[0m",
      "\u001b[0;31mNameError\u001b[0m                                 Traceback (most recent call last)",
      "File \u001b[0;32m<timed eval>:1\u001b[0m, in \u001b[0;36m<module>\u001b[0;34m\u001b[0m\n",
      "\u001b[0;31mNameError\u001b[0m: name 'path' is not defined"
     ]
    }
   ],
   "source": [
    "%%time\n",
    "cutAndprint(zur, 250, path)"
   ]
  },
  {
   "cell_type": "markdown",
   "id": "5c2efdaf-6eee-4e0a-9698-0b9bfaf875b8",
   "metadata": {},
   "source": [
    "# Open and convert data to environment"
   ]
  },
  {
   "cell_type": "code",
   "execution_count": null,
   "id": "759816e6-a904-4e8a-80ef-638bdbfeb71e",
   "metadata": {},
   "outputs": [],
   "source": []
  },
  {
   "cell_type": "code",
   "execution_count": null,
   "id": "70b67a40-ea07-4fc2-9dd7-2386d7e424e1",
   "metadata": {},
   "outputs": [],
   "source": []
  },
  {
   "cell_type": "code",
   "execution_count": null,
   "id": "7e5df88a-9258-47e8-80ad-df7d703699fe",
   "metadata": {},
   "outputs": [],
   "source": []
  },
  {
   "cell_type": "code",
   "execution_count": null,
   "id": "57b0f8e7-2006-4bea-9e7f-196412409d40",
   "metadata": {},
   "outputs": [],
   "source": []
  }
 ],
 "metadata": {
  "kernelspec": {
   "display_name": "Python 3 (ipykernel)",
   "language": "python",
   "name": "python3"
  },
  "language_info": {
   "codemirror_mode": {
    "name": "ipython",
    "version": 3
   },
   "file_extension": ".py",
   "mimetype": "text/x-python",
   "name": "python",
   "nbconvert_exporter": "python",
   "pygments_lexer": "ipython3",
   "version": "3.9.12"
  }
 },
 "nbformat": 4,
 "nbformat_minor": 5
}
